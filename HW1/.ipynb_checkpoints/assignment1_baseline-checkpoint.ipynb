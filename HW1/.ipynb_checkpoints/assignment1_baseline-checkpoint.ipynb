{
 "cells": [
  {
   "cell_type": "code",
   "execution_count": null,
   "id": "Xsp9npRKQZiC",
   "metadata": {
    "executionInfo": {
     "elapsed": 287,
     "status": "ok",
     "timestamp": 1711711321032,
     "user": {
      "displayName": "Beom Kwon",
      "userId": "03241551760080679008"
     },
     "user_tz": -540
    },
    "id": "Xsp9npRKQZiC"
   },
   "outputs": [],
   "source": [
    "from sklearn.model_selection import train_test_split\n",
    "from sklearn.metrics import mean_absolute_error\n",
    "import matplotlib.pyplot as plt\n",
    "import pandas as pd\n",
    "import numpy as np"
   ]
  },
  {
   "cell_type": "code",
   "execution_count": null,
   "id": "63443b97",
   "metadata": {
    "colab": {
     "base_uri": "https://localhost:8080/"
    },
    "executionInfo": {
     "elapsed": 2,
     "status": "ok",
     "timestamp": 1711711326635,
     "user": {
      "displayName": "Beom Kwon",
      "userId": "03241551760080679008"
     },
     "user_tz": -540
    },
    "id": "63443b97",
    "outputId": "f3ae28f4-8ff5-4b11-8d8d-7219d698b0a0",
    "papermill": {
     "duration": 0.005817,
     "end_time": "2024-03-16T20:31:42.022603",
     "exception": false,
     "start_time": "2024-03-16T20:31:42.016786",
     "status": "completed"
    },
    "tags": []
   },
   "outputs": [],
   "source": [
    "data_train = pd.read_csv(\"./train.csv\")\n",
    "x = data_train[data_train.columns[0]]\n",
    "y = data_train[data_train.columns[1]]\n",
    "\n",
    "x_train, x_val, y_train, y_val = train_test_split(x, y, test_size=0.25, random_state=42)\n",
    "\n",
    "x_train = x_train.to_numpy().reshape(-1, 1)\n",
    "x_val = x_val.to_numpy().reshape(-1, 1)\n",
    "x_test = pd.read_csv(\"./test.csv\").to_numpy().reshape(-1, 1)\n",
    "\n",
    "print(x_train.shape, x_val.shape, x_test.shape)\n",
    "print(y_train.shape, y_val.shape)"
   ]
  },
  {
   "cell_type": "code",
   "execution_count": null,
   "id": "UoyoksE0Ueqc",
   "metadata": {
    "colab": {
     "base_uri": "https://localhost:8080/",
     "height": 311
    },
    "executionInfo": {
     "elapsed": 1626,
     "status": "ok",
     "timestamp": 1711711328260,
     "user": {
      "displayName": "Beom Kwon",
      "userId": "03241551760080679008"
     },
     "user_tz": -540
    },
    "id": "UoyoksE0Ueqc",
    "outputId": "c032812b-e85b-48a8-a1f2-822f9a695f56"
   },
   "outputs": [],
   "source": [
    "plt.figure(figsize=(9, 3))\n",
    "plt.subplot(1, 2, 1)\n",
    "plt.scatter(x_train, y_train, s=0.3, color='r')\n",
    "plt.xlabel(\"height [cm]\")\n",
    "plt.ylabel(\"weight [kg]\")\n",
    "plt.xlim([100, 200])\n",
    "plt.ylim([0, 130])\n",
    "plt.grid()\n",
    "\n",
    "plt.subplot(1, 2, 2)\n",
    "plt.scatter(x_val, y_val, s=0.3, color='g')\n",
    "plt.xlabel(\"height [cm]\")\n",
    "plt.ylabel(\"weight [kg]\")\n",
    "plt.xlim([100, 200])\n",
    "plt.ylim([0, 130])\n",
    "plt.grid()\n",
    "\n",
    "plt.show()"
   ]
  },
  {
   "cell_type": "code",
   "execution_count": null,
   "id": "rQFYUSgSRo_w",
   "metadata": {
    "colab": {
     "base_uri": "https://localhost:8080/"
    },
    "executionInfo": {
     "elapsed": 760,
     "status": "ok",
     "timestamp": 1711712331976,
     "user": {
      "displayName": "Beom Kwon",
      "userId": "03241551760080679008"
     },
     "user_tz": -540
    },
    "id": "rQFYUSgSRo_w",
    "outputId": "63a84714-f790-46a7-8b27-d5ca10851e56"
   },
   "outputs": [],
   "source": [
    "from sklearn.linear_model import LinearRegression\n",
    "\n",
    "lr = LinearRegression()\n",
    "lr.fit(x_train, y_train)\n",
    "\n",
    "y_pred = lr.predict(x_test) # Baseline 성능 평가에 활용\n",
    "\n",
    "print(\"계수:\", lr.coef_)\n",
    "print(\"절편:\", lr.intercept_)\n",
    "\n",
    "print(\"학습용:\", lr.score(x_train, y_train))\n",
    "print(\"검증용:\", lr.score(x_val, y_val))"
   ]
  },
  {
   "cell_type": "code",
   "execution_count": null,
   "id": "VxMsQUlYigxH",
   "metadata": {
    "colab": {
     "base_uri": "https://localhost:8080/",
     "height": 449
    },
    "executionInfo": {
     "elapsed": 5,
     "status": "ok",
     "timestamp": 1711711328260,
     "user": {
      "displayName": "Beom Kwon",
      "userId": "03241551760080679008"
     },
     "user_tz": -540
    },
    "id": "VxMsQUlYigxH",
    "outputId": "3108e2ce-2cf3-468e-f7a8-dd09975391fe",
    "tags": []
   },
   "outputs": [],
   "source": [
    "a = lr.coef_\n",
    "b = lr.intercept_\n",
    "\n",
    "height_tmp = np.arange(100, 200, 1)\n",
    "weight_tmp = a * height_tmp + b\n",
    "\n",
    "plt.figure()\n",
    "plt.scatter(x_train, y_train, s=0.3, color='r')\n",
    "plt.plot(height_tmp, weight_tmp, color='b')\n",
    "plt.xlabel(\"height [cm]\")\n",
    "plt.ylabel(\"weight [kg] \")\n",
    "plt.grid()\n",
    "plt.show()"
   ]
  }
 ],
 "metadata": {
  "colab": {
   "provenance": []
  },
  "kaggle": {
   "accelerator": "none",
   "dataSources": [
    {
     "datasetId": 3462333,
     "sourceId": 6051848,
     "sourceType": "datasetVersion"
    }
   ],
   "dockerImageVersionId": 30664,
   "isGpuEnabled": false,
   "isInternetEnabled": true,
   "language": "python",
   "sourceType": "notebook"
  },
  "kernelspec": {
   "display_name": "Python 3 (ipykernel)",
   "language": "python",
   "name": "python3"
  },
  "language_info": {
   "codemirror_mode": {
    "name": "ipython",
    "version": 3
   },
   "file_extension": ".py",
   "mimetype": "text/x-python",
   "name": "python",
   "nbconvert_exporter": "python",
   "pygments_lexer": "ipython3",
   "version": "3.11.9"
  },
  "papermill": {
   "default_parameters": {},
   "duration": 9.614772,
   "end_time": "2024-03-16T20:31:42.751419",
   "environment_variables": {},
   "exception": null,
   "input_path": "__notebook__.ipynb",
   "output_path": "__notebook__.ipynb",
   "parameters": {},
   "start_time": "2024-03-16T20:31:33.136647",
   "version": "2.5.0"
  }
 },
 "nbformat": 4,
 "nbformat_minor": 5
}
