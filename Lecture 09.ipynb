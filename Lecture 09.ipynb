{
 "cells": [
  {
   "cell_type": "markdown",
   "id": "575557c0-c318-4953-bed9-53656e32fed7",
   "metadata": {
    "tags": []
   },
   "source": [
    "### **Chapter 01. 럭키백의 확률**"
   ]
  },
  {
   "cell_type": "code",
   "execution_count": 1,
   "id": "7b2c2450-b5ba-43f9-84b2-7c55485a4692",
   "metadata": {
    "tags": []
   },
   "outputs": [
    {
     "name": "stdout",
     "output_type": "stream",
     "text": [
      "<class 'pandas.core.frame.DataFrame'>\n",
      "(159, 7)\n",
      "  Species  Weight  Length1  Length2  Length3   Height   Width\n",
      "0   Bream   242.0     23.2     25.4     30.0  11.5200  4.0200\n",
      "1   Bream   290.0     24.0     26.3     31.2  12.4800  4.3056\n",
      "2   Bream   340.0     23.9     26.5     31.1  12.3778  4.6961\n"
     ]
    }
   ],
   "source": [
    "import pandas as pd\n",
    "\n",
    "fish = pd.read_csv(\"Fish.csv\")\n",
    "print(type(fish))\n",
    "print(fish.shape)\n",
    "print(fish.head(3))"
   ]
  },
  {
   "cell_type": "code",
   "execution_count": 2,
   "id": "8f161286-94c8-48c8-ac53-a366f99ab6b9",
   "metadata": {
    "tags": []
   },
   "outputs": [
    {
     "data": {
      "text/plain": [
       "array(['Bream', 'Roach', 'Whitefish', 'Parkki', 'Perch', 'Pike', 'Smelt'],\n",
       "      dtype=object)"
      ]
     },
     "execution_count": 2,
     "metadata": {},
     "output_type": "execute_result"
    }
   ],
   "source": [
    "pd.unique(fish[\"Species\"])"
   ]
  },
  {
   "cell_type": "code",
   "execution_count": 3,
   "id": "e06d1e90-1434-48ed-97b6-7b1d2ba4d5d7",
   "metadata": {
    "tags": []
   },
   "outputs": [],
   "source": [
    "# x(특성, features) 추출하기!\n",
    "# loc, iloc, etc.\n",
    "x = fish[[\"Weight\", \"Length2\", \"Length3\", \"Height\", \"Width\"]]\n",
    "x.head(3)\n",
    "x = x.to_numpy()"
   ]
  },
  {
   "cell_type": "code",
   "execution_count": 4,
   "id": "80608cfc-1f11-4932-acd7-fd5d0bccd6f7",
   "metadata": {
    "tags": []
   },
   "outputs": [
    {
     "name": "stdout",
     "output_type": "stream",
     "text": [
      "<class 'pandas.core.series.Series'>\n",
      "(159,)\n",
      "0    Bream\n",
      "1    Bream\n",
      "2    Bream\n",
      "Name: Species, dtype: object\n",
      "<class 'numpy.ndarray'>\n",
      "['Bream' 'Bream' 'Bream' 'Bream' 'Bream']\n"
     ]
    }
   ],
   "source": [
    "# y(레이블, label) 추출하기!\n",
    "\n",
    "y = fish[\"Species\"] # 방법1\n",
    "print(type(y)) # Series <- 1-D 배열\n",
    "print(y.shape) # (159,) <- 1-D 배열(벡터)\n",
    "print(y.head(3))\n",
    "\n",
    "y = y.to_numpy()\n",
    "print(type(y))\n",
    "print(y[:5])"
   ]
  },
  {
   "cell_type": "code",
   "execution_count": 5,
   "id": "013f23e8-0256-4ef7-8563-1f584f0177cc",
   "metadata": {
    "tags": []
   },
   "outputs": [
    {
     "data": {
      "text/plain": [
       "'\\ny = fish[[\"Species\"]] # 방법2\\nprint(type(y)) # DataFrame <- 2-D 배열\\nprint(y.shape) # (159, 1) <- 2-D 배열\\nprint(y.head(3))\\n\\ny = y.to_numpy()\\nprint(type(y))\\nprint(y[:5])\\n'"
      ]
     },
     "execution_count": 5,
     "metadata": {},
     "output_type": "execute_result"
    }
   ],
   "source": [
    "'''\n",
    "y = fish[[\"Species\"]] # 방법2\n",
    "print(type(y)) # DataFrame <- 2-D 배열\n",
    "print(y.shape) # (159, 1) <- 2-D 배열\n",
    "print(y.head(3))\n",
    "\n",
    "y = y.to_numpy()\n",
    "print(type(y))\n",
    "print(y[:5])\n",
    "'''"
   ]
  },
  {
   "cell_type": "code",
   "execution_count": 6,
   "id": "d146262b-af62-405a-9ef2-e6564659a9b0",
   "metadata": {
    "tags": []
   },
   "outputs": [],
   "source": [
    "from sklearn.model_selection import train_test_split\n",
    "\n",
    "x_train, x_test, y_train, y_test = train_test_split(x, y, random_state=42)"
   ]
  },
  {
   "cell_type": "code",
   "execution_count": 7,
   "id": "33a351ca-1f03-4f8c-8f43-598e753fe73f",
   "metadata": {
    "tags": []
   },
   "outputs": [
    {
     "name": "stdout",
     "output_type": "stream",
     "text": [
      "(119, 5) (119,)\n",
      "(40, 5) (40,)\n"
     ]
    }
   ],
   "source": [
    "print(x_train.shape, y_train.shape)\n",
    "print(x_test.shape, y_test.shape)"
   ]
  },
  {
   "cell_type": "code",
   "execution_count": 8,
   "id": "1ea09ef8-2e9b-4e29-9cf6-0800e00951aa",
   "metadata": {
    "tags": []
   },
   "outputs": [
    {
     "name": "stdout",
     "output_type": "stream",
     "text": [
      "[[242.      25.4     30.      11.52     4.02  ]\n",
      " [290.      26.3     31.2     12.48     4.3056]\n",
      " [340.      26.5     31.1     12.3778   4.6961]\n",
      " [363.      29.      33.5     12.73     4.4555]\n",
      " [430.      29.      34.      12.444    5.134 ]]\n"
     ]
    }
   ],
   "source": [
    "print(x[:5])"
   ]
  },
  {
   "cell_type": "code",
   "execution_count": 9,
   "id": "2a043c4c-bdcb-42a5-8295-7fdfcfe0705d",
   "metadata": {
    "tags": []
   },
   "outputs": [
    {
     "data": {
      "text/plain": [
       "array([[7.80000e+01, 1.87000e+01, 1.94000e+01, 5.19920e+00, 3.12340e+00],\n",
       "       [1.34000e+01, 1.24000e+01, 1.35000e+01, 2.43000e+00, 1.26900e+00],\n",
       "       [2.00000e+02, 3.23000e+01, 3.48000e+01, 5.56800e+00, 3.37560e+00],\n",
       "       [2.70000e+02, 2.60000e+01, 2.87000e+01, 8.38040e+00, 4.24760e+00],\n",
       "       [1.50000e+02, 2.30000e+01, 2.45000e+01, 5.21850e+00, 3.62600e+00],\n",
       "       [1.00000e+03, 3.70000e+01, 4.26000e+01, 1.89570e+01, 6.60300e+00],\n",
       "       [7.00000e+00, 1.06000e+01, 1.16000e+01, 1.72840e+00, 1.14840e+00],\n",
       "       [1.80000e+02, 2.52000e+01, 2.79000e+01, 7.08660e+00, 3.90600e+00],\n",
       "       [1.88000e+02, 2.46000e+01, 2.62000e+01, 6.73340e+00, 4.16580e+00],\n",
       "       [1.25000e+03, 5.60000e+01, 5.97000e+01, 1.06863e+01, 6.98490e+00],\n",
       "       [6.50000e+02, 3.35000e+01, 3.87000e+01, 1.44738e+01, 5.72760e+00],\n",
       "       [1.00000e+03, 4.00000e+01, 4.35000e+01, 1.23540e+01, 6.52500e+00],\n",
       "       [6.00000e+02, 3.20000e+01, 3.72000e+01, 1.54380e+01, 5.58000e+00],\n",
       "       [1.50000e+02, 2.00000e+01, 2.24000e+01, 8.89280e+00, 3.29280e+00],\n",
       "       [7.00000e+02, 3.50000e+01, 4.05000e+01, 1.62405e+01, 5.58900e+00],\n",
       "       [9.20000e+02, 3.85000e+01, 4.41000e+01, 1.80369e+01, 6.30630e+00],\n",
       "       [1.00000e+03, 4.35000e+01, 4.60000e+01, 1.26040e+01, 8.14200e+00],\n",
       "       [2.18000e+02, 2.65000e+01, 2.80000e+01, 7.16800e+00, 4.14400e+00],\n",
       "       [2.25000e+02, 2.40000e+01, 2.55000e+01, 7.29300e+00, 3.72300e+00],\n",
       "       [7.00000e+02, 3.30000e+01, 3.83000e+01, 1.48604e+01, 5.28540e+00],\n",
       "       [1.00000e+01, 1.18000e+01, 1.31000e+01, 2.21390e+00, 1.28380e+00],\n",
       "       [6.10000e+02, 3.35000e+01, 3.86000e+01, 1.56330e+01, 5.13380e+00],\n",
       "       [5.00000e+02, 3.15000e+01, 3.64000e+01, 1.37592e+01, 4.36800e+00],\n",
       "       [5.00000e+02, 3.07000e+01, 3.62000e+01, 1.42266e+01, 4.95940e+00],\n",
       "       [9.55000e+02, 3.85000e+01, 4.40000e+01, 1.80840e+01, 6.29200e+00],\n",
       "       [1.10000e+03, 4.30000e+01, 4.55000e+01, 1.25125e+01, 7.41650e+00],\n",
       "       [1.70000e+02, 2.35000e+01, 2.50000e+01, 6.27500e+00, 3.72500e+00],\n",
       "       [2.70000e+02, 2.65000e+01, 2.93000e+01, 8.14540e+00, 4.24850e+00],\n",
       "       [6.70000e+00, 9.80000e+00, 1.08000e+01, 1.73880e+00, 1.04760e+00],\n",
       "       [9.90000e+00, 1.18000e+01, 1.31000e+01, 2.21390e+00, 1.16590e+00],\n",
       "       [5.10000e+02, 4.25000e+01, 4.55000e+01, 6.82500e+00, 4.45900e+00],\n",
       "       [7.00000e+01, 1.74000e+01, 1.85000e+01, 4.58800e+00, 2.94150e+00],\n",
       "       [5.15000e+01, 1.62000e+01, 1.72000e+01, 4.59240e+00, 2.63160e+00],\n",
       "       [5.67000e+02, 4.60000e+01, 4.87000e+01, 7.79200e+00, 4.87000e+00],\n",
       "       [3.40000e+02, 2.65000e+01, 3.11000e+01, 1.23778e+01, 4.69610e+00],\n",
       "       [1.20000e+02, 2.20000e+01, 2.35000e+01, 6.11000e+00, 3.40750e+00],\n",
       "       [1.60000e+02, 2.25000e+01, 2.53000e+01, 7.03340e+00, 3.82030e+00],\n",
       "       [1.20000e+02, 2.10000e+01, 2.37000e+01, 6.11460e+00, 3.29430e+00],\n",
       "       [1.45000e+02, 2.15000e+01, 2.41000e+01, 9.73640e+00, 3.15710e+00],\n",
       "       [8.20000e+02, 3.90000e+01, 4.13000e+01, 1.24313e+01, 7.35140e+00]])"
      ]
     },
     "execution_count": 9,
     "metadata": {},
     "output_type": "execute_result"
    }
   ],
   "source": [
    "x_test"
   ]
  },
  {
   "cell_type": "code",
   "execution_count": 10,
   "id": "45265c1f-9277-4195-99fb-68dcd2eeb6d7",
   "metadata": {
    "tags": []
   },
   "outputs": [
    {
     "name": "stdout",
     "output_type": "stream",
     "text": [
      "[393.27226891  28.49663866  31.2697479    8.86248403   4.44828655]\n",
      "[355.27097574  10.67118899  11.5129708    4.04941829   1.64047206]\n"
     ]
    }
   ],
   "source": [
    "# 정규화\n",
    "# 표준화 -> z-score, 표준점수 (평균, 표준편차를 알아야 함)\n",
    "\n",
    "from sklearn.preprocessing import StandardScaler\n",
    "\n",
    "ss = StandardScaler() # 변환기 클래스: fit(), transform()\n",
    "ss.fit(x_train)\n",
    "\n",
    "print(ss.mean_) # 평균\n",
    "print(ss.scale_) # 표준편차\n",
    "\n",
    "x_train_scaled = ss.transform(x_train)\n",
    "x_test_scaled = ss.transform(x_test)"
   ]
  },
  {
   "cell_type": "markdown",
   "id": "488f4499-e656-4d61-aeeb-b86195f4fdd4",
   "metadata": {
    "tags": []
   },
   "source": [
    "### **Chapter 02. 로지스틱 회귀**"
   ]
  },
  {
   "cell_type": "code",
   "execution_count": 11,
   "id": "7759617a-5e7a-4d77-b1f6-53781da269c8",
   "metadata": {
    "tags": []
   },
   "outputs": [
    {
     "data": {
      "image/png": "[encoded data removed]",
      "text/plain": [
       "<Figure size 640x480 with 1 Axes>"
      ]
     },
     "metadata": {},
     "output_type": "display_data"
    }
   ],
   "source": [
    "import numpy as np\n",
    "import matplotlib.pyplot as plt\n",
    "\n",
    "z = np.arange(-9, 9, 0.1)\n",
    "y = 1 / (1 + np.exp(-z)) # exponential -> exp\n",
    "\n",
    "plt.figure()\n",
    "\n",
    "plt.plot(z, y, color=\"red\")\n",
    "plt.xlabel('z')\n",
    "plt.ylabel(\"f(z)=sigmoid(z)\")\n",
    "plt.grid()\n",
    "plt.show()"
   ]
  },
  {
   "cell_type": "code",
   "execution_count": 12,
   "id": "0ee40a01-96bd-4c6d-a91e-dc4f970c0606",
   "metadata": {
    "tags": []
   },
   "outputs": [
    {
     "name": "stdout",
     "output_type": "stream",
     "text": [
      "['이상해씨' '파이리' '꼬부기' '이브이']\n",
      "['이상해씨' '꼬부기']\n"
     ]
    }
   ],
   "source": [
    "# 분류 (Classification)\n",
    "# 1) 이진 분류 (Binary Classification): class 0 vs. class 1\n",
    "# 2) 다중 (Multiclass Classification): 3 <= Number of classes\n",
    "\n",
    "# Bream(도미), Smelt(빙어)\n",
    "# 부울린 인덱싱(Boolean Indexing)\n",
    "test_arr = np.array([\"이상해씨\", \"파이리\", \"꼬부기\", \"이브이\"])\n",
    "print(test_arr)\n",
    "index = np.array([True, False, True, False])\n",
    "print(test_arr[index])"
   ]
  },
  {
   "cell_type": "code",
   "execution_count": 13,
   "id": "aca5fa32-d536-40dd-bcfd-515c467b4b5f",
   "metadata": {
    "tags": []
   },
   "outputs": [
    {
     "name": "stdout",
     "output_type": "stream",
     "text": [
      "(33, 5)\n",
      "(33,)\n"
     ]
    }
   ],
   "source": [
    "index = (y_train == \"Bream\") | (y_train == \"Smelt\")\n",
    "y_train_bream_smelt = y_train[index]\n",
    "\n",
    "x_train_bream_smelt = x_train[index]\n",
    "\n",
    "print(x_train_bream_smelt.shape) # x --> 2-D (사이킷런이 기대하고 있는 형태)\n",
    "print(y_train_bream_smelt.shape) # y --> 1-D (사이킷런이 기대하고 있는 형태)\n",
    "\n",
    "# Muitilabel Classification 문제를 다룰 때는\n",
    "# y --> 2-D (사이킷런이 기대하고 있는 형태)\n",
    "# [[0, 1] x값 하나에 y값이 여러 개\n",
    "# [0, 2]\n",
    "# [1, 2]]"
   ]
  },
  {
   "cell_type": "code",
   "execution_count": 41,
   "id": "47ab0e06-0884-4021-9952-113d5cbf86a6",
   "metadata": {},
   "outputs": [
    {
     "name": "stdout",
     "output_type": "stream",
     "text": [
      "계수: [[2.54460229]]\n",
      "절편: [-0.12723068]\n",
      "x_new는 [[0.05000022]]\n",
      "z는 [[0.]]\n",
      "['Bream']\n",
      "['Bream' 'Smelt']\n"
     ]
    }
   ],
   "source": [
    "# 1. scikit-learn은 y = 0.5일 때, 음성 클래스(0)으로 출력하는가?\n",
    "from sklearn.linear_model import LogisticRegression\n",
    "\n",
    "x_temp = np.arange(-20, 20.1, 0.1).reshape(-1, 1) # -20.0, 19.9, ..., 0.0, ..., 20.0 -> 401개\n",
    "y_temp = [\"Bream\"] * 201 + [\"Smelt\"] * 200\n",
    "\n",
    "lr = LogisticRegression() # 추정기(Estimator) 클래스\n",
    "lr.fit(x_temp, y_temp)\n",
    "\n",
    "# y = sigmoid(z)\n",
    "# z = a * x + b\n",
    "print(\"계수:\", lr.coef_) # a 계수: [[2.54460229]]\n",
    "print(\"절편:\", lr.intercept_) # b 절편: [-0.12723068]\n",
    "\n",
    "# z = 0을 만족하는 값을 생성해야 함 -> f(z) = f(0) = 0.5\n",
    "# z = a * x + b = 0 -> x = ?? -> x = -b/a\n",
    "x_new = -1 * lr.intercept_ / lr.coef_\n",
    "print(\"x_new는\", x_new) # x_new는 [[0.05000022]]\n",
    "\n",
    "z = lr.coef_ * x_new + lr.intercept_\n",
    "# 우리가 관심있는 값\n",
    "print(\"z는\", z) # z는 [[0.]]\n",
    "\n",
    "# z = 0 --> y = sigmoid(z) = 1 / (1+e^0) = 0.5\n",
    "print(lr.predict(x_new)) # ['Bream']\n",
    "print(lr.classes_) # class 0 (음성): 'Bream', class 1 (양성): 'Smelt'"
   ]
  },
  {
   "cell_type": "code",
   "execution_count": 27,
   "id": "0156ce95-024c-4b7e-876f-1e21c27631af",
   "metadata": {},
   "outputs": [
    {
     "name": "stdout",
     "output_type": "stream",
     "text": [
      "계수: [[-0.07860343 -0.00431253 -0.00552308 -0.0031227  -0.00084375]]\n",
      "절편: [11.33577955]\n",
      "학습용: 1.0\n",
      "['Bream' 'Smelt' 'Bream' 'Bream' 'Bream']\n",
      "['Bream' 'Smelt']\n",
      "[[1. 0.]\n",
      " [0. 1.]\n",
      " [1. 0.]\n",
      " [1. 0.]\n",
      " [1. 0.]]\n"
     ]
    }
   ],
   "source": [
    "# 2. Binary Classification -> Bream(도미), Smelt(빙어)\n",
    "\n",
    "lr = LogisticRegression()\n",
    "# 회귀 -> 결정계수\n",
    "# 분류 -> 정확도 (1.0) -> 100%\n",
    "\n",
    "lr.fit(x_train_bream_smelt, y_train_bream_smelt)\n",
    "\n",
    "print(\"계수:\", lr.coef_)\n",
    "print(\"절편:\", lr.intercept_)\n",
    "\n",
    "print(\"학습용:\", lr.score(x_train_bream_smelt, y_train_bream_smelt))\n",
    "#print(\"시험용:\", lr.score())\n",
    "\n",
    "print(lr.predict(x_train_bream_smelt[:5]))\n",
    "print(lr.classes_) # 차례대로 0, 1, 2, 3, 4, ...\n",
    "# \"Bream\" -> 0번 클래스로 학습 -> 음성(Negative) 클래스\n",
    "# \"Smelt\" -> 1번 클래스로 학습 -> 양성(Pogitive) 클래스\n",
    "\n",
    "print(np.round(lr.predict_proba(x_train_bream_smelt[:5]), 2)) # 확률 -> probability -> proba\n",
    "# np.ceil() --> 천장 --> 올림\n",
    "# np.round() --> 반올림\n",
    "# np.floor() --> 바닥 -> 버림"
   ]
  },
  {
   "cell_type": "code",
   "execution_count": 28,
   "id": "1b9e7999-a097-4236-93fb-3d67de8921f9",
   "metadata": {
    "tags": []
   },
   "outputs": [
    {
     "name": "stdout",
     "output_type": "stream",
     "text": [
      "1\n"
     ]
    }
   ],
   "source": [
    "print(round(1.4))"
   ]
  },
  {
   "cell_type": "code",
   "execution_count": 30,
   "id": "4ee0cbcf-c56f-415d-9502-80bd0b7c80f9",
   "metadata": {},
   "outputs": [
    {
     "name": "stdout",
     "output_type": "stream",
     "text": [
      "학습용: 0.9327731092436975\n",
      "시험용: 0.925\n"
     ]
    }
   ],
   "source": [
    "# 3. Multiclass Classification -> class 개수가 7개인 분류 문제\n",
    "\n",
    "lr = LogisticRegression(max_iter=1000, # 기본값=100, 최대 반복 수행 횟수\n",
    "                        C=20) # 기본값=1, 규제 강도를 컨트롤하는 하이퍼 파라미터\n",
    "\n",
    "lr.fit(x_train_scaled, y_train)\n",
    "\n",
    "# accuracy = 맞힌 문제 수 / 전체 문제 수\n",
    "\n",
    "print(\"학습용:\", lr.score(x_train_scaled, y_train)) # 결정 계수 아님!!!\n",
    "print(\"시험용:\", lr.score(x_test_scaled, y_test)) # 정확도(accuracy)!!"
   ]
  },
  {
   "cell_type": "code",
   "execution_count": 34,
   "id": "8a2a1cd1-113d-4deb-a7c0-571113253887",
   "metadata": {
    "tags": []
   },
   "outputs": [
    {
     "name": "stdout",
     "output_type": "stream",
     "text": [
      "['Bream' 'Pike' 'Smelt' 'Perch' 'Parkki']\n",
      "[[1.   0.   0.   0.   0.   0.   0.  ]\n",
      " [0.   0.   0.   1.   0.   0.   0.  ]\n",
      " [0.   0.   0.05 0.   0.01 0.94 0.  ]\n",
      " [0.   0.   0.86 0.   0.13 0.   0.  ]\n",
      " [0.01 0.78 0.01 0.   0.19 0.   0.01]]\n"
     ]
    }
   ],
   "source": [
    "print(lr.predict(x_train_scaled[:5]))\n",
    "print(np.round(lr.predict_proba(x_train_scaled[:5]), 2))"
   ]
  },
  {
   "cell_type": "code",
   "execution_count": 35,
   "id": "f3f8e596-7d94-4150-b8f0-bbc2162338bf",
   "metadata": {
    "tags": []
   },
   "outputs": [
    {
     "name": "stdout",
     "output_type": "stream",
     "text": [
      "['Bream' 'Parkki' 'Perch' 'Pike' 'Roach' 'Smelt' 'Whitefish']\n"
     ]
    }
   ],
   "source": [
    "print(lr.classes_)"
   ]
  },
  {
   "cell_type": "code",
   "execution_count": 37,
   "id": "c387627d-050d-4674-b3ef-a54a59da7c2b",
   "metadata": {
    "tags": []
   },
   "outputs": [
    {
     "name": "stdout",
     "output_type": "stream",
     "text": [
      "(7, 5)\n",
      "(7,)\n"
     ]
    }
   ],
   "source": [
    "print(lr.coef_.shape) # 7개의 Logistic Regression 모델을 생성함! 5: 특성의 개수(x1, x2, ..., x5)\n",
    "# model 1 --> class 0 (Bream) -> Pr(y=Bream)일 확률\n",
    "# model 2 --> class 1 (Parkki) -> Pr(y=Parkki)일 확률\n",
    "# ...\n",
    "# model 7 --> class 6 (Whitefish) -> Pr(y=Whitefish)일 확률\n",
    "\n",
    "print(lr.intercept_.shape) # 각 모델마다 절편 값 1개씩 찾아야 함!"
   ]
  }
 ],
 "metadata": {
  "kernelspec": {
   "display_name": "Python 3 (ipykernel)",
   "language": "python",
   "name": "python3"
  },
  "language_info": {
   "codemirror_mode": {
    "name": "ipython",
    "version": 3
   },
   "file_extension": ".py",
   "mimetype": "text/x-python",
   "name": "python",
   "nbconvert_exporter": "python",
   "pygments_lexer": "ipython3",
   "version": "3.11.4"
  }
 },
 "nbformat": 4,
 "nbformat_minor": 5
}
