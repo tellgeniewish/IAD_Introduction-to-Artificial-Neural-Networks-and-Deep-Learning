{
 "cells": [
  {
   "cell_type": "markdown",
   "id": "0696dd02-5327-4c28-a647-0847aa512a19",
   "metadata": {},
   "source": [
    "### **Chapter 01. 검증 세트**"
   ]
  },
  {
   "cell_type": "code",
   "execution_count": 2,
   "id": "a6ed80c8-2d95-4624-a560-5e306d6727a3",
   "metadata": {
    "tags": []
   },
   "outputs": [
    {
     "data": {
      "text/html": [
       "<div>\n",
       "<style scoped>\n",
       "    .dataframe tbody tr th:only-of-type {\n",
       "        vertical-align: middle;\n",
       "    }\n",
       "\n",
       "    .dataframe tbody tr th {\n",
       "        vertical-align: top;\n",
       "    }\n",
       "\n",
       "    .dataframe thead th {\n",
       "        text-align: right;\n",
       "    }\n",
       "</style>\n",
       "<table border=\"1\" class=\"dataframe\">\n",
       "  <thead>\n",
       "    <tr style=\"text-align: right;\">\n",
       "      <th></th>\n",
       "      <th>alcohol</th>\n",
       "      <th>sugar</th>\n",
       "      <th>pH</th>\n",
       "      <th>class</th>\n",
       "    </tr>\n",
       "  </thead>\n",
       "  <tbody>\n",
       "    <tr>\n",
       "      <th>0</th>\n",
       "      <td>9.4</td>\n",
       "      <td>1.9</td>\n",
       "      <td>3.51</td>\n",
       "      <td>0.0</td>\n",
       "    </tr>\n",
       "    <tr>\n",
       "      <th>1</th>\n",
       "      <td>9.8</td>\n",
       "      <td>2.6</td>\n",
       "      <td>3.20</td>\n",
       "      <td>0.0</td>\n",
       "    </tr>\n",
       "    <tr>\n",
       "      <th>2</th>\n",
       "      <td>9.8</td>\n",
       "      <td>2.3</td>\n",
       "      <td>3.26</td>\n",
       "      <td>0.0</td>\n",
       "    </tr>\n",
       "    <tr>\n",
       "      <th>3</th>\n",
       "      <td>9.8</td>\n",
       "      <td>1.9</td>\n",
       "      <td>3.16</td>\n",
       "      <td>0.0</td>\n",
       "    </tr>\n",
       "    <tr>\n",
       "      <th>4</th>\n",
       "      <td>9.4</td>\n",
       "      <td>1.9</td>\n",
       "      <td>3.51</td>\n",
       "      <td>0.0</td>\n",
       "    </tr>\n",
       "  </tbody>\n",
       "</table>\n",
       "</div>"
      ],
      "text/plain": [
       "   alcohol  sugar    pH  class\n",
       "0      9.4    1.9  3.51    0.0\n",
       "1      9.8    2.6  3.20    0.0\n",
       "2      9.8    2.3  3.26    0.0\n",
       "3      9.8    1.9  3.16    0.0\n",
       "4      9.4    1.9  3.51    0.0"
      ]
     },
     "execution_count": 2,
     "metadata": {},
     "output_type": "execute_result"
    }
   ],
   "source": [
    "import pandas as pd\n",
    "\n",
    "df = pd.read_csv(\"wine_csv_data.csv\")\n",
    "\n",
    "df.head()"
   ]
  },
  {
   "cell_type": "code",
   "execution_count": 3,
   "id": "3132075b-faa7-402d-ac62-f175b6a19fbb",
   "metadata": {
    "tags": []
   },
   "outputs": [
    {
     "name": "stdout",
     "output_type": "stream",
     "text": [
      "<class 'pandas.core.frame.DataFrame'>\n",
      "RangeIndex: 6497 entries, 0 to 6496\n",
      "Data columns (total 4 columns):\n",
      " #   Column   Non-Null Count  Dtype  \n",
      "---  ------   --------------  -----  \n",
      " 0   alcohol  6497 non-null   float64\n",
      " 1   sugar    6497 non-null   float64\n",
      " 2   pH       6497 non-null   float64\n",
      " 3   class    6497 non-null   float64\n",
      "dtypes: float64(4)\n",
      "memory usage: 203.2 KB\n"
     ]
    }
   ],
   "source": [
    "df.info() # information -> info"
   ]
  },
  {
   "cell_type": "code",
   "execution_count": 4,
   "id": "5d8e0fcb-3f31-4132-b6bc-ebac8a066126",
   "metadata": {
    "tags": []
   },
   "outputs": [
    {
     "data": {
      "text/html": [
       "<div>\n",
       "<style scoped>\n",
       "    .dataframe tbody tr th:only-of-type {\n",
       "        vertical-align: middle;\n",
       "    }\n",
       "\n",
       "    .dataframe tbody tr th {\n",
       "        vertical-align: top;\n",
       "    }\n",
       "\n",
       "    .dataframe thead th {\n",
       "        text-align: right;\n",
       "    }\n",
       "</style>\n",
       "<table border=\"1\" class=\"dataframe\">\n",
       "  <thead>\n",
       "    <tr style=\"text-align: right;\">\n",
       "      <th></th>\n",
       "      <th>alcohol</th>\n",
       "      <th>sugar</th>\n",
       "      <th>pH</th>\n",
       "      <th>class</th>\n",
       "    </tr>\n",
       "  </thead>\n",
       "  <tbody>\n",
       "    <tr>\n",
       "      <th>count</th>\n",
       "      <td>6497.000000</td>\n",
       "      <td>6497.000000</td>\n",
       "      <td>6497.000000</td>\n",
       "      <td>6497.000000</td>\n",
       "    </tr>\n",
       "    <tr>\n",
       "      <th>mean</th>\n",
       "      <td>10.491801</td>\n",
       "      <td>5.443235</td>\n",
       "      <td>3.218501</td>\n",
       "      <td>0.753886</td>\n",
       "    </tr>\n",
       "    <tr>\n",
       "      <th>std</th>\n",
       "      <td>1.192712</td>\n",
       "      <td>4.757804</td>\n",
       "      <td>0.160787</td>\n",
       "      <td>0.430779</td>\n",
       "    </tr>\n",
       "    <tr>\n",
       "      <th>min</th>\n",
       "      <td>8.000000</td>\n",
       "      <td>0.600000</td>\n",
       "      <td>2.720000</td>\n",
       "      <td>0.000000</td>\n",
       "    </tr>\n",
       "    <tr>\n",
       "      <th>25%</th>\n",
       "      <td>9.500000</td>\n",
       "      <td>1.800000</td>\n",
       "      <td>3.110000</td>\n",
       "      <td>1.000000</td>\n",
       "    </tr>\n",
       "    <tr>\n",
       "      <th>50%</th>\n",
       "      <td>10.300000</td>\n",
       "      <td>3.000000</td>\n",
       "      <td>3.210000</td>\n",
       "      <td>1.000000</td>\n",
       "    </tr>\n",
       "    <tr>\n",
       "      <th>75%</th>\n",
       "      <td>11.300000</td>\n",
       "      <td>8.100000</td>\n",
       "      <td>3.320000</td>\n",
       "      <td>1.000000</td>\n",
       "    </tr>\n",
       "    <tr>\n",
       "      <th>max</th>\n",
       "      <td>14.900000</td>\n",
       "      <td>65.800000</td>\n",
       "      <td>4.010000</td>\n",
       "      <td>1.000000</td>\n",
       "    </tr>\n",
       "  </tbody>\n",
       "</table>\n",
       "</div>"
      ],
      "text/plain": [
       "           alcohol        sugar           pH        class\n",
       "count  6497.000000  6497.000000  6497.000000  6497.000000\n",
       "mean     10.491801     5.443235     3.218501     0.753886\n",
       "std       1.192712     4.757804     0.160787     0.430779\n",
       "min       8.000000     0.600000     2.720000     0.000000\n",
       "25%       9.500000     1.800000     3.110000     1.000000\n",
       "50%      10.300000     3.000000     3.210000     1.000000\n",
       "75%      11.300000     8.100000     3.320000     1.000000\n",
       "max      14.900000    65.800000     4.010000     1.000000"
      ]
     },
     "execution_count": 4,
     "metadata": {},
     "output_type": "execute_result"
    }
   ],
   "source": [
    "df.describe() # 평균, 표준편차, 사분위수 등"
   ]
  },
  {
   "cell_type": "code",
   "execution_count": 5,
   "id": "787db513-6e71-4536-be1c-19216d0a695a",
   "metadata": {
    "tags": []
   },
   "outputs": [
    {
     "data": {
      "text/plain": [
       "Index(['alcohol', 'sugar', 'pH', 'class'], dtype='object')"
      ]
     },
     "execution_count": 5,
     "metadata": {},
     "output_type": "execute_result"
    }
   ],
   "source": [
    "df.columns"
   ]
  },
  {
   "cell_type": "code",
   "execution_count": 6,
   "id": "514d2651-627b-4725-ad12-fce936d9728d",
   "metadata": {
    "tags": []
   },
   "outputs": [
    {
     "data": {
      "text/html": [
       "<div>\n",
       "<style scoped>\n",
       "    .dataframe tbody tr th:only-of-type {\n",
       "        vertical-align: middle;\n",
       "    }\n",
       "\n",
       "    .dataframe tbody tr th {\n",
       "        vertical-align: top;\n",
       "    }\n",
       "\n",
       "    .dataframe thead th {\n",
       "        text-align: right;\n",
       "    }\n",
       "</style>\n",
       "<table border=\"1\" class=\"dataframe\">\n",
       "  <thead>\n",
       "    <tr style=\"text-align: right;\">\n",
       "      <th></th>\n",
       "      <th>alcohol</th>\n",
       "      <th>sugar</th>\n",
       "      <th>pH</th>\n",
       "    </tr>\n",
       "  </thead>\n",
       "  <tbody>\n",
       "    <tr>\n",
       "      <th>0</th>\n",
       "      <td>9.4</td>\n",
       "      <td>1.9</td>\n",
       "      <td>3.51</td>\n",
       "    </tr>\n",
       "    <tr>\n",
       "      <th>1</th>\n",
       "      <td>9.8</td>\n",
       "      <td>2.6</td>\n",
       "      <td>3.20</td>\n",
       "    </tr>\n",
       "    <tr>\n",
       "      <th>2</th>\n",
       "      <td>9.8</td>\n",
       "      <td>2.3</td>\n",
       "      <td>3.26</td>\n",
       "    </tr>\n",
       "    <tr>\n",
       "      <th>3</th>\n",
       "      <td>9.8</td>\n",
       "      <td>1.9</td>\n",
       "      <td>3.16</td>\n",
       "    </tr>\n",
       "    <tr>\n",
       "      <th>4</th>\n",
       "      <td>9.4</td>\n",
       "      <td>1.9</td>\n",
       "      <td>3.51</td>\n",
       "    </tr>\n",
       "  </tbody>\n",
       "</table>\n",
       "</div>"
      ],
      "text/plain": [
       "   alcohol  sugar    pH\n",
       "0      9.4    1.9  3.51\n",
       "1      9.8    2.6  3.20\n",
       "2      9.8    2.3  3.26\n",
       "3      9.8    1.9  3.16\n",
       "4      9.4    1.9  3.51"
      ]
     },
     "execution_count": 6,
     "metadata": {},
     "output_type": "execute_result"
    }
   ],
   "source": [
    "x = df[['alcohol', 'sugar', 'pH']]\n",
    "x.head()"
   ]
  },
  {
   "cell_type": "code",
   "execution_count": 7,
   "id": "73107032-ac01-44cc-952d-430af2f8a8fc",
   "metadata": {
    "tags": []
   },
   "outputs": [
    {
     "data": {
      "text/plain": [
       "0    0.0\n",
       "1    0.0\n",
       "2    0.0\n",
       "3    0.0\n",
       "4    0.0\n",
       "Name: class, dtype: float64"
      ]
     },
     "execution_count": 7,
     "metadata": {},
     "output_type": "execute_result"
    }
   ],
   "source": [
    "y = df['class']\n",
    "y.head()"
   ]
  },
  {
   "cell_type": "code",
   "execution_count": 8,
   "id": "3fdd49f4-bae1-4570-ab41-c2c13ff9cdc5",
   "metadata": {
    "tags": []
   },
   "outputs": [
    {
     "name": "stdout",
     "output_type": "stream",
     "text": [
      "(6497, 3) (6497,)\n"
     ]
    }
   ],
   "source": [
    "x = x.to_numpy()\n",
    "y = y.to_numpy()\n",
    "\n",
    "print(x.shape, y.shape)"
   ]
  },
  {
   "cell_type": "code",
   "execution_count": 9,
   "id": "929057ae-47dc-4d40-8b2c-77bc0819e652",
   "metadata": {
    "tags": []
   },
   "outputs": [
    {
     "name": "stdout",
     "output_type": "stream",
     "text": [
      "(4872, 3) (1625, 3)\n"
     ]
    }
   ],
   "source": [
    "from sklearn.model_selection import train_test_split\n",
    "\n",
    "x_train, x_test, y_train, y_test = train_test_split(x, y,\n",
    "                                                    random_state=42)\n",
    "\n",
    "# 분할 기본값: 0.25 (25%) 만큼을 시험용 데이터 세트로 쪼개줌!\n",
    "print(x_train.shape, x_test.shape) # 4872:1625 = 3:1"
   ]
  },
  {
   "cell_type": "code",
   "execution_count": 10,
   "id": "72cbcf5b-4de2-4b0e-b2fd-91f134a8f775",
   "metadata": {
    "tags": []
   },
   "outputs": [
    {
     "name": "stdout",
     "output_type": "stream",
     "text": [
      "(5197, 3) (1300, 3)\n"
     ]
    }
   ],
   "source": [
    "from sklearn.model_selection import train_test_split\n",
    "\n",
    "x_train, x_test, y_train, y_test = train_test_split(x, y,\n",
    "                                                    test_size=0.2, # 기본값 = 0.25\n",
    "                                                    # train_size=0.8 # (1-test_size)\n",
    "                                                    random_state=42)\n",
    "\n",
    "print(x_train.shape, x_test.shape) # 5197:1300 = 4:1 (20%)"
   ]
  },
  {
   "cell_type": "code",
   "execution_count": 11,
   "id": "fadac971-0a18-4a3a-9712-e4f5b1ce1ed4",
   "metadata": {
    "tags": []
   },
   "outputs": [
    {
     "name": "stdout",
     "output_type": "stream",
     "text": [
      "(4157, 3) (1040, 3)\n"
     ]
    }
   ],
   "source": [
    "x_sub, x_val, y_sub, y_val = train_test_split(x_train, y_train,\n",
    "                                              test_size=0.2,\n",
    "                                              random_state=42)\n",
    "\n",
    "print(x_sub.shape, x_val.shape) # 4157 + 1040 = 5197"
   ]
  },
  {
   "cell_type": "code",
   "execution_count": 12,
   "id": "2e870472-0e47-417c-b06e-ee7231cf1c39",
   "metadata": {
    "tags": []
   },
   "outputs": [],
   "source": [
    "from sklearn.preprocessing import StandardScaler # 변환기 클래스\n",
    "\n",
    "ss = StandardScaler()\n",
    "\n",
    "ss.fit(x_sub) # x_sub의 mean, std 계산\n",
    "\n",
    "x_sub_scaled = ss.transform(x_sub)\n",
    "x_val_scaled = ss.transform(x_val)"
   ]
  },
  {
   "cell_type": "code",
   "execution_count": 13,
   "id": "c9523e3b-9cb2-4db4-a510-15660b8a3753",
   "metadata": {
    "tags": []
   },
   "outputs": [
    {
     "name": "stdout",
     "output_type": "stream",
     "text": [
      "학습용: 0.7789271108972817\n",
      "시험용: 0.7826923076923077\n"
     ]
    }
   ],
   "source": [
    "from sklearn.linear_model import LogisticRegression\n",
    "\n",
    "lr = LogisticRegression() # 특성의 개수 3개 -> coef_ = 3개, intercept_ = 1개\n",
    "\n",
    "lr.fit(x_sub_scaled, y_sub)\n",
    "\n",
    "print(\"학습용:\", lr.score(x_sub_scaled, y_sub)) # 정확도!! (분류 문제라서) (회귀 문제일 때는 R^2)\n",
    "print(\"시험용:\", lr.score(x_val_scaled, y_val))\n",
    "\n",
    "# 과소적합(Underfitting)에 빠졌군!!"
   ]
  },
  {
   "cell_type": "code",
   "execution_count": 14,
   "id": "d1d85deb-8d8d-4073-b39f-facb23e5bc6d",
   "metadata": {
    "tags": []
   },
   "outputs": [
    {
     "data": {
      "text/plain": [
       "array([[ 0.50386868,  1.63789847, -0.67214448]])"
      ]
     },
     "execution_count": 14,
     "metadata": {},
     "output_type": "execute_result"
    }
   ],
   "source": [
    "lr.coef_"
   ]
  },
  {
   "cell_type": "code",
   "execution_count": 15,
   "id": "90331b9a-4925-4c9c-9e79-7560ca768393",
   "metadata": {},
   "outputs": [],
   "source": [
    "# LogisticRegression 알고리즘의 하이퍼 파라미터\n",
    "# C: 규제 강도 컨트롤함!\n",
    "# penalty: 'L1', 'L2' 어느 규제를 적용할 지 선택"
   ]
  },
  {
   "cell_type": "markdown",
   "id": "8e24c91a-4a56-4bf7-b770-ff725eeeddd7",
   "metadata": {},
   "source": [
    "### **Chapter 02. 교차 검증**"
   ]
  },
  {
   "cell_type": "code",
   "execution_count": 16,
   "id": "d00b6ff2-d6ae-446e-a548-e760d4a9c459",
   "metadata": {
    "tags": []
   },
   "outputs": [],
   "source": [
    "from sklearn.preprocessing import StandardScaler # 변환기 클래스\n",
    "\n",
    "ss = StandardScaler()\n",
    "\n",
    "ss.fit(x_train) # mean, std 계산\n",
    "\n",
    "x_train_scaled = ss.transform(x_train)\n",
    "x_test_scaled = ss.transform(x_test)"
   ]
  },
  {
   "cell_type": "code",
   "execution_count": 17,
   "id": "fb0f403a-06b7-4432-8840-5d8e06960c4b",
   "metadata": {
    "tags": []
   },
   "outputs": [
    {
     "name": "stdout",
     "output_type": "stream",
     "text": [
      "{'fit_time': array([0.04787183, 0.01994848, 0.01895046, 0.01595116, 0.01648402]), 'score_time': array([0.00213385, 0.00516009, 0.00199366, 0.00186706, 0.00199437]), 'test_score': array([0.77403846, 0.775     , 0.80558229, 0.76997113, 0.78248316])}\n"
     ]
    },
    {
     "data": {
      "text/plain": [
       "\"\\n{'fit_time': array([0.67020321, 0.23636603, 0.05385613, 0.03888988, 0.02194071]), \\n'score_time': array([0.00498605, 0.00398993, 0.00199533, 0.00199461, 0.00299168]), \\n'test_score': array([0.77403846, 0.775     , 0.80558229, 0.76997113, 0.78248316])}\\n\""
      ]
     },
     "execution_count": 17,
     "metadata": {},
     "output_type": "execute_result"
    }
   ],
   "source": [
    "from sklearn.model_selection import cross_validate\n",
    "\n",
    "lr = LogisticRegression()\n",
    "\n",
    "# 알아서 검증 데이터셋 만들어 줌 -> x_train_scaled를 사용\n",
    "scores = cross_validate(lr, x_train_scaled, y_train) # k-fold (k의 기본값 = 5)\n",
    "\n",
    "print(scores)\n",
    "'''\n",
    "{'fit_time': array([0.67020321, 0.23636603, 0.05385613, 0.03888988, 0.02194071]), \n",
    "'score_time': array([0.00498605, 0.00398993, 0.00199533, 0.00199461, 0.00299168]), \n",
    "'test_score': array([0.77403846, 0.775     , 0.80558229, 0.76997113, 0.78248316])}\n",
    "'''"
   ]
  },
  {
   "cell_type": "code",
   "execution_count": 18,
   "id": "d6711d32-549f-4dd1-9e3b-9fea4e2e7812",
   "metadata": {
    "tags": []
   },
   "outputs": [
    {
     "name": "stdout",
     "output_type": "stream",
     "text": [
      "0.7814150070333901\n",
      "0.7814150070333901\n"
     ]
    }
   ],
   "source": [
    "import numpy as np\n",
    "\n",
    "print(np.mean(scores['test_score']))\n",
    "\n",
    "print(sum(scores['test_score'])/len(scores['test_score']))"
   ]
  },
  {
   "cell_type": "code",
   "execution_count": 19,
   "id": "bcfe0a35-82e4-4f7c-9972-9faaa9bfdecb",
   "metadata": {
    "tags": []
   },
   "outputs": [
    {
     "name": "stdout",
     "output_type": "stream",
     "text": [
      "0.7814150070333901\n"
     ]
    }
   ],
   "source": [
    "from sklearn.model_selection import StratifiedKFold\n",
    "\n",
    "skf = StratifiedKFold() # 분할기 (Splitter)\n",
    "\n",
    "scores = cross_validate(lr, x_train_scaled, y_train,\n",
    "                        cv=skf) # 또는 cv=StratifiedKFold()\n",
    "\n",
    "print(np.mean(scores['test_score']))"
   ]
  },
  {
   "cell_type": "code",
   "execution_count": 20,
   "id": "dbed77aa-8b69-4f96-8ba7-ec4abf88070a",
   "metadata": {
    "tags": []
   },
   "outputs": [
    {
     "name": "stdout",
     "output_type": "stream",
     "text": [
      "[0.775      0.76923077 0.77692308 0.75384615 0.78076923 0.79038462\n",
      " 0.80192308 0.7938343  0.78612717 0.77263969]\n",
      "0.7800678079146287\n"
     ]
    }
   ],
   "source": [
    "scores = cross_validate(LogisticRegression(), x_train_scaled, y_train,\n",
    "                        cv=StratifiedKFold(n_splits=10, # n_splits = (k-fold의 k값! 기본값=5)\n",
    "                                           shuffle=True, # shuffle = 샘플을 무작위로 섞는 옵션, 기본값=False\n",
    "                                           random_state=42 # random_state = 42 (실제 환경에서는 사용 X, 수업용 목적임!)\n",
    "                                          )\n",
    "                       )\n",
    "\n",
    "print(scores['test_score'])\n",
    "print(np.mean(scores['test_score']))"
   ]
  },
  {
   "cell_type": "markdown",
   "id": "205272f3-5530-4276-b79f-ebcade8c19ce",
   "metadata": {},
   "source": [
    "### **Chapter 03. 하이퍼 파라미터 튜닝**"
   ]
  },
  {
   "cell_type": "code",
   "execution_count": 21,
   "id": "fb416819-55a1-4981-8634-326a192322d4",
   "metadata": {
    "tags": []
   },
   "outputs": [],
   "source": [
    "from sklearn.model_selection import GridSearchCV\n",
    "\n",
    "parameters = {'C':[1e-3, 1e-2, 1e-1, 1e0, 1, 2, 3, 4]}\n",
    "\n",
    "gs = GridSearchCV(LogisticRegression(), parameters,\n",
    "                  n_jobs=-1 # 기본값=1, -1로 지정하면 모든 core 자원을 활용하기 때문에 빠른 결과를 얻을 수 있다!\n",
    "                  # k=5 <- 5-fold CV가 기본값으로 적용됨!\n",
    "                 )\n",
    "\n",
    "# CPU -> 계산(연산)을 담당하고 있을 것임!\n",
    "# GPU -> 지금 이용하지 않고 있음!"
   ]
  },
  {
   "cell_type": "code",
   "execution_count": 22,
   "id": "862b2f3a-291d-4ddf-93e6-122f06da61a7",
   "metadata": {
    "tags": []
   },
   "outputs": [
    {
     "data": {
      "text/html": [
       "<style>#sk-container-id-1 {color: black;}#sk-container-id-1 pre{padding: 0;}#sk-container-id-1 div.sk-toggleable {background-color: white;}#sk-container-id-1 label.sk-toggleable__label {cursor: pointer;display: block;width: 100%;margin-bottom: 0;padding: 0.3em;box-sizing: border-box;text-align: center;}#sk-container-id-1 label.sk-toggleable__label-arrow:before {content: \"▸\";float: left;margin-right: 0.25em;color: #696969;}#sk-container-id-1 label.sk-toggleable__label-arrow:hover:before {color: black;}#sk-container-id-1 div.sk-estimator:hover label.sk-toggleable__label-arrow:before {color: black;}#sk-container-id-1 div.sk-toggleable__content {max-height: 0;max-width: 0;overflow: hidden;text-align: left;background-color: #f0f8ff;}#sk-container-id-1 div.sk-toggleable__content pre {margin: 0.2em;color: black;border-radius: 0.25em;background-color: #f0f8ff;}#sk-container-id-1 input.sk-toggleable__control:checked~div.sk-toggleable__content {max-height: 200px;max-width: 100%;overflow: auto;}#sk-container-id-1 input.sk-toggleable__control:checked~label.sk-toggleable__label-arrow:before {content: \"▾\";}#sk-container-id-1 div.sk-estimator input.sk-toggleable__control:checked~label.sk-toggleable__label {background-color: #d4ebff;}#sk-container-id-1 div.sk-label input.sk-toggleable__control:checked~label.sk-toggleable__label {background-color: #d4ebff;}#sk-container-id-1 input.sk-hidden--visually {border: 0;clip: rect(1px 1px 1px 1px);clip: rect(1px, 1px, 1px, 1px);height: 1px;margin: -1px;overflow: hidden;padding: 0;position: absolute;width: 1px;}#sk-container-id-1 div.sk-estimator {font-family: monospace;background-color: #f0f8ff;border: 1px dotted black;border-radius: 0.25em;box-sizing: border-box;margin-bottom: 0.5em;}#sk-container-id-1 div.sk-estimator:hover {background-color: #d4ebff;}#sk-container-id-1 div.sk-parallel-item::after {content: \"\";width: 100%;border-bottom: 1px solid gray;flex-grow: 1;}#sk-container-id-1 div.sk-label:hover label.sk-toggleable__label {background-color: #d4ebff;}#sk-container-id-1 div.sk-serial::before {content: \"\";position: absolute;border-left: 1px solid gray;box-sizing: border-box;top: 0;bottom: 0;left: 50%;z-index: 0;}#sk-container-id-1 div.sk-serial {display: flex;flex-direction: column;align-items: center;background-color: white;padding-right: 0.2em;padding-left: 0.2em;position: relative;}#sk-container-id-1 div.sk-item {position: relative;z-index: 1;}#sk-container-id-1 div.sk-parallel {display: flex;align-items: stretch;justify-content: center;background-color: white;position: relative;}#sk-container-id-1 div.sk-item::before, #sk-container-id-1 div.sk-parallel-item::before {content: \"\";position: absolute;border-left: 1px solid gray;box-sizing: border-box;top: 0;bottom: 0;left: 50%;z-index: -1;}#sk-container-id-1 div.sk-parallel-item {display: flex;flex-direction: column;z-index: 1;position: relative;background-color: white;}#sk-container-id-1 div.sk-parallel-item:first-child::after {align-self: flex-end;width: 50%;}#sk-container-id-1 div.sk-parallel-item:last-child::after {align-self: flex-start;width: 50%;}#sk-container-id-1 div.sk-parallel-item:only-child::after {width: 0;}#sk-container-id-1 div.sk-dashed-wrapped {border: 1px dashed gray;margin: 0 0.4em 0.5em 0.4em;box-sizing: border-box;padding-bottom: 0.4em;background-color: white;}#sk-container-id-1 div.sk-label label {font-family: monospace;font-weight: bold;display: inline-block;line-height: 1.2em;}#sk-container-id-1 div.sk-label-container {text-align: center;}#sk-container-id-1 div.sk-container {/* jupyter's `normalize.less` sets `[hidden] { display: none; }` but bootstrap.min.css set `[hidden] { display: none !important; }` so we also need the `!important` here to be able to override the default hidden behavior on the sphinx rendered scikit-learn.org. See: https://github.com/scikit-learn/scikit-learn/issues/21755 */display: inline-block !important;position: relative;}#sk-container-id-1 div.sk-text-repr-fallback {display: none;}</style><div id=\"sk-container-id-1\" class=\"sk-top-container\"><div class=\"sk-text-repr-fallback\"><pre>GridSearchCV(estimator=LogisticRegression(), n_jobs=-1,\n",
       "             param_grid={&#x27;C&#x27;: [0.001, 0.01, 0.1, 1.0, 1, 2, 3, 4]})</pre><b>In a Jupyter environment, please rerun this cell to show the HTML representation or trust the notebook. <br />On GitHub, the HTML representation is unable to render, please try loading this page with nbviewer.org.</b></div><div class=\"sk-container\" hidden><div class=\"sk-item sk-dashed-wrapped\"><div class=\"sk-label-container\"><div class=\"sk-label sk-toggleable\"><input class=\"sk-toggleable__control sk-hidden--visually\" id=\"sk-estimator-id-1\" type=\"checkbox\" ><label for=\"sk-estimator-id-1\" class=\"sk-toggleable__label sk-toggleable__label-arrow\">GridSearchCV</label><div class=\"sk-toggleable__content\"><pre>GridSearchCV(estimator=LogisticRegression(), n_jobs=-1,\n",
       "             param_grid={&#x27;C&#x27;: [0.001, 0.01, 0.1, 1.0, 1, 2, 3, 4]})</pre></div></div></div><div class=\"sk-parallel\"><div class=\"sk-parallel-item\"><div class=\"sk-item\"><div class=\"sk-label-container\"><div class=\"sk-label sk-toggleable\"><input class=\"sk-toggleable__control sk-hidden--visually\" id=\"sk-estimator-id-2\" type=\"checkbox\" ><label for=\"sk-estimator-id-2\" class=\"sk-toggleable__label sk-toggleable__label-arrow\">estimator: LogisticRegression</label><div class=\"sk-toggleable__content\"><pre>LogisticRegression()</pre></div></div></div><div class=\"sk-serial\"><div class=\"sk-item\"><div class=\"sk-estimator sk-toggleable\"><input class=\"sk-toggleable__control sk-hidden--visually\" id=\"sk-estimator-id-3\" type=\"checkbox\" ><label for=\"sk-estimator-id-3\" class=\"sk-toggleable__label sk-toggleable__label-arrow\">LogisticRegression</label><div class=\"sk-toggleable__content\"><pre>LogisticRegression()</pre></div></div></div></div></div></div></div></div></div></div>"
      ],
      "text/plain": [
       "GridSearchCV(estimator=LogisticRegression(), n_jobs=-1,\n",
       "             param_grid={'C': [0.001, 0.01, 0.1, 1.0, 1, 2, 3, 4]})"
      ]
     },
     "execution_count": 22,
     "metadata": {},
     "output_type": "execute_result"
    }
   ],
   "source": [
    "gs.fit(x_train_scaled, y_train)"
   ]
  },
  {
   "cell_type": "code",
   "execution_count": 23,
   "id": "7cc9cfe5-ef1d-4597-ad42-87136db1315c",
   "metadata": {
    "tags": []
   },
   "outputs": [
    {
     "name": "stdout",
     "output_type": "stream",
     "text": [
      "학습용: 0.7808350971714451\n",
      "시험용: 0.7776923076923077\n"
     ]
    }
   ],
   "source": [
    "lr = gs.best_estimator_\n",
    "\n",
    "print(\"학습용:\", lr.score(x_train_scaled, y_train)) # 정확도!! (분류 문제라서) (회귀 문제일 때는 R^2)\n",
    "print(\"시험용:\", lr.score(x_test_scaled, y_test))"
   ]
  },
  {
   "cell_type": "code",
   "execution_count": 35,
   "id": "d3ab970a-b49d-49dd-b4eb-709aa4c784e3",
   "metadata": {
    "tags": []
   },
   "outputs": [
    {
     "data": {
      "text/plain": [
       "{'C': 1, 'penalty': 'l1', 'solver': 'liblinear', 'tol': 0.1}"
      ]
     },
     "execution_count": 35,
     "metadata": {},
     "output_type": "execute_result"
    }
   ],
   "source": [
    "gs.best_params_ # parameter --> params"
   ]
  },
  {
   "cell_type": "code",
   "execution_count": 25,
   "id": "3661fa68-8b4a-4c23-b6f9-751e3c338def",
   "metadata": {
    "tags": []
   },
   "outputs": [
    {
     "data": {
      "text/plain": [
       "{'mean_fit_time': array([0.33773313, 0.02193522, 0.02236362, 0.01864095, 0.02336936,\n",
       "        0.0179069 , 0.03050947, 0.01512265]),\n",
       " 'std_fit_time': array([0.20691288, 0.01628114, 0.01882168, 0.00730021, 0.01417311,\n",
       "        0.00953239, 0.01749091, 0.00231461]),\n",
       " 'mean_score_time': array([0.00270991, 0.00218139, 0.00253215, 0.00217662, 0.00211115,\n",
       "        0.01296496, 0.00338955, 0.00243883]),\n",
       " 'std_score_time': array([0.0006221 , 0.00067323, 0.00044208, 0.00047135, 0.00045364,\n",
       "        0.01201836, 0.00101855, 0.00045533]),\n",
       " 'param_C': masked_array(data=[0.001, 0.01, 0.1, 1.0, 1, 2, 3, 4],\n",
       "              mask=[False, False, False, False, False, False, False, False],\n",
       "        fill_value='?',\n",
       "             dtype=object),\n",
       " 'params': [{'C': 0.001},\n",
       "  {'C': 0.01},\n",
       "  {'C': 0.1},\n",
       "  {'C': 1.0},\n",
       "  {'C': 1},\n",
       "  {'C': 2},\n",
       "  {'C': 3},\n",
       "  {'C': 4}],\n",
       " 'split0_test_score': array([0.75769231, 0.76442308, 0.77211538, 0.77403846, 0.77403846,\n",
       "        0.77403846, 0.77403846, 0.77403846]),\n",
       " 'split1_test_score': array([0.75480769, 0.76826923, 0.77596154, 0.775     , 0.775     ,\n",
       "        0.775     , 0.775     , 0.77403846]),\n",
       " 'split2_test_score': array([0.75649663, 0.78825794, 0.8026949 , 0.80558229, 0.80558229,\n",
       "        0.80558229, 0.80558229, 0.80461983]),\n",
       " 'split3_test_score': array([0.75649663, 0.76130895, 0.77382098, 0.76997113, 0.76997113,\n",
       "        0.76997113, 0.77093359, 0.77093359]),\n",
       " 'split4_test_score': array([0.75842156, 0.78248316, 0.78152069, 0.78248316, 0.78248316,\n",
       "        0.78248316, 0.78344562, 0.78344562]),\n",
       " 'mean_test_score': array([0.75678296, 0.77294847, 0.7812227 , 0.78141501, 0.78141501,\n",
       "        0.78141501, 0.78179999, 0.78141519]),\n",
       " 'std_test_score': array([0.00123106, 0.01053894, 0.01119422, 0.01274148, 0.01274148,\n",
       "        0.01274148, 0.01259258, 0.01233916]),\n",
       " 'rank_test_score': array([8, 7, 6, 3, 3, 3, 1, 2])}"
      ]
     },
     "execution_count": 25,
     "metadata": {},
     "output_type": "execute_result"
    }
   ],
   "source": [
    "gs.cv_results_"
   ]
  },
  {
   "cell_type": "code",
   "execution_count": 26,
   "id": "3b8e3dd3-ebd5-4a27-823c-06dceeae9891",
   "metadata": {
    "tags": []
   },
   "outputs": [
    {
     "name": "stdout",
     "output_type": "stream",
     "text": [
      "[0.75678296 0.77294847 0.7812227  0.78141501 0.78141501 0.78141501\n",
      " 0.78179999 0.78141519]\n"
     ]
    }
   ],
   "source": [
    "print(gs.cv_results_['mean_test_score']) # 8개 <-- C의 경우의 수"
   ]
  },
  {
   "cell_type": "code",
   "execution_count": 27,
   "id": "1fb11676-c9cc-4aa4-bd45-c74eaf393e16",
   "metadata": {
    "tags": []
   },
   "outputs": [],
   "source": [
    "parameters = {'C':[1e-3, 1e-2, 1e-1, 1e0, 1, 2, 3, 4], # 8\n",
    "              'penalty': ['l1', 'l2'], # 2\n",
    "              'tol': [1e-5, 1e-4, 1e-3, 1e-2, 1e-1], # 5\n",
    "              'solver': ['liblinear', 'saga']} # 기울기 값을 최소화시키는 방향으로 진행하는데 # 2\n",
    "\n",
    "gs = GridSearchCV(LogisticRegression(), parameters,\n",
    "                  n_jobs=-1 # 기본값=1, -1로 지정하면 모든 core 자원을 활용하기 때문에 빠른 결과를 얻을 수 있다!\n",
    "                  # k=5 <- 5-fold CV가 기본값으로 적용됨!\n",
    "                 )"
   ]
  },
  {
   "cell_type": "code",
   "execution_count": 28,
   "id": "e9f7ebcf-f661-4e9a-ae3e-2f4592b170d5",
   "metadata": {
    "tags": []
   },
   "outputs": [
    {
     "name": "stdout",
     "output_type": "stream",
     "text": [
      "학습용: 0.7823744467962286\n",
      "시험용: 0.7761538461538462\n"
     ]
    }
   ],
   "source": [
    "gs.fit(x_train_scaled, y_train)\n",
    "\n",
    "lr = gs.best_estimator_\n",
    "\n",
    "print(\"학습용:\", lr.score(x_train_scaled, y_train)) # 정확도!! (분류 문제라서) (회귀 문제일 때는 R^2)\n",
    "print(\"시험용:\", lr.score(x_test_scaled, y_test))"
   ]
  },
  {
   "cell_type": "code",
   "execution_count": 29,
   "id": "805692e0-dc9c-4eb4-8afc-b5947efcdd81",
   "metadata": {
    "tags": []
   },
   "outputs": [
    {
     "name": "stdout",
     "output_type": "stream",
     "text": [
      "{'C': 1, 'penalty': 'l1', 'solver': 'liblinear', 'tol': 0.1}\n"
     ]
    }
   ],
   "source": [
    "print(gs.best_params_)"
   ]
  },
  {
   "cell_type": "code",
   "execution_count": 30,
   "id": "c7ce9f34-f871-42d7-859c-8d5597d9b413",
   "metadata": {
    "tags": []
   },
   "outputs": [
    {
     "name": "stdout",
     "output_type": "stream",
     "text": [
      "[8 9 2 7 0 1 3 6 8 5 7 6 9 6 1 3 5 4 1 3 6 4 1 8 5 6 8 7 2 3 9 6 3 7 5 9 3\n",
      " 2 0 6 5 4 8 2 5 1 9 6 6 3 4 6 0 2 2 8 1 1 5 9 7 5 5 1 3 9 1 2 2 8 8 0 8 2\n",
      " 6 0 5 3 1 7 5 0 1 1 6 4 3 2 9 3 7 4 0 5 4 2 8 2 6 8]\n"
     ]
    }
   ],
   "source": [
    "# 랜덤 서치!!!\n",
    "from scipy.stats import uniform, randint\n",
    "    \n",
    "ran_generator1 = randint(0, 10) # 정수값 난수 생성기 객체를 반환해줌!\n",
    "\n",
    "print(ran_generator1.rvs(100))"
   ]
  },
  {
   "cell_type": "code",
   "execution_count": 31,
   "id": "068678c3-837a-4f4e-8104-89f690ba907a",
   "metadata": {
    "tags": []
   },
   "outputs": [
    {
     "name": "stdout",
     "output_type": "stream",
     "text": [
      "[0.4903867  0.09936075 0.16461333 0.24705178 0.58301854 0.17812905\n",
      " 0.96267349 0.9709747  0.58189271 0.17694309]\n"
     ]
    }
   ],
   "source": [
    "ran_generator2 = uniform(0, 1) # 실수값 난수 생성기 객체\n",
    "print(ran_generator2.rvs(10))"
   ]
  },
  {
   "cell_type": "code",
   "execution_count": 32,
   "id": "90998764-d4b5-4a4d-a1b6-fbefef598cbd",
   "metadata": {
    "tags": []
   },
   "outputs": [],
   "source": [
    "from sklearn.model_selection import RandomizedSearchCV\n",
    "\n",
    "parameters = {'C': randint(1,10),\n",
    "              'penalty': ['l1', 'l2'],\n",
    "              'tol': uniform(1e-5, 1e-1),\n",
    "              'solver': ['liblinear', 'saga']}\n",
    "\n",
    "rs = RandomizedSearchCV(LogisticRegression(), parameters,\n",
    "                       n_jobs=-1)"
   ]
  },
  {
   "cell_type": "code",
   "execution_count": 33,
   "id": "ef7c9248-ba24-4557-a572-6dcf03f1448f",
   "metadata": {
    "tags": []
   },
   "outputs": [
    {
     "name": "stdout",
     "output_type": "stream",
     "text": [
      "학습용: 0.7817971906869348\n",
      "시험용: 0.7769230769230769\n"
     ]
    }
   ],
   "source": [
    "rs.fit(x_train_scaled, y_train)\n",
    "\n",
    "lr = rs.best_estimator_\n",
    "\n",
    "print(\"학습용:\", lr.score(x_train_scaled, y_train)) # 정확도!! (분류 문제라서) (회귀 문제일 때는 R^2)\n",
    "print(\"시험용:\", lr.score(x_test_scaled, y_test))"
   ]
  },
  {
   "cell_type": "code",
   "execution_count": 34,
   "id": "1e3f07ae-b329-498d-b7d5-d52634c57b90",
   "metadata": {
    "tags": []
   },
   "outputs": [
    {
     "name": "stdout",
     "output_type": "stream",
     "text": [
      "{'C': 7, 'penalty': 'l2', 'solver': 'liblinear', 'tol': 0.0838207398469326}\n"
     ]
    }
   ],
   "source": [
    "print(rs.best_params_)"
   ]
  }
 ],
 "metadata": {
  "kernelspec": {
   "display_name": "Python 3 (ipykernel)",
   "language": "python",
   "name": "python3"
  },
  "language_info": {
   "codemirror_mode": {
    "name": "ipython",
    "version": 3
   },
   "file_extension": ".py",
   "mimetype": "text/x-python",
   "name": "python",
   "nbconvert_exporter": "python",
   "pygments_lexer": "ipython3",
   "version": "3.11.4"
  }
 },
 "nbformat": 4,
 "nbformat_minor": 5
}
