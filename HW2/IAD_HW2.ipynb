{
  "nbformat": 4,
  "nbformat_minor": 0,
  "metadata": {
    "colab": {
      "provenance": []
    },
    "kernelspec": {
      "name": "python3",
      "display_name": "Python 3"
    },
    "language_info": {
      "name": "python"
    }
  },
  "cells": [
    {
      "cell_type": "code",
      "execution_count": null,
      "metadata": {
        "colab": {
          "base_uri": "https://localhost:8080/",
          "height": 514
        },
        "id": "OQLQOwjNJLlX",
        "outputId": "da5da8c0-bc62-4e1c-f4e6-a33f630bffef"
      },
      "outputs": [
        {
          "output_type": "stream",
          "name": "stdout",
          "text": [
            "<class 'pandas.core.frame.DataFrame'>\n"
          ]
        },
        {
          "output_type": "execute_result",
          "data": {
            "text/plain": [
              "      Adult Mortality  infant deaths  Alcohol  percentage expenditure  \\\n",
              "0               197.0              4     3.50                2.092344   \n",
              "1                73.0              0     1.83               91.139718   \n",
              "2               267.0              5     7.99               29.381727   \n",
              "3                86.0              0    12.10             5316.877456   \n",
              "4               157.0              6     6.05              587.882823   \n",
              "...               ...            ...      ...                     ...   \n",
              "1314            163.0              0    10.21             1356.022164   \n",
              "1315            212.0              5     8.39              375.683538   \n",
              "1316            289.0            177     1.13               38.557833   \n",
              "1317            154.0             54     7.52             1111.191325   \n",
              "1318            138.0              3     2.31              191.726759   \n",
              "\n",
              "      Hepatitis B  Measles    BMI   under-five deaths   Polio  \\\n",
              "0            85.0         0   44.2                   5   85.0   \n",
              "1            97.0         0   22.1                   0   97.0   \n",
              "2            96.0     42724   56.8                   6   99.0   \n",
              "3            83.0        15   52.2                   0   83.0   \n",
              "4             8.0         0   52.6                   8   85.0   \n",
              "...           ...       ...    ...                 ...    ...   \n",
              "1314          9.0         3   59.8                   0   91.0   \n",
              "1315         48.0        39   58.5                   6   57.0   \n",
              "1316         52.0      3511   14.9                 270   63.0   \n",
              "1317         96.0        68   52.0                  61   99.0   \n",
              "1318         99.0        79   19.8                   4   99.0   \n",
              "\n",
              "      Total expenditure  Diphtheria    HIV/AIDS           GDP   Population  \\\n",
              "0                  5.71         85.0        0.4     11.147277    5171734.0   \n",
              "1                  7.93         96.0        0.1    633.794980        367.0   \n",
              "2                  6.39         98.0        0.8    233.188310    4678775.0   \n",
              "3                  1.56         83.0        0.1  36693.426200    8171966.0   \n",
              "4                  4.41         82.0        1.2   4952.677530    9767758.0   \n",
              "...                 ...          ...        ...           ...          ...   \n",
              "1314               5.91         91.0        0.1  13822.855900     234319.0   \n",
              "1315               7.81         52.0        0.2   2965.142365      45877.0   \n",
              "1316               4.28         54.0        2.4    325.382554   83184892.0   \n",
              "1317               8.27         99.0        0.1  11224.154800  196796269.0   \n",
              "1318               3.43         99.0        0.1   2819.511161       2119.0   \n",
              "\n",
              "       thinness  1-19 years   thinness 5-9 years  \\\n",
              "0                       2.2                  2.1   \n",
              "1                      14.0                 14.1   \n",
              "2                       2.6                  2.7   \n",
              "3                       1.7                  1.9   \n",
              "4                       3.4                  3.3   \n",
              "...                     ...                  ...   \n",
              "1314                    2.2                  2.2   \n",
              "1315                    2.4                  2.5   \n",
              "1316                   11.2                  1.9   \n",
              "1317                    2.9                  2.9   \n",
              "1318                   15.3                 15.3   \n",
              "\n",
              "      Income composition of resources  Schooling  Life expectancy   \n",
              "0                               0.577       10.7              75.0  \n",
              "1                               0.653       11.6              76.7  \n",
              "2                               0.716       14.7              67.7  \n",
              "3                               0.841       14.7              79.3  \n",
              "4                               0.695       12.9              73.6  \n",
              "...                               ...        ...               ...  \n",
              "1314                            0.812       15.5              73.8  \n",
              "1315                            0.728       14.9              69.8  \n",
              "1316                            0.378        7.6              59.8  \n",
              "1317                            0.716       13.8              73.8  \n",
              "1318                            0.739       13.5              74.5  \n",
              "\n",
              "[1319 rows x 19 columns]"
            ],
            "text/html": [
              "\n",
              "  <div id=\"df-1c592bd6-fde8-43f3-ae48-a89f700d7e91\" class=\"colab-df-container\">\n",
              "    <div>\n",
              "<style scoped>\n",
              "    .dataframe tbody tr th:only-of-type {\n",
              "        vertical-align: middle;\n",
              "    }\n",
              "\n",
              "    .dataframe tbody tr th {\n",
              "        vertical-align: top;\n",
              "    }\n",
              "\n",
              "    .dataframe thead th {\n",
              "        text-align: right;\n",
              "    }\n",
              "</style>\n",
              "<table border=\"1\" class=\"dataframe\">\n",
              "  <thead>\n",
              "    <tr style=\"text-align: right;\">\n",
              "      <th></th>\n",
              "      <th>Adult Mortality</th>\n",
              "      <th>infant deaths</th>\n",
              "      <th>Alcohol</th>\n",
              "      <th>percentage expenditure</th>\n",
              "      <th>Hepatitis B</th>\n",
              "      <th>Measles</th>\n",
              "      <th>BMI</th>\n",
              "      <th>under-five deaths</th>\n",
              "      <th>Polio</th>\n",
              "      <th>Total expenditure</th>\n",
              "      <th>Diphtheria</th>\n",
              "      <th>HIV/AIDS</th>\n",
              "      <th>GDP</th>\n",
              "      <th>Population</th>\n",
              "      <th>thinness  1-19 years</th>\n",
              "      <th>thinness 5-9 years</th>\n",
              "      <th>Income composition of resources</th>\n",
              "      <th>Schooling</th>\n",
              "      <th>Life expectancy</th>\n",
              "    </tr>\n",
              "  </thead>\n",
              "  <tbody>\n",
              "    <tr>\n",
              "      <th>0</th>\n",
              "      <td>197.0</td>\n",
              "      <td>4</td>\n",
              "      <td>3.50</td>\n",
              "      <td>2.092344</td>\n",
              "      <td>85.0</td>\n",
              "      <td>0</td>\n",
              "      <td>44.2</td>\n",
              "      <td>5</td>\n",
              "      <td>85.0</td>\n",
              "      <td>5.71</td>\n",
              "      <td>85.0</td>\n",
              "      <td>0.4</td>\n",
              "      <td>11.147277</td>\n",
              "      <td>5171734.0</td>\n",
              "      <td>2.2</td>\n",
              "      <td>2.1</td>\n",
              "      <td>0.577</td>\n",
              "      <td>10.7</td>\n",
              "      <td>75.0</td>\n",
              "    </tr>\n",
              "    <tr>\n",
              "      <th>1</th>\n",
              "      <td>73.0</td>\n",
              "      <td>0</td>\n",
              "      <td>1.83</td>\n",
              "      <td>91.139718</td>\n",
              "      <td>97.0</td>\n",
              "      <td>0</td>\n",
              "      <td>22.1</td>\n",
              "      <td>0</td>\n",
              "      <td>97.0</td>\n",
              "      <td>7.93</td>\n",
              "      <td>96.0</td>\n",
              "      <td>0.1</td>\n",
              "      <td>633.794980</td>\n",
              "      <td>367.0</td>\n",
              "      <td>14.0</td>\n",
              "      <td>14.1</td>\n",
              "      <td>0.653</td>\n",
              "      <td>11.6</td>\n",
              "      <td>76.7</td>\n",
              "    </tr>\n",
              "    <tr>\n",
              "      <th>2</th>\n",
              "      <td>267.0</td>\n",
              "      <td>5</td>\n",
              "      <td>7.99</td>\n",
              "      <td>29.381727</td>\n",
              "      <td>96.0</td>\n",
              "      <td>42724</td>\n",
              "      <td>56.8</td>\n",
              "      <td>6</td>\n",
              "      <td>99.0</td>\n",
              "      <td>6.39</td>\n",
              "      <td>98.0</td>\n",
              "      <td>0.8</td>\n",
              "      <td>233.188310</td>\n",
              "      <td>4678775.0</td>\n",
              "      <td>2.6</td>\n",
              "      <td>2.7</td>\n",
              "      <td>0.716</td>\n",
              "      <td>14.7</td>\n",
              "      <td>67.7</td>\n",
              "    </tr>\n",
              "    <tr>\n",
              "      <th>3</th>\n",
              "      <td>86.0</td>\n",
              "      <td>0</td>\n",
              "      <td>12.10</td>\n",
              "      <td>5316.877456</td>\n",
              "      <td>83.0</td>\n",
              "      <td>15</td>\n",
              "      <td>52.2</td>\n",
              "      <td>0</td>\n",
              "      <td>83.0</td>\n",
              "      <td>1.56</td>\n",
              "      <td>83.0</td>\n",
              "      <td>0.1</td>\n",
              "      <td>36693.426200</td>\n",
              "      <td>8171966.0</td>\n",
              "      <td>1.7</td>\n",
              "      <td>1.9</td>\n",
              "      <td>0.841</td>\n",
              "      <td>14.7</td>\n",
              "      <td>79.3</td>\n",
              "    </tr>\n",
              "    <tr>\n",
              "      <th>4</th>\n",
              "      <td>157.0</td>\n",
              "      <td>6</td>\n",
              "      <td>6.05</td>\n",
              "      <td>587.882823</td>\n",
              "      <td>8.0</td>\n",
              "      <td>0</td>\n",
              "      <td>52.6</td>\n",
              "      <td>8</td>\n",
              "      <td>85.0</td>\n",
              "      <td>4.41</td>\n",
              "      <td>82.0</td>\n",
              "      <td>1.2</td>\n",
              "      <td>4952.677530</td>\n",
              "      <td>9767758.0</td>\n",
              "      <td>3.4</td>\n",
              "      <td>3.3</td>\n",
              "      <td>0.695</td>\n",
              "      <td>12.9</td>\n",
              "      <td>73.6</td>\n",
              "    </tr>\n",
              "    <tr>\n",
              "      <th>...</th>\n",
              "      <td>...</td>\n",
              "      <td>...</td>\n",
              "      <td>...</td>\n",
              "      <td>...</td>\n",
              "      <td>...</td>\n",
              "      <td>...</td>\n",
              "      <td>...</td>\n",
              "      <td>...</td>\n",
              "      <td>...</td>\n",
              "      <td>...</td>\n",
              "      <td>...</td>\n",
              "      <td>...</td>\n",
              "      <td>...</td>\n",
              "      <td>...</td>\n",
              "      <td>...</td>\n",
              "      <td>...</td>\n",
              "      <td>...</td>\n",
              "      <td>...</td>\n",
              "      <td>...</td>\n",
              "    </tr>\n",
              "    <tr>\n",
              "      <th>1314</th>\n",
              "      <td>163.0</td>\n",
              "      <td>0</td>\n",
              "      <td>10.21</td>\n",
              "      <td>1356.022164</td>\n",
              "      <td>9.0</td>\n",
              "      <td>3</td>\n",
              "      <td>59.8</td>\n",
              "      <td>0</td>\n",
              "      <td>91.0</td>\n",
              "      <td>5.91</td>\n",
              "      <td>91.0</td>\n",
              "      <td>0.1</td>\n",
              "      <td>13822.855900</td>\n",
              "      <td>234319.0</td>\n",
              "      <td>2.2</td>\n",
              "      <td>2.2</td>\n",
              "      <td>0.812</td>\n",
              "      <td>15.5</td>\n",
              "      <td>73.8</td>\n",
              "    </tr>\n",
              "    <tr>\n",
              "      <th>1315</th>\n",
              "      <td>212.0</td>\n",
              "      <td>5</td>\n",
              "      <td>8.39</td>\n",
              "      <td>375.683538</td>\n",
              "      <td>48.0</td>\n",
              "      <td>39</td>\n",
              "      <td>58.5</td>\n",
              "      <td>6</td>\n",
              "      <td>57.0</td>\n",
              "      <td>7.81</td>\n",
              "      <td>52.0</td>\n",
              "      <td>0.2</td>\n",
              "      <td>2965.142365</td>\n",
              "      <td>45877.0</td>\n",
              "      <td>2.4</td>\n",
              "      <td>2.5</td>\n",
              "      <td>0.728</td>\n",
              "      <td>14.9</td>\n",
              "      <td>69.8</td>\n",
              "    </tr>\n",
              "    <tr>\n",
              "      <th>1316</th>\n",
              "      <td>289.0</td>\n",
              "      <td>177</td>\n",
              "      <td>1.13</td>\n",
              "      <td>38.557833</td>\n",
              "      <td>52.0</td>\n",
              "      <td>3511</td>\n",
              "      <td>14.9</td>\n",
              "      <td>270</td>\n",
              "      <td>63.0</td>\n",
              "      <td>4.28</td>\n",
              "      <td>54.0</td>\n",
              "      <td>2.4</td>\n",
              "      <td>325.382554</td>\n",
              "      <td>83184892.0</td>\n",
              "      <td>11.2</td>\n",
              "      <td>1.9</td>\n",
              "      <td>0.378</td>\n",
              "      <td>7.6</td>\n",
              "      <td>59.8</td>\n",
              "    </tr>\n",
              "    <tr>\n",
              "      <th>1317</th>\n",
              "      <td>154.0</td>\n",
              "      <td>54</td>\n",
              "      <td>7.52</td>\n",
              "      <td>1111.191325</td>\n",
              "      <td>96.0</td>\n",
              "      <td>68</td>\n",
              "      <td>52.0</td>\n",
              "      <td>61</td>\n",
              "      <td>99.0</td>\n",
              "      <td>8.27</td>\n",
              "      <td>99.0</td>\n",
              "      <td>0.1</td>\n",
              "      <td>11224.154800</td>\n",
              "      <td>196796269.0</td>\n",
              "      <td>2.9</td>\n",
              "      <td>2.9</td>\n",
              "      <td>0.716</td>\n",
              "      <td>13.8</td>\n",
              "      <td>73.8</td>\n",
              "    </tr>\n",
              "    <tr>\n",
              "      <th>1318</th>\n",
              "      <td>138.0</td>\n",
              "      <td>3</td>\n",
              "      <td>2.31</td>\n",
              "      <td>191.726759</td>\n",
              "      <td>99.0</td>\n",
              "      <td>79</td>\n",
              "      <td>19.8</td>\n",
              "      <td>4</td>\n",
              "      <td>99.0</td>\n",
              "      <td>3.43</td>\n",
              "      <td>99.0</td>\n",
              "      <td>0.1</td>\n",
              "      <td>2819.511161</td>\n",
              "      <td>2119.0</td>\n",
              "      <td>15.3</td>\n",
              "      <td>15.3</td>\n",
              "      <td>0.739</td>\n",
              "      <td>13.5</td>\n",
              "      <td>74.5</td>\n",
              "    </tr>\n",
              "  </tbody>\n",
              "</table>\n",
              "<p>1319 rows × 19 columns</p>\n",
              "</div>\n",
              "    <div class=\"colab-df-buttons\">\n",
              "\n",
              "  <div class=\"colab-df-container\">\n",
              "    <button class=\"colab-df-convert\" onclick=\"convertToInteractive('df-1c592bd6-fde8-43f3-ae48-a89f700d7e91')\"\n",
              "            title=\"Convert this dataframe to an interactive table.\"\n",
              "            style=\"display:none;\">\n",
              "\n",
              "  <svg xmlns=\"http://www.w3.org/2000/svg\" height=\"24px\" viewBox=\"0 -960 960 960\">\n",
              "    <path d=\"M120-120v-720h720v720H120Zm60-500h600v-160H180v160Zm220 220h160v-160H400v160Zm0 220h160v-160H400v160ZM180-400h160v-160H180v160Zm440 0h160v-160H620v160ZM180-180h160v-160H180v160Zm440 0h160v-160H620v160Z\"/>\n",
              "  </svg>\n",
              "    </button>\n",
              "\n",
              "  <style>\n",
              "    .colab-df-container {\n",
              "      display:flex;\n",
              "      gap: 12px;\n",
              "    }\n",
              "\n",
              "    .colab-df-convert {\n",
              "      background-color: #E8F0FE;\n",
              "      border: none;\n",
              "      border-radius: 50%;\n",
              "      cursor: pointer;\n",
              "      display: none;\n",
              "      fill: #1967D2;\n",
              "      height: 32px;\n",
              "      padding: 0 0 0 0;\n",
              "      width: 32px;\n",
              "    }\n",
              "\n",
              "    .colab-df-convert:hover {\n",
              "      background-color: #E2EBFA;\n",
              "      box-shadow: 0px 1px 2px rgba(60, 64, 67, 0.3), 0px 1px 3px 1px rgba(60, 64, 67, 0.15);\n",
              "      fill: #174EA6;\n",
              "    }\n",
              "\n",
              "    .colab-df-buttons div {\n",
              "      margin-bottom: 4px;\n",
              "    }\n",
              "\n",
              "    [theme=dark] .colab-df-convert {\n",
              "      background-color: #3B4455;\n",
              "      fill: #D2E3FC;\n",
              "    }\n",
              "\n",
              "    [theme=dark] .colab-df-convert:hover {\n",
              "      background-color: #434B5C;\n",
              "      box-shadow: 0px 1px 3px 1px rgba(0, 0, 0, 0.15);\n",
              "      filter: drop-shadow(0px 1px 2px rgba(0, 0, 0, 0.3));\n",
              "      fill: #FFFFFF;\n",
              "    }\n",
              "  </style>\n",
              "\n",
              "    <script>\n",
              "      const buttonEl =\n",
              "        document.querySelector('#df-1c592bd6-fde8-43f3-ae48-a89f700d7e91 button.colab-df-convert');\n",
              "      buttonEl.style.display =\n",
              "        google.colab.kernel.accessAllowed ? 'block' : 'none';\n",
              "\n",
              "      async function convertToInteractive(key) {\n",
              "        const element = document.querySelector('#df-1c592bd6-fde8-43f3-ae48-a89f700d7e91');\n",
              "        const dataTable =\n",
              "          await google.colab.kernel.invokeFunction('convertToInteractive',\n",
              "                                                    [key], {});\n",
              "        if (!dataTable) return;\n",
              "\n",
              "        const docLinkHtml = 'Like what you see? Visit the ' +\n",
              "          '<a target=\"_blank\" href=https://colab.research.google.com/notebooks/data_table.ipynb>data table notebook</a>'\n",
              "          + ' to learn more about interactive tables.';\n",
              "        element.innerHTML = '';\n",
              "        dataTable['output_type'] = 'display_data';\n",
              "        await google.colab.output.renderOutput(dataTable, element);\n",
              "        const docLink = document.createElement('div');\n",
              "        docLink.innerHTML = docLinkHtml;\n",
              "        element.appendChild(docLink);\n",
              "      }\n",
              "    </script>\n",
              "  </div>\n",
              "\n",
              "\n",
              "<div id=\"df-68373f6e-879d-42ae-a842-934bb88d68d1\">\n",
              "  <button class=\"colab-df-quickchart\" onclick=\"quickchart('df-68373f6e-879d-42ae-a842-934bb88d68d1')\"\n",
              "            title=\"Suggest charts\"\n",
              "            style=\"display:none;\">\n",
              "\n",
              "<svg xmlns=\"http://www.w3.org/2000/svg\" height=\"24px\"viewBox=\"0 0 24 24\"\n",
              "     width=\"24px\">\n",
              "    <g>\n",
              "        <path d=\"M19 3H5c-1.1 0-2 .9-2 2v14c0 1.1.9 2 2 2h14c1.1 0 2-.9 2-2V5c0-1.1-.9-2-2-2zM9 17H7v-7h2v7zm4 0h-2V7h2v10zm4 0h-2v-4h2v4z\"/>\n",
              "    </g>\n",
              "</svg>\n",
              "  </button>\n",
              "\n",
              "<style>\n",
              "  .colab-df-quickchart {\n",
              "      --bg-color: #E8F0FE;\n",
              "      --fill-color: #1967D2;\n",
              "      --hover-bg-color: #E2EBFA;\n",
              "      --hover-fill-color: #174EA6;\n",
              "      --disabled-fill-color: #AAA;\n",
              "      --disabled-bg-color: #DDD;\n",
              "  }\n",
              "\n",
              "  [theme=dark] .colab-df-quickchart {\n",
              "      --bg-color: #3B4455;\n",
              "      --fill-color: #D2E3FC;\n",
              "      --hover-bg-color: #434B5C;\n",
              "      --hover-fill-color: #FFFFFF;\n",
              "      --disabled-bg-color: #3B4455;\n",
              "      --disabled-fill-color: #666;\n",
              "  }\n",
              "\n",
              "  .colab-df-quickchart {\n",
              "    background-color: var(--bg-color);\n",
              "    border: none;\n",
              "    border-radius: 50%;\n",
              "    cursor: pointer;\n",
              "    display: none;\n",
              "    fill: var(--fill-color);\n",
              "    height: 32px;\n",
              "    padding: 0;\n",
              "    width: 32px;\n",
              "  }\n",
              "\n",
              "  .colab-df-quickchart:hover {\n",
              "    background-color: var(--hover-bg-color);\n",
              "    box-shadow: 0 1px 2px rgba(60, 64, 67, 0.3), 0 1px 3px 1px rgba(60, 64, 67, 0.15);\n",
              "    fill: var(--button-hover-fill-color);\n",
              "  }\n",
              "\n",
              "  .colab-df-quickchart-complete:disabled,\n",
              "  .colab-df-quickchart-complete:disabled:hover {\n",
              "    background-color: var(--disabled-bg-color);\n",
              "    fill: var(--disabled-fill-color);\n",
              "    box-shadow: none;\n",
              "  }\n",
              "\n",
              "  .colab-df-spinner {\n",
              "    border: 2px solid var(--fill-color);\n",
              "    border-color: transparent;\n",
              "    border-bottom-color: var(--fill-color);\n",
              "    animation:\n",
              "      spin 1s steps(1) infinite;\n",
              "  }\n",
              "\n",
              "  @keyframes spin {\n",
              "    0% {\n",
              "      border-color: transparent;\n",
              "      border-bottom-color: var(--fill-color);\n",
              "      border-left-color: var(--fill-color);\n",
              "    }\n",
              "    20% {\n",
              "      border-color: transparent;\n",
              "      border-left-color: var(--fill-color);\n",
              "      border-top-color: var(--fill-color);\n",
              "    }\n",
              "    30% {\n",
              "      border-color: transparent;\n",
              "      border-left-color: var(--fill-color);\n",
              "      border-top-color: var(--fill-color);\n",
              "      border-right-color: var(--fill-color);\n",
              "    }\n",
              "    40% {\n",
              "      border-color: transparent;\n",
              "      border-right-color: var(--fill-color);\n",
              "      border-top-color: var(--fill-color);\n",
              "    }\n",
              "    60% {\n",
              "      border-color: transparent;\n",
              "      border-right-color: var(--fill-color);\n",
              "    }\n",
              "    80% {\n",
              "      border-color: transparent;\n",
              "      border-right-color: var(--fill-color);\n",
              "      border-bottom-color: var(--fill-color);\n",
              "    }\n",
              "    90% {\n",
              "      border-color: transparent;\n",
              "      border-bottom-color: var(--fill-color);\n",
              "    }\n",
              "  }\n",
              "</style>\n",
              "\n",
              "  <script>\n",
              "    async function quickchart(key) {\n",
              "      const quickchartButtonEl =\n",
              "        document.querySelector('#' + key + ' button');\n",
              "      quickchartButtonEl.disabled = true;  // To prevent multiple clicks.\n",
              "      quickchartButtonEl.classList.add('colab-df-spinner');\n",
              "      try {\n",
              "        const charts = await google.colab.kernel.invokeFunction(\n",
              "            'suggestCharts', [key], {});\n",
              "      } catch (error) {\n",
              "        console.error('Error during call to suggestCharts:', error);\n",
              "      }\n",
              "      quickchartButtonEl.classList.remove('colab-df-spinner');\n",
              "      quickchartButtonEl.classList.add('colab-df-quickchart-complete');\n",
              "    }\n",
              "    (() => {\n",
              "      let quickchartButtonEl =\n",
              "        document.querySelector('#df-68373f6e-879d-42ae-a842-934bb88d68d1 button');\n",
              "      quickchartButtonEl.style.display =\n",
              "        google.colab.kernel.accessAllowed ? 'block' : 'none';\n",
              "    })();\n",
              "  </script>\n",
              "</div>\n",
              "\n",
              "  <div id=\"id_1570ab17-52bb-45ea-92bf-d0d4473ba6d4\">\n",
              "    <style>\n",
              "      .colab-df-generate {\n",
              "        background-color: #E8F0FE;\n",
              "        border: none;\n",
              "        border-radius: 50%;\n",
              "        cursor: pointer;\n",
              "        display: none;\n",
              "        fill: #1967D2;\n",
              "        height: 32px;\n",
              "        padding: 0 0 0 0;\n",
              "        width: 32px;\n",
              "      }\n",
              "\n",
              "      .colab-df-generate:hover {\n",
              "        background-color: #E2EBFA;\n",
              "        box-shadow: 0px 1px 2px rgba(60, 64, 67, 0.3), 0px 1px 3px 1px rgba(60, 64, 67, 0.15);\n",
              "        fill: #174EA6;\n",
              "      }\n",
              "\n",
              "      [theme=dark] .colab-df-generate {\n",
              "        background-color: #3B4455;\n",
              "        fill: #D2E3FC;\n",
              "      }\n",
              "\n",
              "      [theme=dark] .colab-df-generate:hover {\n",
              "        background-color: #434B5C;\n",
              "        box-shadow: 0px 1px 3px 1px rgba(0, 0, 0, 0.15);\n",
              "        filter: drop-shadow(0px 1px 2px rgba(0, 0, 0, 0.3));\n",
              "        fill: #FFFFFF;\n",
              "      }\n",
              "    </style>\n",
              "    <button class=\"colab-df-generate\" onclick=\"generateWithVariable('train')\"\n",
              "            title=\"Generate code using this dataframe.\"\n",
              "            style=\"display:none;\">\n",
              "\n",
              "  <svg xmlns=\"http://www.w3.org/2000/svg\" height=\"24px\"viewBox=\"0 0 24 24\"\n",
              "       width=\"24px\">\n",
              "    <path d=\"M7,19H8.4L18.45,9,17,7.55,7,17.6ZM5,21V16.75L18.45,3.32a2,2,0,0,1,2.83,0l1.4,1.43a1.91,1.91,0,0,1,.58,1.4,1.91,1.91,0,0,1-.58,1.4L9.25,21ZM18.45,9,17,7.55Zm-12,3A5.31,5.31,0,0,0,4.9,8.1,5.31,5.31,0,0,0,1,6.5,5.31,5.31,0,0,0,4.9,4.9,5.31,5.31,0,0,0,6.5,1,5.31,5.31,0,0,0,8.1,4.9,5.31,5.31,0,0,0,12,6.5,5.46,5.46,0,0,0,6.5,12Z\"/>\n",
              "  </svg>\n",
              "    </button>\n",
              "    <script>\n",
              "      (() => {\n",
              "      const buttonEl =\n",
              "        document.querySelector('#id_1570ab17-52bb-45ea-92bf-d0d4473ba6d4 button.colab-df-generate');\n",
              "      buttonEl.style.display =\n",
              "        google.colab.kernel.accessAllowed ? 'block' : 'none';\n",
              "\n",
              "      buttonEl.onclick = () => {\n",
              "        google.colab.notebook.generateWithVariable('train');\n",
              "      }\n",
              "      })();\n",
              "    </script>\n",
              "  </div>\n",
              "\n",
              "    </div>\n",
              "  </div>\n"
            ],
            "application/vnd.google.colaboratory.intrinsic+json": {
              "type": "dataframe",
              "variable_name": "train",
              "summary": "{\n  \"name\": \"train\",\n  \"rows\": 1319,\n  \"fields\": [\n    {\n      \"column\": \"Adult Mortality\",\n      \"properties\": {\n        \"dtype\": \"number\",\n        \"std\": 126.6070797702312,\n        \"min\": 1.0,\n        \"max\": 723.0,\n        \"num_unique_values\": 355,\n        \"samples\": [\n          654.0,\n          181.0,\n          395.0\n        ],\n        \"semantic_type\": \"\",\n        \"description\": \"\"\n      }\n    },\n    {\n      \"column\": \"infant deaths\",\n      \"properties\": {\n        \"dtype\": \"number\",\n        \"std\": 128,\n        \"min\": 0,\n        \"max\": 1600,\n        \"num_unique_values\": 149,\n        \"samples\": [\n          1300,\n          22,\n          68\n        ],\n        \"semantic_type\": \"\",\n        \"description\": \"\"\n      }\n    },\n    {\n      \"column\": \"Alcohol\",\n      \"properties\": {\n        \"dtype\": \"number\",\n        \"std\": 4.005855533572864,\n        \"min\": 0.01,\n        \"max\": 17.87,\n        \"num_unique_values\": 737,\n        \"samples\": [\n          3.67,\n          3.82,\n          7.45\n        ],\n        \"semantic_type\": \"\",\n        \"description\": \"\"\n      }\n    },\n    {\n      \"column\": \"percentage expenditure\",\n      \"properties\": {\n        \"dtype\": \"number\",\n        \"std\": 1688.693058491409,\n        \"min\": 0.0,\n        \"max\": 18961.3486,\n        \"num_unique_values\": 1315,\n        \"samples\": [\n          54.56033696,\n          62.65945432,\n          24.84763562\n        ],\n        \"semantic_type\": \"\",\n        \"description\": \"\"\n      }\n    },\n    {\n      \"column\": \"Hepatitis B\",\n      \"properties\": {\n        \"dtype\": \"number\",\n        \"std\": 25.13879241081762,\n        \"min\": 2.0,\n        \"max\": 99.0,\n        \"num_unique_values\": 80,\n        \"samples\": [\n          91.0,\n          85.0,\n          65.0\n        ],\n        \"semantic_type\": \"\",\n        \"description\": \"\"\n      }\n    },\n    {\n      \"column\": \"Measles \",\n      \"properties\": {\n        \"dtype\": \"number\",\n        \"std\": 9981,\n        \"min\": 0,\n        \"max\": 124219,\n        \"num_unique_values\": 512,\n        \"samples\": [\n          2027,\n          118712,\n          73\n        ],\n        \"semantic_type\": \"\",\n        \"description\": \"\"\n      }\n    },\n    {\n      \"column\": \" BMI \",\n      \"properties\": {\n        \"dtype\": \"number\",\n        \"std\": 19.857313341783044,\n        \"min\": 2.0,\n        \"max\": 77.1,\n        \"num_unique_values\": 506,\n        \"samples\": [\n          3.2,\n          58.9,\n          43.0\n        ],\n        \"semantic_type\": \"\",\n        \"description\": \"\"\n      }\n    },\n    {\n      \"column\": \"under-five deaths \",\n      \"properties\": {\n        \"dtype\": \"number\",\n        \"std\": 173,\n        \"min\": 0,\n        \"max\": 2100,\n        \"num_unique_values\": 186,\n        \"samples\": [\n          148,\n          788,\n          450\n        ],\n        \"semantic_type\": \"\",\n        \"description\": \"\"\n      }\n    },\n    {\n      \"column\": \"Polio\",\n      \"properties\": {\n        \"dtype\": \"number\",\n        \"std\": 22.061833491170542,\n        \"min\": 3.0,\n        \"max\": 99.0,\n        \"num_unique_values\": 64,\n        \"samples\": [\n          58.0,\n          59.0,\n          85.0\n        ],\n        \"semantic_type\": \"\",\n        \"description\": \"\"\n      }\n    },\n    {\n      \"column\": \"Total expenditure\",\n      \"properties\": {\n        \"dtype\": \"number\",\n        \"std\": 2.2997769991686674,\n        \"min\": 0.74,\n        \"max\": 14.39,\n        \"num_unique_values\": 617,\n        \"samples\": [\n          6.53,\n          8.52,\n          5.66\n        ],\n        \"semantic_type\": \"\",\n        \"description\": \"\"\n      }\n    },\n    {\n      \"column\": \"Diphtheria \",\n      \"properties\": {\n        \"dtype\": \"number\",\n        \"std\": 21.114410682974107,\n        \"min\": 2.0,\n        \"max\": 99.0,\n        \"num_unique_values\": 65,\n        \"samples\": [\n          23.0,\n          54.0,\n          85.0\n        ],\n        \"semantic_type\": \"\",\n        \"description\": \"\"\n      }\n    },\n    {\n      \"column\": \" HIV/AIDS\",\n      \"properties\": {\n        \"dtype\": \"number\",\n        \"std\": 6.363276398190546,\n        \"min\": 0.1,\n        \"max\": 50.6,\n        \"num_unique_values\": 150,\n        \"samples\": [\n          15.9,\n          4.3,\n          33.7\n        ],\n        \"semantic_type\": \"\",\n        \"description\": \"\"\n      }\n    },\n    {\n      \"column\": \"GDP\",\n      \"properties\": {\n        \"dtype\": \"number\",\n        \"std\": 11015.61963237343,\n        \"min\": 1.68135,\n        \"max\": 119172.7418,\n        \"num_unique_values\": 1319,\n        \"samples\": [\n          473.844449,\n          544.43376,\n          253.72412\n        ],\n        \"semantic_type\": \"\",\n        \"description\": \"\"\n      }\n    },\n    {\n      \"column\": \"Population\",\n      \"properties\": {\n        \"dtype\": \"number\",\n        \"std\": 77600247.90789698,\n        \"min\": 34.0,\n        \"max\": 1293859294.0,\n        \"num_unique_values\": 1319,\n        \"samples\": [\n          26475859.0,\n          35544564.0,\n          2495623.0\n        ],\n        \"semantic_type\": \"\",\n        \"description\": \"\"\n      }\n    },\n    {\n      \"column\": \" thinness  1-19 years\",\n      \"properties\": {\n        \"dtype\": \"number\",\n        \"std\": 4.690246138492006,\n        \"min\": 0.1,\n        \"max\": 27.2,\n        \"num_unique_values\": 174,\n        \"samples\": [\n          14.2,\n          17.0,\n          8.4\n        ],\n        \"semantic_type\": \"\",\n        \"description\": \"\"\n      }\n    },\n    {\n      \"column\": \" thinness 5-9 years\",\n      \"properties\": {\n        \"dtype\": \"number\",\n        \"std\": 4.757832842682068,\n        \"min\": 0.1,\n        \"max\": 28.2,\n        \"num_unique_values\": 175,\n        \"samples\": [\n          14.0,\n          28.0,\n          11.4\n        ],\n        \"semantic_type\": \"\",\n        \"description\": \"\"\n      }\n    },\n    {\n      \"column\": \"Income composition of resources\",\n      \"properties\": {\n        \"dtype\": \"number\",\n        \"std\": 0.18294252393159355,\n        \"min\": 0.0,\n        \"max\": 0.936,\n        \"num_unique_values\": 519,\n        \"samples\": [\n          0.746,\n          0.866,\n          0.474\n        ],\n        \"semantic_type\": \"\",\n        \"description\": \"\"\n      }\n    },\n    {\n      \"column\": \"Schooling\",\n      \"properties\": {\n        \"dtype\": \"number\",\n        \"std\": 2.7971217267645727,\n        \"min\": 4.4,\n        \"max\": 20.7,\n        \"num_unique_values\": 144,\n        \"samples\": [\n          9.0,\n          15.6,\n          9.7\n        ],\n        \"semantic_type\": \"\",\n        \"description\": \"\"\n      }\n    },\n    {\n      \"column\": \"Life expectancy \",\n      \"properties\": {\n        \"dtype\": \"number\",\n        \"std\": 8.844287583533182,\n        \"min\": 44.0,\n        \"max\": 89.0,\n        \"num_unique_values\": 309,\n        \"samples\": [\n          69.7,\n          79.1,\n          71.9\n        ],\n        \"semantic_type\": \"\",\n        \"description\": \"\"\n      }\n    }\n  ]\n}"
            }
          },
          "metadata": {},
          "execution_count": 70
        }
      ],
      "source": [
        "# 학습용 데이터셋\n",
        "import pandas as pd\n",
        "\n",
        "train = pd.read_csv(\"train.csv\")\n",
        "\n",
        "print(type(train))\n",
        "train"
      ]
    },
    {
      "cell_type": "code",
      "source": [
        "# train.head(3)\n",
        "train.columns"
      ],
      "metadata": {
        "colab": {
          "base_uri": "https://localhost:8080/"
        },
        "id": "dmE3DaoUuu0m",
        "outputId": "e41bd69a-8233-432e-9ba7-3f5ebd8e532a"
      },
      "execution_count": null,
      "outputs": [
        {
          "output_type": "execute_result",
          "data": {
            "text/plain": [
              "Index(['Adult Mortality', 'infant deaths', 'Alcohol', 'percentage expenditure',\n",
              "       'Hepatitis B', 'Measles ', ' BMI ', 'under-five deaths ', 'Polio',\n",
              "       'Total expenditure', 'Diphtheria ', ' HIV/AIDS', 'GDP', 'Population',\n",
              "       ' thinness  1-19 years', ' thinness 5-9 years',\n",
              "       'Income composition of resources', 'Schooling', 'Life expectancy '],\n",
              "      dtype='object')"
            ]
          },
          "metadata": {},
          "execution_count": 71
        }
      ]
    },
    {
      "cell_type": "code",
      "source": [
        "x = train[train.columns[:18]]\n",
        "y = train['Life expectancy ']\n",
        "\n",
        "print(type(x))\n",
        "print(type(y))\n",
        "\n",
        "print(x.shape)\n",
        "print(y.shape)"
      ],
      "metadata": {
        "colab": {
          "base_uri": "https://localhost:8080/"
        },
        "id": "vFBthGAFKcpC",
        "outputId": "6d4b604f-5157-49a9-9249-1ab8ce7b8d77"
      },
      "execution_count": null,
      "outputs": [
        {
          "output_type": "stream",
          "name": "stdout",
          "text": [
            "<class 'pandas.core.frame.DataFrame'>\n",
            "<class 'pandas.core.series.Series'>\n",
            "(1319, 18)\n",
            "(1319,)\n"
          ]
        }
      ]
    },
    {
      "cell_type": "code",
      "source": [
        "x = x.to_numpy()\n",
        "y = y.to_numpy()\n",
        "\n",
        "print(type(x))\n",
        "print(type(y))\n",
        "\n",
        "print(x.shape)\n",
        "print(y.shape)"
      ],
      "metadata": {
        "colab": {
          "base_uri": "https://localhost:8080/"
        },
        "id": "2l_57p04EPrk",
        "outputId": "d62498b5-57c0-4631-854b-8270a7da6351"
      },
      "execution_count": null,
      "outputs": [
        {
          "output_type": "stream",
          "name": "stdout",
          "text": [
            "<class 'numpy.ndarray'>\n",
            "<class 'numpy.ndarray'>\n",
            "(1319, 18)\n",
            "(1319,)\n",
            "(1319, 1)\n"
          ]
        }
      ]
    },
    {
      "cell_type": "code",
      "source": [
        "from sklearn.model_selection import train_test_split\n",
        "\n",
        "x_train, x_test, y_train, y_test = train_test_split(x, y,\n",
        "                                                  random_state=42)"
      ],
      "metadata": {
        "id": "1wiDjE9mDMkh"
      },
      "execution_count": null,
      "outputs": []
    },
    {
      "cell_type": "code",
      "source": [
        "print(x_train.shape, y_train.shape)\n",
        "print(x_test.shape, y_test.shape)"
      ],
      "metadata": {
        "colab": {
          "base_uri": "https://localhost:8080/"
        },
        "id": "KHcOAGG8Fc6H",
        "outputId": "bbd94de0-03d1-41eb-b29d-72b02697441c"
      },
      "execution_count": null,
      "outputs": [
        {
          "output_type": "stream",
          "name": "stdout",
          "text": [
            "(989, 18) (989, 1)\n",
            "(330, 18) (330, 1)\n"
          ]
        }
      ]
    },
    {
      "cell_type": "code",
      "source": [
        "from sklearn.preprocessing import PolynomialFeatures\n",
        "\n",
        "poly = PolynomialFeatures(include_bias=False) # 변환기 클래스\n",
        "\n",
        "poly.fit(x_train) # (x1, x2, x3) --> (x1^2, x2^2, x3^2, x1*x2, x1*x3, x2*x3)\n",
        "x_train_poly = poly.transform(x_train)\n",
        "\n",
        "print(x_train_poly.shape)\n",
        "#print(x_train_poly)\n",
        "\n",
        "x_test_poly = poly.transform(x_test)\n",
        "print(x_test_poly.shape)"
      ],
      "metadata": {
        "colab": {
          "base_uri": "https://localhost:8080/"
        },
        "id": "sn81R7leFtWB",
        "outputId": "18c4928b-37e0-4968-a07e-a1103e9a5208"
      },
      "execution_count": null,
      "outputs": [
        {
          "output_type": "stream",
          "name": "stdout",
          "text": [
            "(989, 189)\n",
            "(330, 189)\n"
          ]
        }
      ]
    },
    {
      "cell_type": "code",
      "source": [
        "poly.degree # 최고 차항의 차수"
      ],
      "metadata": {
        "colab": {
          "base_uri": "https://localhost:8080/"
        },
        "id": "M-RqRMLdXQqL",
        "outputId": "00e35689-dfa6-4a98-98e2-4c77caa8c5ea"
      },
      "execution_count": null,
      "outputs": [
        {
          "output_type": "execute_result",
          "data": {
            "text/plain": [
              "2"
            ]
          },
          "metadata": {},
          "execution_count": 103
        }
      ]
    },
    {
      "cell_type": "code",
      "source": [
        "poly.get_feature_names_out()"
      ],
      "metadata": {
        "colab": {
          "base_uri": "https://localhost:8080/"
        },
        "id": "GNySlyX-F5xW",
        "outputId": "956e2397-54b1-4ef2-cfa3-4852d7b8a838"
      },
      "execution_count": null,
      "outputs": [
        {
          "output_type": "execute_result",
          "data": {
            "text/plain": [
              "array(['x0', 'x1', 'x2', 'x3', 'x4', 'x5', 'x6', 'x7', 'x8', 'x9', 'x10',\n",
              "       'x11', 'x12', 'x13', 'x14', 'x15', 'x16', 'x17', 'x0^2', 'x0 x1',\n",
              "       'x0 x2', 'x0 x3', 'x0 x4', 'x0 x5', 'x0 x6', 'x0 x7', 'x0 x8',\n",
              "       'x0 x9', 'x0 x10', 'x0 x11', 'x0 x12', 'x0 x13', 'x0 x14',\n",
              "       'x0 x15', 'x0 x16', 'x0 x17', 'x1^2', 'x1 x2', 'x1 x3', 'x1 x4',\n",
              "       'x1 x5', 'x1 x6', 'x1 x7', 'x1 x8', 'x1 x9', 'x1 x10', 'x1 x11',\n",
              "       'x1 x12', 'x1 x13', 'x1 x14', 'x1 x15', 'x1 x16', 'x1 x17', 'x2^2',\n",
              "       'x2 x3', 'x2 x4', 'x2 x5', 'x2 x6', 'x2 x7', 'x2 x8', 'x2 x9',\n",
              "       'x2 x10', 'x2 x11', 'x2 x12', 'x2 x13', 'x2 x14', 'x2 x15',\n",
              "       'x2 x16', 'x2 x17', 'x3^2', 'x3 x4', 'x3 x5', 'x3 x6', 'x3 x7',\n",
              "       'x3 x8', 'x3 x9', 'x3 x10', 'x3 x11', 'x3 x12', 'x3 x13', 'x3 x14',\n",
              "       'x3 x15', 'x3 x16', 'x3 x17', 'x4^2', 'x4 x5', 'x4 x6', 'x4 x7',\n",
              "       'x4 x8', 'x4 x9', 'x4 x10', 'x4 x11', 'x4 x12', 'x4 x13', 'x4 x14',\n",
              "       'x4 x15', 'x4 x16', 'x4 x17', 'x5^2', 'x5 x6', 'x5 x7', 'x5 x8',\n",
              "       'x5 x9', 'x5 x10', 'x5 x11', 'x5 x12', 'x5 x13', 'x5 x14',\n",
              "       'x5 x15', 'x5 x16', 'x5 x17', 'x6^2', 'x6 x7', 'x6 x8', 'x6 x9',\n",
              "       'x6 x10', 'x6 x11', 'x6 x12', 'x6 x13', 'x6 x14', 'x6 x15',\n",
              "       'x6 x16', 'x6 x17', 'x7^2', 'x7 x8', 'x7 x9', 'x7 x10', 'x7 x11',\n",
              "       'x7 x12', 'x7 x13', 'x7 x14', 'x7 x15', 'x7 x16', 'x7 x17', 'x8^2',\n",
              "       'x8 x9', 'x8 x10', 'x8 x11', 'x8 x12', 'x8 x13', 'x8 x14',\n",
              "       'x8 x15', 'x8 x16', 'x8 x17', 'x9^2', 'x9 x10', 'x9 x11', 'x9 x12',\n",
              "       'x9 x13', 'x9 x14', 'x9 x15', 'x9 x16', 'x9 x17', 'x10^2',\n",
              "       'x10 x11', 'x10 x12', 'x10 x13', 'x10 x14', 'x10 x15', 'x10 x16',\n",
              "       'x10 x17', 'x11^2', 'x11 x12', 'x11 x13', 'x11 x14', 'x11 x15',\n",
              "       'x11 x16', 'x11 x17', 'x12^2', 'x12 x13', 'x12 x14', 'x12 x15',\n",
              "       'x12 x16', 'x12 x17', 'x13^2', 'x13 x14', 'x13 x15', 'x13 x16',\n",
              "       'x13 x17', 'x14^2', 'x14 x15', 'x14 x16', 'x14 x17', 'x15^2',\n",
              "       'x15 x16', 'x15 x17', 'x16^2', 'x16 x17', 'x17^2'], dtype=object)"
            ]
          },
          "metadata": {},
          "execution_count": 104
        }
      ]
    },
    {
      "cell_type": "code",
      "source": [
        "from sklearn.linear_model import LinearRegression\n",
        "\n",
        "lr = LinearRegression()\n",
        "lr.fit(x_train_poly, y_train) # 계수, 절편 값을 찾아라!\n",
        "\n",
        "print(\"학습용:\", lr.score(x_train_poly, y_train))\n",
        "print(\"시험용:\", lr.score(x_test_poly, y_test))"
      ],
      "metadata": {
        "colab": {
          "base_uri": "https://localhost:8080/"
        },
        "id": "DoUloQ37FonU",
        "outputId": "93b0d5be-4d7d-4d26-8fb0-360916a6ec8e"
      },
      "execution_count": null,
      "outputs": [
        {
          "output_type": "stream",
          "name": "stdout",
          "text": [
            "학습용: 0.8940802354701635\n",
            "시험용: 0.44005359606082983\n"
          ]
        }
      ]
    },
    {
      "cell_type": "code",
      "source": [
        "'''\n",
        "poly = PolynomialFeatures(include_bias=False, degree=3)\n",
        "\n",
        "poly.fit(x_train)\n",
        "x_train_poly = poly.transform(x_train)\n",
        "x_test_poly = poly.transform(x_test)\n",
        "\n",
        "print(x_train_poly.shape)\n",
        "print(x_test_poly.shape)\n",
        "'''"
      ],
      "metadata": {
        "colab": {
          "base_uri": "https://localhost:8080/"
        },
        "id": "gygCd-qzFpbR",
        "outputId": "7d3b45a3-42a3-4ef9-c0c8-5f34a356f909"
      },
      "execution_count": null,
      "outputs": [
        {
          "output_type": "stream",
          "name": "stdout",
          "text": [
            "(989, 1329)\n",
            "(330, 1329)\n"
          ]
        }
      ]
    },
    {
      "cell_type": "code",
      "source": [
        "#poly.get_feature_names_out()"
      ],
      "metadata": {
        "colab": {
          "base_uri": "https://localhost:8080/"
        },
        "id": "2pXwCeqtFpw_",
        "outputId": "a2c761d4-4f4d-4fe4-9de0-ecf30e0bfed9"
      },
      "execution_count": null,
      "outputs": [
        {
          "output_type": "execute_result",
          "data": {
            "text/plain": [
              "array(['x0', 'x1', 'x2', ..., 'x16^2 x17', 'x16 x17^2', 'x17^3'],\n",
              "      dtype=object)"
            ]
          },
          "metadata": {},
          "execution_count": 107
        }
      ]
    },
    {
      "cell_type": "code",
      "source": [
        "'''\n",
        "lr = LinearRegression()\n",
        "lr.fit(x_train_poly, y_train) # 계수, 절편 값을 찾아라!\n",
        "\n",
        "# 과대적합 -> 수능 망함\n",
        "print(\"학습용:\", lr.score(x_train_poly, y_train))\n",
        "print(\"시험용:\", lr.score(x_test_poly, y_test))\n",
        "'''"
      ],
      "metadata": {
        "colab": {
          "base_uri": "https://localhost:8080/"
        },
        "id": "nksFOGQiGNqb",
        "outputId": "81b91925-3f4f-42f0-98b5-38948fa17ee3"
      },
      "execution_count": null,
      "outputs": [
        {
          "output_type": "stream",
          "name": "stdout",
          "text": [
            "학습용: 0.36835386760147215\n",
            "시험용: -6927.3328509458515\n"
          ]
        }
      ]
    },
    {
      "cell_type": "code",
      "source": [
        "from sklearn.preprocessing import StandardScaler\n",
        "\n",
        "ss = StandardScaler()\n",
        "ss.fit(x_train_poly) # mean, std 계산해줌\n",
        "\n",
        "#print(ss.mean_)\n",
        "#print(ss.scale_)"
      ],
      "metadata": {
        "colab": {
          "base_uri": "https://localhost:8080/",
          "height": 75
        },
        "id": "yXnfiR3pGtEv",
        "outputId": "9a2ed895-6197-4314-f89b-df80c323eef2"
      },
      "execution_count": null,
      "outputs": [
        {
          "output_type": "execute_result",
          "data": {
            "text/plain": [
              "StandardScaler()"
            ],
            "text/html": [
              "<style>#sk-container-id-4 {color: black;background-color: white;}#sk-container-id-4 pre{padding: 0;}#sk-container-id-4 div.sk-toggleable {background-color: white;}#sk-container-id-4 label.sk-toggleable__label {cursor: pointer;display: block;width: 100%;margin-bottom: 0;padding: 0.3em;box-sizing: border-box;text-align: center;}#sk-container-id-4 label.sk-toggleable__label-arrow:before {content: \"▸\";float: left;margin-right: 0.25em;color: #696969;}#sk-container-id-4 label.sk-toggleable__label-arrow:hover:before {color: black;}#sk-container-id-4 div.sk-estimator:hover label.sk-toggleable__label-arrow:before {color: black;}#sk-container-id-4 div.sk-toggleable__content {max-height: 0;max-width: 0;overflow: hidden;text-align: left;background-color: #f0f8ff;}#sk-container-id-4 div.sk-toggleable__content pre {margin: 0.2em;color: black;border-radius: 0.25em;background-color: #f0f8ff;}#sk-container-id-4 input.sk-toggleable__control:checked~div.sk-toggleable__content {max-height: 200px;max-width: 100%;overflow: auto;}#sk-container-id-4 input.sk-toggleable__control:checked~label.sk-toggleable__label-arrow:before {content: \"▾\";}#sk-container-id-4 div.sk-estimator input.sk-toggleable__control:checked~label.sk-toggleable__label {background-color: #d4ebff;}#sk-container-id-4 div.sk-label input.sk-toggleable__control:checked~label.sk-toggleable__label {background-color: #d4ebff;}#sk-container-id-4 input.sk-hidden--visually {border: 0;clip: rect(1px 1px 1px 1px);clip: rect(1px, 1px, 1px, 1px);height: 1px;margin: -1px;overflow: hidden;padding: 0;position: absolute;width: 1px;}#sk-container-id-4 div.sk-estimator {font-family: monospace;background-color: #f0f8ff;border: 1px dotted black;border-radius: 0.25em;box-sizing: border-box;margin-bottom: 0.5em;}#sk-container-id-4 div.sk-estimator:hover {background-color: #d4ebff;}#sk-container-id-4 div.sk-parallel-item::after {content: \"\";width: 100%;border-bottom: 1px solid gray;flex-grow: 1;}#sk-container-id-4 div.sk-label:hover label.sk-toggleable__label {background-color: #d4ebff;}#sk-container-id-4 div.sk-serial::before {content: \"\";position: absolute;border-left: 1px solid gray;box-sizing: border-box;top: 0;bottom: 0;left: 50%;z-index: 0;}#sk-container-id-4 div.sk-serial {display: flex;flex-direction: column;align-items: center;background-color: white;padding-right: 0.2em;padding-left: 0.2em;position: relative;}#sk-container-id-4 div.sk-item {position: relative;z-index: 1;}#sk-container-id-4 div.sk-parallel {display: flex;align-items: stretch;justify-content: center;background-color: white;position: relative;}#sk-container-id-4 div.sk-item::before, #sk-container-id-4 div.sk-parallel-item::before {content: \"\";position: absolute;border-left: 1px solid gray;box-sizing: border-box;top: 0;bottom: 0;left: 50%;z-index: -1;}#sk-container-id-4 div.sk-parallel-item {display: flex;flex-direction: column;z-index: 1;position: relative;background-color: white;}#sk-container-id-4 div.sk-parallel-item:first-child::after {align-self: flex-end;width: 50%;}#sk-container-id-4 div.sk-parallel-item:last-child::after {align-self: flex-start;width: 50%;}#sk-container-id-4 div.sk-parallel-item:only-child::after {width: 0;}#sk-container-id-4 div.sk-dashed-wrapped {border: 1px dashed gray;margin: 0 0.4em 0.5em 0.4em;box-sizing: border-box;padding-bottom: 0.4em;background-color: white;}#sk-container-id-4 div.sk-label label {font-family: monospace;font-weight: bold;display: inline-block;line-height: 1.2em;}#sk-container-id-4 div.sk-label-container {text-align: center;}#sk-container-id-4 div.sk-container {/* jupyter's `normalize.less` sets `[hidden] { display: none; }` but bootstrap.min.css set `[hidden] { display: none !important; }` so we also need the `!important` here to be able to override the default hidden behavior on the sphinx rendered scikit-learn.org. See: https://github.com/scikit-learn/scikit-learn/issues/21755 */display: inline-block !important;position: relative;}#sk-container-id-4 div.sk-text-repr-fallback {display: none;}</style><div id=\"sk-container-id-4\" class=\"sk-top-container\"><div class=\"sk-text-repr-fallback\"><pre>StandardScaler()</pre><b>In a Jupyter environment, please rerun this cell to show the HTML representation or trust the notebook. <br />On GitHub, the HTML representation is unable to render, please try loading this page with nbviewer.org.</b></div><div class=\"sk-container\" hidden><div class=\"sk-item\"><div class=\"sk-estimator sk-toggleable\"><input class=\"sk-toggleable__control sk-hidden--visually\" id=\"sk-estimator-id-4\" type=\"checkbox\" checked><label for=\"sk-estimator-id-4\" class=\"sk-toggleable__label sk-toggleable__label-arrow\">StandardScaler</label><div class=\"sk-toggleable__content\"><pre>StandardScaler()</pre></div></div></div></div></div>"
            ]
          },
          "metadata": {},
          "execution_count": 121
        }
      ]
    },
    {
      "cell_type": "code",
      "source": [
        "# 표준 점수화 되어 z score가 됨\n",
        "x_train_scaled = ss.transform(x_train_poly)\n",
        "x_test_scaled = ss.transform(x_test_poly)\n",
        "\n",
        "print(x_train_scaled.shape)\n",
        "print(x_test_scaled.shape)"
      ],
      "metadata": {
        "id": "8bjOq0WGGvQM",
        "colab": {
          "base_uri": "https://localhost:8080/"
        },
        "outputId": "2f3c052b-2cbd-49c0-c473-f4c0f07dc791"
      },
      "execution_count": null,
      "outputs": [
        {
          "output_type": "stream",
          "name": "stdout",
          "text": [
            "(989, 189)\n",
            "(330, 189)\n"
          ]
        }
      ]
    },
    {
      "cell_type": "code",
      "source": [
        "# Ridge(릿지) -> 과대적합, 차원축소 회피 가능\n",
        "\n",
        "from sklearn.linear_model import Ridge\n",
        "\n",
        "ridge = Ridge()\n",
        "\n",
        "ridge.fit(x_train_scaled, y_train)\n",
        "\n",
        "print(x_train_scaled.shape)\n",
        "print(\"학습용:\", ridge.score(x_train_scaled, y_train))\n",
        "print(\"시험용:\", ridge.score(x_test_scaled, y_test))"
      ],
      "metadata": {
        "colab": {
          "base_uri": "https://localhost:8080/"
        },
        "id": "l7bB4z7DGz3y",
        "outputId": "3f7554e1-f289-4e5f-ab09-cec4c3848da1"
      },
      "execution_count": null,
      "outputs": [
        {
          "output_type": "stream",
          "name": "stdout",
          "text": [
            "(989, 189)\n",
            "학습용: 0.93573995519507\n",
            "시험용: 0.8574006289464082\n"
          ]
        }
      ]
    },
    {
      "cell_type": "code",
      "source": [
        "alpha = [0.001, 0.01, 0.1, 1, 10, 100]\n",
        "\n",
        "train_score = []\n",
        "test_score = []\n",
        "\n",
        "for a in alpha:\n",
        "    ridge = Ridge(alpha=a)\n",
        "\n",
        "    ridge.fit(x_train_scaled, y_train)\n",
        "\n",
        "    train_score.append(ridge.score(x_train_scaled, y_train))\n",
        "    test_score.append(ridge.score(x_test_scaled, y_test))\n",
        "\n",
        "print(train_score)\n",
        "print(test_score)"
      ],
      "metadata": {
        "colab": {
          "base_uri": "https://localhost:8080/"
        },
        "id": "JpUCTEDfG0LV",
        "outputId": "f557fdd6-1800-4c68-b7bc-72db56dac23d"
      },
      "execution_count": null,
      "outputs": [
        {
          "output_type": "stream",
          "name": "stdout",
          "text": [
            "[0.9412476075123702, 0.9407349979804331, 0.9394730422700942, 0.93573995519507, 0.9228283700091592, 0.8885459276317283]\n",
            "[0.8056844870850044, 0.8101861210883424, 0.8406680099628362, 0.8574006289464082, 0.8714245148070314, 0.8432930231297088]\n"
          ]
        }
      ]
    },
    {
      "cell_type": "code",
      "source": [
        "import matplotlib.pyplot as plt\n",
        "\n",
        "plt.figure()\n",
        "plt.plot(train_score, label=\"train\", marker='d', color=\"red\")\n",
        "plt.plot(test_score, label=\"test\", marker='^', color=\"blue\")\n",
        "plt.xlabel(\"lalpha\")\n",
        "plt.ylabel(\"R^2\")\n",
        "plt.grid()\n",
        "plt.legend()\n",
        "plt.show()"
      ],
      "metadata": {
        "colab": {
          "base_uri": "https://localhost:8080/",
          "height": 449
        },
        "id": "RuImQKjBi6aH",
        "outputId": "55d08869-2a5e-4dfb-f5bf-228fe2b858ee"
      },
      "execution_count": null,
      "outputs": [
        {
          "output_type": "display_data",
          "data": {
            "text/plain": [
              "<Figure size 640x480 with 1 Axes>"
            ],
            "image/png": "[encoded data removed]"
          },
          "metadata": {}
        }
      ]
    },
    {
      "cell_type": "code",
      "source": [
        "ridge = Ridge(alpha=10)\n",
        "\n",
        "ridge.fit(x_train_scaled, y_train)\n",
        "\n",
        "print(x_train_scaled.shape)\n",
        "print(\"학습용:\", ridge.score(x_train_scaled, y_train))\n",
        "print(\"시험용:\", ridge.score(x_test_scaled, y_test))"
      ],
      "metadata": {
        "colab": {
          "base_uri": "https://localhost:8080/"
        },
        "id": "w39MdyorjHg5",
        "outputId": "0c271b8c-643d-40d0-f1ae-b7d7993a337e"
      },
      "execution_count": null,
      "outputs": [
        {
          "output_type": "stream",
          "name": "stdout",
          "text": [
            "(989, 189)\n",
            "학습용: 0.9228283700091592\n",
            "시험용: 0.8714245148070314\n"
          ]
        }
      ]
    },
    {
      "cell_type": "code",
      "source": [
        "# 학습용 데이터셋\n",
        "import pandas as pd\n",
        "\n",
        "test = pd.read_csv(\"test.csv\")\n",
        "\n",
        "print(type(test))\n",
        "print(test.shape)\n",
        "#print(test)"
      ],
      "metadata": {
        "colab": {
          "base_uri": "https://localhost:8080/"
        },
        "id": "-iFpRBS6HetI",
        "outputId": "e3931dfe-04fa-4260-be9e-df79ca965cd3"
      },
      "execution_count": null,
      "outputs": [
        {
          "output_type": "stream",
          "name": "stdout",
          "text": [
            "<class 'pandas.core.frame.DataFrame'>\n",
            "(330, 18)\n"
          ]
        }
      ]
    },
    {
      "cell_type": "code",
      "source": [
        "test_poly = poly.transform(test)\n",
        "print(test_poly.shape)\n",
        "\n",
        "test_scaled = ss.transform(test_poly)\n",
        "print(test_poly.shape)"
      ],
      "metadata": {
        "colab": {
          "base_uri": "https://localhost:8080/"
        },
        "id": "Y4wiku5gHfEy",
        "outputId": "75b54564-9d52-4599-a9df-07ba9a9fd3bc"
      },
      "execution_count": null,
      "outputs": [
        {
          "output_type": "stream",
          "name": "stdout",
          "text": [
            "(330, 189)\n",
            "(330, 189)\n"
          ]
        },
        {
          "output_type": "stream",
          "name": "stderr",
          "text": [
            "/usr/local/lib/python3.10/dist-packages/sklearn/base.py:432: UserWarning: X has feature names, but PolynomialFeatures was fitted without feature names\n",
            "  warnings.warn(\n"
          ]
        }
      ]
    },
    {
      "cell_type": "code",
      "source": [
        "y_pred = ridge.predict(test_scaled)\n",
        "\n",
        "print(y_pred)"
      ],
      "metadata": {
        "colab": {
          "base_uri": "https://localhost:8080/"
        },
        "id": "gsyOnIjpowQf",
        "outputId": "0af531a3-4959-48ae-d240-abd536b04798"
      },
      "execution_count": null,
      "outputs": [
        {
          "output_type": "stream",
          "name": "stdout",
          "text": [
            "[[76.17211192]\n",
            " [59.71123185]\n",
            " [76.59783146]\n",
            " [75.27387412]\n",
            " [63.7179994 ]\n",
            " [71.43797956]\n",
            " [67.4290033 ]\n",
            " [57.34569985]\n",
            " [59.01705961]\n",
            " [62.20947325]\n",
            " [70.63998344]\n",
            " [55.85352143]\n",
            " [70.8219187 ]\n",
            " [72.84610983]\n",
            " [73.22083458]\n",
            " [70.93553348]\n",
            " [61.5161637 ]\n",
            " [79.19352042]\n",
            " [76.89906117]\n",
            " [83.40217119]\n",
            " [62.69800807]\n",
            " [55.80096416]\n",
            " [82.61834759]\n",
            " [71.49236507]\n",
            " [73.98878653]\n",
            " [81.42845703]\n",
            " [72.61448084]\n",
            " [74.48598176]\n",
            " [80.57917326]\n",
            " [79.95157212]\n",
            " [58.95124738]\n",
            " [64.94285002]\n",
            " [81.65837644]\n",
            " [79.07473902]\n",
            " [76.87049254]\n",
            " [74.18305944]\n",
            " [75.43692888]\n",
            " [70.01051666]\n",
            " [77.4796972 ]\n",
            " [74.32154206]\n",
            " [61.64266197]\n",
            " [71.97075028]\n",
            " [70.53563687]\n",
            " [72.52260315]\n",
            " [79.48303569]\n",
            " [72.11078166]\n",
            " [71.73544239]\n",
            " [74.49478048]\n",
            " [78.37722769]\n",
            " [71.50897497]\n",
            " [69.65464496]\n",
            " [73.85796277]\n",
            " [66.12948716]\n",
            " [72.18124198]\n",
            " [73.08463821]\n",
            " [69.16333222]\n",
            " [81.43431011]\n",
            " [71.97095498]\n",
            " [64.59590753]\n",
            " [64.61090328]\n",
            " [65.0236285 ]\n",
            " [74.56098389]\n",
            " [53.20160934]\n",
            " [72.86183144]\n",
            " [71.14717379]\n",
            " [81.61827137]\n",
            " [55.24314927]\n",
            " [79.61115113]\n",
            " [79.27172529]\n",
            " [73.40602617]\n",
            " [80.23849822]\n",
            " [66.0199598 ]\n",
            " [67.4046852 ]\n",
            " [73.99235312]\n",
            " [73.02664737]\n",
            " [62.76936077]\n",
            " [59.94122304]\n",
            " [72.12660186]\n",
            " [61.11572282]\n",
            " [82.46875122]\n",
            " [59.97408435]\n",
            " [73.19028171]\n",
            " [82.76863035]\n",
            " [58.9856924 ]\n",
            " [53.31854275]\n",
            " [64.62788518]\n",
            " [76.04703657]\n",
            " [76.61974896]\n",
            " [59.64150236]\n",
            " [59.3505077 ]\n",
            " [68.53831667]\n",
            " [75.64896248]\n",
            " [73.82637962]\n",
            " [71.1560876 ]\n",
            " [73.24378226]\n",
            " [82.60985314]\n",
            " [63.02566831]\n",
            " [82.17496835]\n",
            " [60.39979189]\n",
            " [74.37164712]\n",
            " [87.25560051]\n",
            " [62.19542254]\n",
            " [68.38195545]\n",
            " [64.89883077]\n",
            " [67.06725276]\n",
            " [81.49436436]\n",
            " [62.11501653]\n",
            " [75.48579944]\n",
            " [73.31408886]\n",
            " [64.17919789]\n",
            " [71.16280824]\n",
            " [57.90404993]\n",
            " [66.1403947 ]\n",
            " [71.5628169 ]\n",
            " [74.51223362]\n",
            " [68.29273161]\n",
            " [74.43899253]\n",
            " [67.9124239 ]\n",
            " [55.59623773]\n",
            " [69.2162057 ]\n",
            " [63.29809207]\n",
            " [70.61241502]\n",
            " [65.89932292]\n",
            " [71.68428871]\n",
            " [65.21127696]\n",
            " [75.39706134]\n",
            " [75.02803409]\n",
            " [77.87735582]\n",
            " [73.95092088]\n",
            " [82.87142449]\n",
            " [71.66898851]\n",
            " [70.5636766 ]\n",
            " [75.22481038]\n",
            " [70.64354978]\n",
            " [67.56005479]\n",
            " [84.17913403]\n",
            " [71.838992  ]\n",
            " [74.56233225]\n",
            " [68.87468003]\n",
            " [63.74822815]\n",
            " [69.10475147]\n",
            " [64.25370512]\n",
            " [76.65394659]\n",
            " [71.13250446]\n",
            " [65.57063399]\n",
            " [80.01931786]\n",
            " [52.57178212]\n",
            " [70.69643163]\n",
            " [80.22873961]\n",
            " [64.96443643]\n",
            " [58.74629833]\n",
            " [76.61811511]\n",
            " [75.30065442]\n",
            " [76.0457537 ]\n",
            " [49.49514605]\n",
            " [67.25973749]\n",
            " [52.17923647]\n",
            " [61.15214785]\n",
            " [72.87842485]\n",
            " [65.62143793]\n",
            " [66.28670314]\n",
            " [46.84406235]\n",
            " [74.92414953]\n",
            " [77.59085811]\n",
            " [76.90311921]\n",
            " [63.74419681]\n",
            " [54.88340656]\n",
            " [61.59070103]\n",
            " [63.84159144]\n",
            " [72.09447373]\n",
            " [75.40486043]\n",
            " [54.58938217]\n",
            " [76.52357923]\n",
            " [58.91801384]\n",
            " [52.79795235]\n",
            " [76.98535701]\n",
            " [76.07377408]\n",
            " [67.7831527 ]\n",
            " [72.46687242]\n",
            " [72.73417772]\n",
            " [72.09436955]\n",
            " [49.97838624]\n",
            " [63.51287615]\n",
            " [68.13932119]\n",
            " [73.5545599 ]\n",
            " [38.28010517]\n",
            " [67.54686787]\n",
            " [65.57784871]\n",
            " [78.00716404]\n",
            " [67.64459324]\n",
            " [75.14322766]\n",
            " [70.98039423]\n",
            " [74.94344535]\n",
            " [70.73249955]\n",
            " [70.29943293]\n",
            " [71.76925495]\n",
            " [82.61482138]\n",
            " [57.56756992]\n",
            " [74.30237957]\n",
            " [72.60258981]\n",
            " [59.8190314 ]\n",
            " [59.60807199]\n",
            " [63.30034643]\n",
            " [75.35409184]\n",
            " [61.4307268 ]\n",
            " [61.05743764]\n",
            " [75.3831918 ]\n",
            " [61.90110476]\n",
            " [77.33715599]\n",
            " [77.57937519]\n",
            " [57.77379017]\n",
            " [75.23247151]\n",
            " [62.85562172]\n",
            " [73.03160151]\n",
            " [72.7749558 ]\n",
            " [72.47505497]\n",
            " [46.83480842]\n",
            " [74.43115934]\n",
            " [71.84679984]\n",
            " [71.12498716]\n",
            " [63.99074203]\n",
            " [75.15616361]\n",
            " [70.56883632]\n",
            " [71.7267273 ]\n",
            " [77.21195438]\n",
            " [69.89497757]\n",
            " [67.04781667]\n",
            " [67.69565777]\n",
            " [64.19882797]\n",
            " [72.9249421 ]\n",
            " [76.21596925]\n",
            " [70.62743432]\n",
            " [64.28376149]\n",
            " [70.07631559]\n",
            " [68.48671834]\n",
            " [73.44981908]\n",
            " [59.61736722]\n",
            " [54.144987  ]\n",
            " [81.4400306 ]\n",
            " [67.90682889]\n",
            " [71.9856773 ]\n",
            " [68.61096339]\n",
            " [71.69404278]\n",
            " [58.25119428]\n",
            " [72.24794855]\n",
            " [72.96779886]\n",
            " [52.11149024]\n",
            " [75.80132962]\n",
            " [80.24111539]\n",
            " [75.74197341]\n",
            " [75.06860037]\n",
            " [78.35150091]\n",
            " [69.03920636]\n",
            " [62.21545406]\n",
            " [62.02753629]\n",
            " [66.5944415 ]\n",
            " [73.63927382]\n",
            " [65.8021214 ]\n",
            " [68.42360644]\n",
            " [79.05164349]\n",
            " [75.50252006]\n",
            " [63.42749361]\n",
            " [59.00246151]\n",
            " [61.51689912]\n",
            " [73.59628036]\n",
            " [69.31300432]\n",
            " [67.20321325]\n",
            " [57.48564101]\n",
            " [63.58693489]\n",
            " [56.17026406]\n",
            " [67.66224261]\n",
            " [76.85403417]\n",
            " [82.15557677]\n",
            " [81.82461633]\n",
            " [59.64907437]\n",
            " [50.85978799]\n",
            " [76.51579171]\n",
            " [74.5740081 ]\n",
            " [69.39213967]\n",
            " [69.01128041]\n",
            " [72.28310205]\n",
            " [51.41576212]\n",
            " [74.82221811]\n",
            " [72.5734253 ]\n",
            " [70.48703206]\n",
            " [79.77091094]\n",
            " [51.7221462 ]\n",
            " [76.29514365]\n",
            " [73.22076548]\n",
            " [72.75049127]\n",
            " [74.92238598]\n",
            " [72.89620076]\n",
            " [59.84444636]\n",
            " [69.12580492]\n",
            " [68.68641142]\n",
            " [73.16813594]\n",
            " [61.46294078]\n",
            " [68.43831378]\n",
            " [70.19311181]\n",
            " [71.51656754]\n",
            " [73.0538006 ]\n",
            " [69.04454658]\n",
            " [57.60638963]\n",
            " [72.16460807]\n",
            " [73.44528598]\n",
            " [72.52331675]\n",
            " [58.45201148]\n",
            " [58.64342573]\n",
            " [75.86093754]\n",
            " [79.42012517]\n",
            " [69.64523562]\n",
            " [77.58167004]\n",
            " [65.92978581]\n",
            " [72.45809612]\n",
            " [73.36211098]\n",
            " [73.66879327]\n",
            " [58.71681197]\n",
            " [66.4929942 ]\n",
            " [71.41009493]\n",
            " [72.50548562]\n",
            " [73.44479823]\n",
            " [72.25937769]\n",
            " [54.98725179]\n",
            " [71.47290985]\n",
            " [80.7632896 ]\n",
            " [60.93861377]\n",
            " [87.25809105]\n",
            " [58.53093911]\n",
            " [77.25040401]\n",
            " [57.33939772]]\n"
          ]
        }
      ]
    },
    {
      "cell_type": "code",
      "source": [
        "import numpy as np\n",
        "\n",
        "df = pd.read_csv(\"submission.csv\")\n",
        "\n",
        "df.dropna(axis=1, inplace=True)\n",
        "\n",
        "# 아래 \"np.arange(0, df.shape[0], 1)\" 부분을, 솜솜이가 만든 모델이 예측한 값으로 대체!\n",
        "#y_pred = np.arange(0, df.shape[0], 1)\n",
        "\n",
        "df[\"Life expectancy\"] = y_pred\n",
        "df.to_csv(\"submission(20211689)_3.csv\", index=False)"
      ],
      "metadata": {
        "id": "2Mu6yrrzLWbh"
      },
      "execution_count": null,
      "outputs": []
    }
  ]
}