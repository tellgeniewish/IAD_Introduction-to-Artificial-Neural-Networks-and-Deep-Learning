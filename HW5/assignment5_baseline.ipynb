{
 "cells": [
  {
   "cell_type": "code",
   "execution_count": 2,
   "id": "Xsp9npRKQZiC",
   "metadata": {
    "executionInfo": {
     "elapsed": 287,
     "status": "ok",
     "timestamp": 1711711321032,
     "user": {
      "displayName": "Beom Kwon",
      "userId": "03241551760080679008"
     },
     "user_tz": -540
    },
    "id": "Xsp9npRKQZiC",
    "tags": []
   },
   "outputs": [],
   "source": [
    "from sklearn.tree import DecisionTreeClassifier\n",
    "from sklearn.ensemble import RandomForestClassifier, ExtraTreesClassifier\n",
    "from sklearn.ensemble import GradientBoostingClassifier, HistGradientBoostingClassifier\n",
    "from sklearn.model_selection import train_test_split\n",
    "import pandas as pd\n",
    "import numpy as np"
   ]
  },
  {
   "cell_type": "markdown",
   "id": "_u9mnortRnXI",
   "metadata": {
    "id": "_u9mnortRnXI",
    "tags": []
   },
   "source": [
    "### Baseline"
   ]
  },
  {
   "cell_type": "code",
   "execution_count": 3,
   "id": "9327be5b-a30b-4f55-abfe-78804b565134",
   "metadata": {
    "tags": []
   },
   "outputs": [
    {
     "name": "stdout",
     "output_type": "stream",
     "text": [
      "['x', 'y']\n",
      "['x']\n"
     ]
    }
   ],
   "source": [
    "train_data = np.load(\"./train.npz\")\n",
    "test_data = np.load(\"./test.npz\")\n",
    "print(train_data.files)\n",
    "print(test_data.files)"
   ]
  },
  {
   "cell_type": "code",
   "execution_count": 4,
   "id": "eddaf25a-3d9d-4aa9-822f-33b73d95c7aa",
   "metadata": {
    "tags": []
   },
   "outputs": [],
   "source": [
    "x_train = train_data['x']\n",
    "y_train = train_data['y']\n",
    "\n",
    "x_test = test_data['x']"
   ]
  },
  {
   "cell_type": "code",
   "execution_count": 5,
   "id": "c1400d14-593b-4e15-b429-3f1c3731394a",
   "metadata": {
    "tags": []
   },
   "outputs": [
    {
     "name": "stdout",
     "output_type": "stream",
     "text": [
      "(1201, 50, 50) (1201,)\n",
      "(301, 50, 50)\n"
     ]
    }
   ],
   "source": [
    "print(x_train.shape, y_train.shape)\n",
    "print(x_test.shape)"
   ]
  },
  {
   "cell_type": "code",
   "execution_count": 6,
   "id": "63443b97",
   "metadata": {
    "colab": {
     "base_uri": "https://localhost:8080/"
    },
    "executionInfo": {
     "elapsed": 2,
     "status": "ok",
     "timestamp": 1711711326635,
     "user": {
      "displayName": "Beom Kwon",
      "userId": "03241551760080679008"
     },
     "user_tz": -540
    },
    "id": "63443b97",
    "outputId": "f3ae28f4-8ff5-4b11-8d8d-7219d698b0a0",
    "papermill": {
     "duration": 0.005817,
     "end_time": "2024-03-16T20:31:42.022603",
     "exception": false,
     "start_time": "2024-03-16T20:31:42.016786",
     "status": "completed"
    },
    "tags": []
   },
   "outputs": [
    {
     "name": "stdout",
     "output_type": "stream",
     "text": [
      "(900, 2500) (301, 2500) (301, 2500)\n",
      "(900,) (301,)\n"
     ]
    }
   ],
   "source": [
    "x_train, x_val, y_train, y_val = train_test_split(x_train, y_train, test_size=0.25, stratify=y_train, random_state=42)\n",
    "\n",
    "x_train = x_train.reshape(-1, x_train.shape[1] * x_train.shape[2])\n",
    "x_val = x_val.reshape(-1, x_val.shape[1] * x_val.shape[2])\n",
    "x_test = x_test.reshape(-1, x_test.shape[1] * x_test.shape[2])\n",
    "\n",
    "print(x_train.shape, x_val.shape, x_test.shape)\n",
    "print(y_train.shape, y_val.shape)"
   ]
  },
  {
   "cell_type": "code",
   "execution_count": 7,
   "id": "6626f1b2-9809-4a0e-8111-97a8e128aff7",
   "metadata": {
    "tags": []
   },
   "outputs": [
    {
     "name": "stdout",
     "output_type": "stream",
     "text": [
      "훈련용: 1.0\n",
      "검증용: 1.0\n"
     ]
    }
   ],
   "source": [
    "dt = DecisionTreeClassifier(random_state=42)\n",
    "dt.fit(x_train, y_train)\n",
    "\n",
    "print(\"훈련용:\", dt.score(x_train, y_train))\n",
    "print(\"검증용:\", dt.score(x_train, y_train))"
   ]
  },
  {
   "cell_type": "code",
   "execution_count": 8,
   "id": "mVkhaxfolwmN",
   "metadata": {
    "colab": {
     "base_uri": "https://localhost:8080/"
    },
    "executionInfo": {
     "elapsed": 15,
     "status": "ok",
     "timestamp": 1711711329226,
     "user": {
      "displayName": "Beom Kwon",
      "userId": "03241551760080679008"
     },
     "user_tz": -540
    },
    "id": "mVkhaxfolwmN",
    "outputId": "a2a8e4c3-8430-4fcc-f4fb-7c7230f3d5af"
   },
   "outputs": [
    {
     "name": "stdout",
     "output_type": "stream",
     "text": [
      "훈련용: 1.0\n",
      "검증용: 1.0\n"
     ]
    }
   ],
   "source": [
    "rf = RandomForestClassifier(n_jobs=-1, random_state=42)\n",
    "rf.fit(x_train, y_train)\n",
    "\n",
    "print(\"훈련용:\", rf.score(x_train, y_train))\n",
    "print(\"검증용:\", rf.score(x_train, y_train))"
   ]
  },
  {
   "cell_type": "code",
   "execution_count": 9,
   "id": "5038d833-e674-4029-bf12-e692eb77b953",
   "metadata": {
    "tags": []
   },
   "outputs": [
    {
     "name": "stdout",
     "output_type": "stream",
     "text": [
      "훈련용: 1.0\n",
      "검증용: 1.0\n"
     ]
    }
   ],
   "source": [
    "et = ExtraTreesClassifier(n_jobs=-1, random_state=42)\n",
    "et.fit(x_train, y_train)\n",
    "\n",
    "print(\"훈련용:\", et.score(x_train, y_train))\n",
    "print(\"검증용:\", et.score(x_train, y_train))"
   ]
  },
  {
   "cell_type": "code",
   "execution_count": 10,
   "id": "34c4f993-59b2-462e-8d4a-1195bdf04aa4",
   "metadata": {
    "tags": []
   },
   "outputs": [
    {
     "name": "stdout",
     "output_type": "stream",
     "text": [
      "훈련용: 1.0\n",
      "검증용: 1.0\n"
     ]
    }
   ],
   "source": [
    "gb = GradientBoostingClassifier(random_state=42)\n",
    "gb.fit(x_train, y_train)\n",
    "\n",
    "print(\"훈련용:\", gb.score(x_train, y_train))\n",
    "print(\"검증용:\", gb.score(x_train, y_train))"
   ]
  },
  {
   "cell_type": "code",
   "execution_count": 11,
   "id": "e57a0f05-5cad-42e1-9be5-aaa8e56c5300",
   "metadata": {
    "tags": []
   },
   "outputs": [
    {
     "name": "stdout",
     "output_type": "stream",
     "text": [
      "훈련용: 1.0\n",
      "검증용: 1.0\n"
     ]
    }
   ],
   "source": [
    "hgb = HistGradientBoostingClassifier(random_state=42)\n",
    "hgb.fit(x_train, y_train)\n",
    "\n",
    "print(\"훈련용:\", hgb.score(x_train, y_train))\n",
    "print(\"검증용:\", hgb.score(x_train, y_train))"
   ]
  },
  {
   "cell_type": "code",
   "execution_count": 12,
   "id": "2680bc60-1f69-46c4-b5bd-597191fc0212",
   "metadata": {
    "tags": []
   },
   "outputs": [],
   "source": [
    "y_pred = rf.predict(x_test)\n",
    "\n",
    "baseline = pd.DataFrame(data={\"ID\":np.arange(1, y_pred.shape[0] + 1, 1), \"Class\":y_pred})\n",
    "baseline.to_csv(\"./baseline.csv\", index=False)"
   ]
  }
 ],
 "metadata": {
  "colab": {
   "provenance": []
  },
  "kaggle": {
   "accelerator": "none",
   "dataSources": [
    {
     "datasetId": 3462333,
     "sourceId": 6051848,
     "sourceType": "datasetVersion"
    }
   ],
   "dockerImageVersionId": 30664,
   "isGpuEnabled": false,
   "isInternetEnabled": true,
   "language": "python",
   "sourceType": "notebook"
  },
  "kernelspec": {
   "display_name": "Python 3 (ipykernel)",
   "language": "python",
   "name": "python3"
  },
  "language_info": {
   "codemirror_mode": {
    "name": "ipython",
    "version": 3
   },
   "file_extension": ".py",
   "mimetype": "text/x-python",
   "name": "python",
   "nbconvert_exporter": "python",
   "pygments_lexer": "ipython3",
   "version": "3.11.4"
  },
  "papermill": {
   "default_parameters": {},
   "duration": 9.614772,
   "end_time": "2024-03-16T20:31:42.751419",
   "environment_variables": {},
   "exception": null,
   "input_path": "__notebook__.ipynb",
   "output_path": "__notebook__.ipynb",
   "parameters": {},
   "start_time": "2024-03-16T20:31:33.136647",
   "version": "2.5.0"
  }
 },
 "nbformat": 4,
 "nbformat_minor": 5
}
