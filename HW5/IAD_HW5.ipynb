{
  "cells": [
    {
      "cell_type": "code",
      "execution_count": null,
      "metadata": {
        "colab": {
          "base_uri": "https://localhost:8080/"
        },
        "id": "r-8z0MRRO0eM",
        "outputId": "51fab210-36a1-4cfc-8f4b-9c8be4436f48"
      },
      "outputs": [
        {
          "output_type": "stream",
          "name": "stdout",
          "text": [
            "<class 'numpy.lib.npyio.NpzFile'>\n",
            "['x', 'y']\n",
            "(1201, 50, 50)\n",
            "(1201,)\n"
          ]
        }
      ],
      "source": [
        "# 학습용 데이터셋\n",
        "import pandas as pd\n",
        "import numpy as np\n",
        "import matplotlib.pyplot as plt\n",
        "import matplotlib.image as mpimg\n",
        "\n",
        "train = np.load(\"./train.npz\")\n",
        "print(type(train))\n",
        "print(train.files)\n",
        "\n",
        "x = train['x']\n",
        "y = train['y']\n",
        "\n",
        "print(x.shape)\n",
        "print(y.shape)"
      ]
    },
    {
      "cell_type": "code",
      "execution_count": null,
      "metadata": {
        "colab": {
          "base_uri": "https://localhost:8080/"
        },
        "id": "FYgzC0-HQ1K8",
        "outputId": "a6d5f7e5-ebce-4cbd-cf8d-c6cf7fd74e38"
      },
      "outputs": [
        {
          "output_type": "stream",
          "name": "stdout",
          "text": [
            "0의 개수: 456\n",
            "1의 개수: 240\n",
            "2의 개수: 505\n"
          ]
        },
        {
          "output_type": "execute_result",
          "data": {
            "text/plain": [
              "1201"
            ]
          },
          "metadata": {},
          "execution_count": 15
        }
      ],
      "source": [
        "count_0 = np.count_nonzero(y == 0)  # 0의 개수 np.unique(y_train, return counts=TRUE)\n",
        "count_1 = np.count_nonzero(y == 1)  # 1의 개수\n",
        "count_2 = np.count_nonzero(y == 2)\n",
        "\n",
        "print(\"0의 개수:\", count_0)\n",
        "print(\"1의 개수:\", count_1)\n",
        "print(\"2의 개수:\", count_2)\n",
        "\n",
        "len(y)"
      ]
    },
    {
      "cell_type": "code",
      "execution_count": null,
      "metadata": {
        "colab": {
          "base_uri": "https://localhost:8080/",
          "height": 35
        },
        "id": "PtgemUfPPeUB",
        "outputId": "528c58ac-ee49-400a-f658-780ddcf13549"
      },
      "outputs": [
        {
          "data": {
            "application/vnd.google.colaboratory.intrinsic+json": {
              "type": "string"
            },
            "text/plain": [
              "'\\nR = x[:, :, 0]\\nG = x[:, :, 1]\\nB = x[:, :, 2]\\n\\nprint(R.shape) '"
            ]
          },
          "execution_count": 9,
          "metadata": {},
          "output_type": "execute_result"
        }
      ],
      "source": [
        "'''\n",
        "R = x[:, :, 0]\n",
        "G = x[:, :, 1]\n",
        "B = x[:, :, 2]\n",
        "\n",
        "print(R.shape) '''# (가로, 세로)로 차원이 축소됨"
      ]
    },
    {
      "cell_type": "code",
      "execution_count": null,
      "metadata": {
        "id": "xhJYzuh3R9-a"
      },
      "outputs": [],
      "source": [
        "# img = mpimg.imread(\"fruits 360\\\\Pineapple\\\\0_100.jpg\") # image read\n",
        "\n",
        "# print(type(img))\n",
        "\n",
        "# 𝒀 = 𝟎. 𝟐𝟗𝟗 × 𝑹𝒆𝒅 + 𝟎. 𝟓𝟖𝟕 × 𝑮𝒓𝒆𝒆𝒏 + 𝟎. 𝟏𝟏𝟒 × 𝑩𝒍𝒖�\n",
        "#x = 0.299 * R + 0.587 * G + 0.114 * B"
      ]
    },
    {
      "cell_type": "code",
      "execution_count": null,
      "metadata": {
        "id": "a8LYd3rUqfAb"
      },
      "outputs": [],
      "source": [
        "x = x.reshape(-1, 50*50)"
      ]
    },
    {
      "cell_type": "code",
      "execution_count": null,
      "metadata": {
        "colab": {
          "base_uri": "https://localhost:8080/"
        },
        "id": "7HYUGlZt_Rh2",
        "outputId": "8151879f-a543-4350-c06d-b3a66d86ce6e"
      },
      "outputs": [
        {
          "name": "stdout",
          "output_type": "stream",
          "text": [
            "(900, 2500) (900,)\n",
            "(301, 2500) (301,)\n"
          ]
        }
      ],
      "source": [
        "from sklearn.model_selection import train_test_split\n",
        "\n",
        "x_train, x_test, y_train, y_test = train_test_split(x, y,\n",
        "                                                  random_state=42)\n",
        "\n",
        "print(x_train.shape, y_train.shape)\n",
        "#print(x_val.shape, y_val.shape)\n",
        "print(x_test.shape, y_test.shape)"
      ]
    },
    {
      "cell_type": "code",
      "execution_count": null,
      "metadata": {
        "colab": {
          "base_uri": "https://localhost:8080/"
        },
        "id": "XLJl9qhg_KX5",
        "outputId": "8dac8c86-ba9f-4e05-93ad-c79cfe4b0275"
      },
      "outputs": [
        {
          "name": "stdout",
          "output_type": "stream",
          "text": [
            "훈련 세트: 1.0\n",
            "시험 세트: 1.0\n"
          ]
        }
      ],
      "source": [
        "from sklearn.tree import DecisionTreeClassifier\n",
        "dt = DecisionTreeClassifier(random_state=42)\n",
        "dt.fit(x_train, y_train)\n",
        "print(\"훈련 세트:\", dt.score(x_train, y_train))\n",
        "print(\"시험 세트:\", dt.score(x_test, y_test))"
      ]
    },
    {
      "cell_type": "code",
      "execution_count": null,
      "metadata": {
        "colab": {
          "base_uri": "https://localhost:8080/"
        },
        "id": "pcBcYgbtPeJ7",
        "outputId": "6444fef5-65da-496b-db21-3381358a6839"
      },
      "outputs": [
        {
          "output_type": "stream",
          "name": "stdout",
          "text": [
            "훈련 세트: 1.0\n",
            "시험 세트: 1.0\n"
          ]
        }
      ],
      "source": [
        "from sklearn.model_selection import cross_validate\n",
        "from sklearn.ensemble import GradientBoostingClassifier\n",
        "gb = GradientBoostingClassifier(random_state=42)\n",
        "scores = cross_validate(gb, x_train, y_train, return_train_score=True, n_jobs=-1)\n",
        "\n",
        "print(\"훈련 세트:\", np.mean(scores[\"train_score\"]))\n",
        "print(\"시험 세트:\", np.mean(scores[\"test_score\"]))"
      ]
    },
    {
      "cell_type": "code",
      "execution_count": null,
      "metadata": {
        "id": "d1ondOLIRnXF",
        "colab": {
          "base_uri": "https://localhost:8080/"
        },
        "outputId": "beac05a0-1c0f-42a8-c559-62f9ffdd004f"
      },
      "outputs": [
        {
          "output_type": "stream",
          "name": "stdout",
          "text": [
            "[0. 0. 0. ... 0. 0. 0.]\n"
          ]
        }
      ],
      "source": [
        "gb.fit(x_train, y_train)\n",
        "print(gb.feature_importances_)"
      ]
    },
    {
      "cell_type": "code",
      "execution_count": null,
      "metadata": {
        "colab": {
          "base_uri": "https://localhost:8080/"
        },
        "id": "EeltRj8wPeHZ",
        "outputId": "2f908fbb-50a1-402a-eace-6daa71972e15"
      },
      "outputs": [
        {
          "output_type": "stream",
          "name": "stdout",
          "text": [
            "<class 'numpy.lib.npyio.NpzFile'>\n",
            "['x']\n",
            "(301, 50, 50)\n"
          ]
        }
      ],
      "source": [
        "# 학습용 데이터셋\n",
        "import pandas as pd\n",
        "\n",
        "test = np.load(\"./test.npz\")\n",
        "\n",
        "print(type(test))\n",
        "print(test.files)\n",
        "\n",
        "test = test['x']\n",
        "\n",
        "print(test.shape)"
      ]
    },
    {
      "cell_type": "code",
      "execution_count": null,
      "metadata": {
        "id": "nHt9h1-W5IoL"
      },
      "outputs": [],
      "source": [
        "'''\n",
        "R = test[:, :, 0]\n",
        "G = test[:, :, 1]\n",
        "B = test[:, :, 2]\n",
        "\n",
        "print(R.shape) # (가로, 세로)로 차원이 축소됨\n",
        "\n",
        "test = 0.299 * R + 0.587 * G + 0.114 * B\n",
        "\n",
        "test = np.array(test, dtype=\"int\")\n",
        "print(test.shape)\n",
        "print(test)\n",
        "'''"
      ]
    },
    {
      "cell_type": "code",
      "execution_count": null,
      "metadata": {
        "id": "hPKyub8fqtD8"
      },
      "outputs": [],
      "source": [
        "test = test.reshape(-1, 50*50)"
      ]
    },
    {
      "cell_type": "code",
      "execution_count": null,
      "metadata": {
        "colab": {
          "base_uri": "https://localhost:8080/"
        },
        "id": "6RCFkeVaPeBm",
        "outputId": "74aa8e00-e5fb-4b6c-e467-8477109de6ab"
      },
      "outputs": [
        {
          "output_type": "stream",
          "name": "stdout",
          "text": [
            "1.0\n",
            "[2 0 2 0 1 2 0 2 2 0 0 0 0 2 0 2 0 2 2 0 1 0 0 0 0 0 1 2 0 1 1 2 0 2 1 0 2\n",
            " 2 2 0 2 0 2 0 1 2 0 0 2 2 0 2 2 1 2 2 2 2 0 0 0 2 2 2 2 2 2 2 0 0 2 0 2 1\n",
            " 2 0 1 2 0 2 2 1 1 2 1 1 0 2 0 2 0 0 1 2 2 0 0 0 0 2 2 0 0 0 0 1 1 1 1 2 0\n",
            " 2 2 0 0 2 2 2 1 1 1 0 0 2 2 0 2 0 2 2 2 0 2 1 0 1 1 0 0 2 2 0 2 0 0 1 1 2\n",
            " 0 2 0 0 1 2 2 2 2 0 2 1 0 2 2 2 2 0 2 0 2 1 1 2 0 2 2 0 2 1 2 0 1 2 2 2 0\n",
            " 1 0 1 2 2 1 0 2 0 0 2 2 0 2 2 2 0 1 2 1 1 0 1 0 0 2 0 2 1 1 1 1 1 2 2 1 1\n",
            " 2 0 0 1 0 0 2 2 2 2 2 0 0 0 1 0 2 2 0 1 0 0 0 0 0 0 2 2 0 0 0 0 0 2 2 0 2\n",
            " 1 1 2 2 0 2 1 2 0 0 0 0 2 1 1 0 0 2 2 0 2 0 2 2 1 0 0 2 2 1 0 1 2 0 2 2 1\n",
            " 1 2 2 0 2]\n"
          ]
        }
      ],
      "source": [
        "y_pred = gb.predict(test)\n",
        "\n",
        "print(gb.score(test, y_pred))\n",
        "print(y_pred)"
      ]
    },
    {
      "cell_type": "code",
      "execution_count": null,
      "metadata": {
        "colab": {
          "base_uri": "https://localhost:8080/"
        },
        "id": "DKkPE6irPd-q",
        "outputId": "7a8fbdb8-459b-47ff-e0ff-cd022258938a"
      },
      "outputs": [
        {
          "output_type": "stream",
          "name": "stdout",
          "text": [
            "0의 개수: 114\n",
            "1의 개수: 60\n",
            "2의 개수: 127\n"
          ]
        },
        {
          "output_type": "execute_result",
          "data": {
            "text/plain": [
              "301"
            ]
          },
          "metadata": {},
          "execution_count": 22
        }
      ],
      "source": [
        "count_0 = np.count_nonzero(y_pred == 0)  # 0의 개수 np.unique(y_train, return counts=TRUE)\n",
        "count_1 = np.count_nonzero(y_pred == 1)  # 1의 개수\n",
        "count_2 = np.count_nonzero(y_pred == 2)  # 2의 개수\n",
        "\n",
        "print(\"0의 개수:\", count_0)\n",
        "print(\"1의 개수:\", count_1)\n",
        "print(\"2의 개수:\", count_2)\n",
        "\n",
        "len(y_pred)"
      ]
    },
    {
      "cell_type": "code",
      "execution_count": null,
      "metadata": {
        "id": "Z-ZFA7s2PdzG"
      },
      "outputs": [],
      "source": [
        "import numpy as np\n",
        "\n",
        "df = pd.read_csv(\"submission.csv\")\n",
        "\n",
        "df.dropna(axis=1, inplace=True)\n",
        "\n",
        "# 아래 \"np.arange(0, df.shape[0], 1)\" 부분을, 솜솜이가 만든 모델이 예측한 값으로 대체!\n",
        "#y_pred = np.arange(0, df.shape[0], 1)\n",
        "\n",
        "df[\"Score\"] = y_pred\n",
        "df.to_csv(\"submission(20211689)_4.csv\", index=False)"
      ]
    }
  ],
  "metadata": {
    "colab": {
      "provenance": []
    },
    "kernelspec": {
      "display_name": "Python 3",
      "name": "python3"
    },
    "language_info": {
      "name": "python"
    }
  },
  "nbformat": 4,
  "nbformat_minor": 0
}