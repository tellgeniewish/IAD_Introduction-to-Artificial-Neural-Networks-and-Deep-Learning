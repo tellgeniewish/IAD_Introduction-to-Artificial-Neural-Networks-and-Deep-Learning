{
 "cells": [
  {
   "cell_type": "code",
   "execution_count": null,
   "id": "Xsp9npRKQZiC",
   "metadata": {
    "executionInfo": {
     "elapsed": 287,
     "status": "ok",
     "timestamp": 1711711321032,
     "user": {
      "displayName": "Beom Kwon",
      "userId": "03241551760080679008"
     },
     "user_tz": -540
    },
    "id": "Xsp9npRKQZiC"
   },
   "outputs": [],
   "source": [
    "from sklearn.model_selection import train_test_split\n",
    "import matplotlib.pyplot as plt\n",
    "import pandas as pd\n",
    "import numpy as np"
   ]
  },
  {
   "cell_type": "code",
   "execution_count": null,
   "id": "63443b97",
   "metadata": {
    "colab": {
     "base_uri": "https://localhost:8080/"
    },
    "executionInfo": {
     "elapsed": 2,
     "status": "ok",
     "timestamp": 1711711326635,
     "user": {
      "displayName": "Beom Kwon",
      "userId": "03241551760080679008"
     },
     "user_tz": -540
    },
    "id": "63443b97",
    "outputId": "f3ae28f4-8ff5-4b11-8d8d-7219d698b0a0",
    "papermill": {
     "duration": 0.005817,
     "end_time": "2024-03-16T20:31:42.022603",
     "exception": false,
     "start_time": "2024-03-16T20:31:42.016786",
     "status": "completed"
    },
    "tags": []
   },
   "outputs": [],
   "source": [
    "data_train = pd.read_csv(\"./train.csv\")\n",
    "x = data_train[data_train.columns[0:6]]\n",
    "y = data_train[data_train.columns[6]]\n",
    "\n",
    "x_train, x_val, y_train, y_val = train_test_split(x, y, test_size=0.25, random_state=42)\n",
    "\n",
    "x_train = x_train.to_numpy().reshape(-1, 6)\n",
    "x_val = x_val.to_numpy().reshape(-1, 6)\n",
    "x_test = pd.read_csv(\"./test.csv\").to_numpy().reshape(-1, 6)\n",
    "\n",
    "print(x_train.shape, x_val.shape, x_test.shape)\n",
    "print(y_train.shape, y_val.shape)"
   ]
  },
  {
   "cell_type": "code",
   "execution_count": null,
   "id": "bd66f4ae-c9d5-4d20-861b-6feb0ee95d54",
   "metadata": {},
   "outputs": [],
   "source": [
    "from sklearn.preprocessing import StandardScaler\n",
    "from sklearn.linear_model import LogisticRegression\n",
    "\n",
    "ss = StandardScaler()\n",
    "ss.fit(x_train)\n",
    "x_train_scaled = ss.transform(x_train)\n",
    "x_val_scaled = ss.transform(x_val)\n",
    "x_test_scaled = ss.transform(x_test)\n",
    "\n",
    "lr = LogisticRegression()\n",
    "lr.fit(x_train_scaled, y_train)\n",
    "\n",
    "# print(\"계수:\", lr.coef_)\n",
    "# print(\"절편:\", lr.intercept_)\n",
    "\n",
    "print(\"학습용:\", lr.score(x_train_scaled, y_train))\n",
    "print(\"검증용:\", lr.score(x_val_scaled, y_val))"
   ]
  },
  {
   "cell_type": "code",
   "execution_count": null,
   "id": "mVkhaxfolwmN",
   "metadata": {
    "colab": {
     "base_uri": "https://localhost:8080/"
    },
    "executionInfo": {
     "elapsed": 15,
     "status": "ok",
     "timestamp": 1711711329226,
     "user": {
      "displayName": "Beom Kwon",
      "userId": "03241551760080679008"
     },
     "user_tz": -540
    },
    "id": "mVkhaxfolwmN",
    "outputId": "a2a8e4c3-8430-4fcc-f4fb-7c7230f3d5af"
   },
   "outputs": [],
   "source": [
    "C_list = [0.01, 0.02, 0.03, 0.04, 0.05, 0.06, 0.07, 0.08, 0.09, 0.1, 1, 10, 100]\n",
    "\n",
    "score_train = []\n",
    "score_val = []\n",
    "for C in C_list:\n",
    "    lr = LogisticRegression(C=C)\n",
    "    lr.fit(x_train_scaled, y_train)\n",
    "    score_train.append(lr.score(x_train_scaled, y_train))\n",
    "    score_val.append(lr.score(x_val_scaled, y_val))\n",
    "    \n",
    "    \n",
    "plt.figure()\n",
    "plt.plot(range(len(C_list)), score_train, marker='o', color='r', label=\"train\")\n",
    "plt.plot(range(len(C_list)), score_val, marker='o', color='g', label=\"val\")\n",
    "plt.legend()\n",
    "plt.xlabel(\"log10(C)\")\n",
    "plt.ylabel(\"Accuracy\")\n",
    "plt.xticks(range(len(C_list)), np.round(np.log10(C_list), 1))\n",
    "plt.grid()\n",
    "plt.show()"
   ]
  },
  {
   "cell_type": "code",
   "execution_count": null,
   "id": "e859b8cd-f248-4d05-9320-b2c850746a90",
   "metadata": {},
   "outputs": [],
   "source": [
    "lr = LogisticRegression(C=0.09)  # 솜솜이보다 낮은 정확도를 만들기 위해서 최적이 아닌 값으로 설정! :)\n",
    "lr.fit(x_train_scaled, y_train)\n",
    "\n",
    "print(\"학습용:\", lr.score(x_train_scaled, y_train))\n",
    "print(\"검증용:\", lr.score(x_val_scaled, y_val))"
   ]
  }
 ],
 "metadata": {
  "colab": {
   "provenance": []
  },
  "kaggle": {
   "accelerator": "none",
   "dataSources": [
    {
     "datasetId": 3462333,
     "sourceId": 6051848,
     "sourceType": "datasetVersion"
    }
   ],
   "dockerImageVersionId": 30664,
   "isGpuEnabled": false,
   "isInternetEnabled": true,
   "language": "python",
   "sourceType": "notebook"
  },
  "kernelspec": {
   "display_name": "Python 3 (ipykernel)",
   "language": "python",
   "name": "python3"
  },
  "language_info": {
   "codemirror_mode": {
    "name": "ipython",
    "version": 3
   },
   "file_extension": ".py",
   "mimetype": "text/x-python",
   "name": "python",
   "nbconvert_exporter": "python",
   "pygments_lexer": "ipython3",
   "version": "3.11.9"
  },
  "papermill": {
   "default_parameters": {},
   "duration": 9.614772,
   "end_time": "2024-03-16T20:31:42.751419",
   "environment_variables": {},
   "exception": null,
   "input_path": "__notebook__.ipynb",
   "output_path": "__notebook__.ipynb",
   "parameters": {},
   "start_time": "2024-03-16T20:31:33.136647",
   "version": "2.5.0"
  }
 },
 "nbformat": 4,
 "nbformat_minor": 5
}
