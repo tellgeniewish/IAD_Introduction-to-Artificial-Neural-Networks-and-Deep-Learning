{
 "cells": [
  {
   "cell_type": "markdown",
   "id": "a7999515-ecb3-4389-9d9e-1f0d4878faef",
   "metadata": {
    "tags": []
   },
   "source": [
    "***Chapter 02. SGD Classifier***"
   ]
  },
  {
   "cell_type": "code",
   "execution_count": 17,
   "id": "7d4dc455-a7d2-47f9-8efd-80c4b0000777",
   "metadata": {
    "tags": []
   },
   "outputs": [
    {
     "data": {
      "text/html": [
       "<div>\n",
       "<style scoped>\n",
       "    .dataframe tbody tr th:only-of-type {\n",
       "        vertical-align: middle;\n",
       "    }\n",
       "\n",
       "    .dataframe tbody tr th {\n",
       "        vertical-align: top;\n",
       "    }\n",
       "\n",
       "    .dataframe thead th {\n",
       "        text-align: right;\n",
       "    }\n",
       "</style>\n",
       "<table border=\"1\" class=\"dataframe\">\n",
       "  <thead>\n",
       "    <tr style=\"text-align: right;\">\n",
       "      <th></th>\n",
       "      <th>Species</th>\n",
       "      <th>Weight</th>\n",
       "      <th>Length1</th>\n",
       "      <th>Length2</th>\n",
       "      <th>Length3</th>\n",
       "      <th>Height</th>\n",
       "      <th>Width</th>\n",
       "    </tr>\n",
       "  </thead>\n",
       "  <tbody>\n",
       "    <tr>\n",
       "      <th>0</th>\n",
       "      <td>Bream</td>\n",
       "      <td>242.0</td>\n",
       "      <td>23.2</td>\n",
       "      <td>25.4</td>\n",
       "      <td>30.0</td>\n",
       "      <td>11.5200</td>\n",
       "      <td>4.0200</td>\n",
       "    </tr>\n",
       "    <tr>\n",
       "      <th>1</th>\n",
       "      <td>Bream</td>\n",
       "      <td>290.0</td>\n",
       "      <td>24.0</td>\n",
       "      <td>26.3</td>\n",
       "      <td>31.2</td>\n",
       "      <td>12.4800</td>\n",
       "      <td>4.3056</td>\n",
       "    </tr>\n",
       "    <tr>\n",
       "      <th>2</th>\n",
       "      <td>Bream</td>\n",
       "      <td>340.0</td>\n",
       "      <td>23.9</td>\n",
       "      <td>26.5</td>\n",
       "      <td>31.1</td>\n",
       "      <td>12.3778</td>\n",
       "      <td>4.6961</td>\n",
       "    </tr>\n",
       "  </tbody>\n",
       "</table>\n",
       "</div>"
      ],
      "text/plain": [
       "  Species  Weight  Length1  Length2  Length3   Height   Width\n",
       "0   Bream   242.0     23.2     25.4     30.0  11.5200  4.0200\n",
       "1   Bream   290.0     24.0     26.3     31.2  12.4800  4.3056\n",
       "2   Bream   340.0     23.9     26.5     31.1  12.3778  4.6961"
      ]
     },
     "execution_count": 17,
     "metadata": {},
     "output_type": "execute_result"
    }
   ],
   "source": [
    "import pandas as pd\n",
    "df = pd.read_csv(\"Fish.csv\")\n",
    "df.head(3)"
   ]
  },
  {
   "cell_type": "code",
   "execution_count": 18,
   "id": "faca6a36-b30a-4808-a4e5-a924f39cb96b",
   "metadata": {
    "tags": []
   },
   "outputs": [
    {
     "name": "stdout",
     "output_type": "stream",
     "text": [
      "(159, 5)\n"
     ]
    }
   ],
   "source": [
    "x = df[[\"Weight\", \"Length2\", \"Length3\", \"Height\", \"Width\"]]\n",
    "y = df[\"Species\"]\n",
    "\n",
    "print(x.shape)"
   ]
  },
  {
   "cell_type": "code",
   "execution_count": 19,
   "id": "65065f0e-aab7-443f-b955-deaf85ae5152",
   "metadata": {
    "tags": []
   },
   "outputs": [
    {
     "name": "stdout",
     "output_type": "stream",
     "text": [
      "(119, 5)\n",
      "(40, 5)\n"
     ]
    }
   ],
   "source": [
    "from sklearn.model_selection import train_test_split\n",
    "\n",
    "x_train, x_test, y_train, y_test = train_test_split(x, y,\n",
    "                                                  random_state=42)\n",
    "\n",
    "print(x_train.shape)\n",
    "print(x_test.shape)"
   ]
  },
  {
   "cell_type": "code",
   "execution_count": 20,
   "id": "80e55993-1bfe-41a0-89e3-876cd7d31b1b",
   "metadata": {
    "tags": []
   },
   "outputs": [],
   "source": [
    "from sklearn.preprocessing import StandardScaler\n",
    "\n",
    "ss = StandardScaler()\n",
    "\n",
    "\n",
    "ss.fit(x_train) # mean, std\n",
    "\n",
    "x_train_scaled = ss.transform(x_train)\n",
    "x_test_scaled = ss.transform(x_test)"
   ]
  },
  {
   "cell_type": "code",
   "execution_count": 21,
   "id": "ae4c9100-63d2-421b-93b6-8d612bc47cc6",
   "metadata": {
    "tags": []
   },
   "outputs": [
    {
     "name": "stdout",
     "output_type": "stream",
     "text": [
      "학습용: 0.773109243697479\n",
      "시험용: 0.775\n"
     ]
    },
    {
     "name": "stderr",
     "output_type": "stream",
     "text": [
      "C:\\Users\\user\\anaconda3\\Lib\\site-packages\\sklearn\\linear_model\\_stochastic_gradient.py:713: ConvergenceWarning: Maximum number of iteration reached before convergence. Consider increasing max_iter to improve the fit.\n",
      "  warnings.warn(\n"
     ]
    }
   ],
   "source": [
    "from sklearn.linear_model import SGDClassifier # 회귀와 분류 모두 적용 ㄱㄴ\n",
    "\n",
    "# SGDClassifier의 매개변수\n",
    "# 1) 'loss' (문자열 형태로 값을 지정해야 함)\n",
    "#           = \"log_loss\" --> 로지스틱 회귀 모델! <- L2\n",
    "#           = \"hinge\" --> Support Vector Machine (SVM)\n",
    "# 2) max_iter <-- 최대 epoch 값을 설정하는 매개변수! (iteration)\n",
    "# 3) tol <-- tolerance (n. 관용, 허용) <-- 학습 종료를 위한 조건과 관련된 매개변수\n",
    "# 4) random_state = 42\n",
    "# 5) penalty <-- 규제 방식 ('L1', 'L2')\n",
    "\n",
    "sc = SGDClassifier(loss=\"log_loss\",\n",
    "                   max_iter=10, # max_iter 기본값=1000\n",
    "                   random_state=42)\n",
    "\n",
    "sc.fit(x_train_scaled, y_train) # y_train을 통째로 던져 줌(이미 모든 정답값이 y_train에 저장되어 있음)\n",
    "\n",
    "# 과소적합이 발생함! (학습 < 시험)\n",
    "print(\"학습용:\", sc.score(x_train_scaled, y_train))\n",
    "print(\"시험용:\", sc.score(x_test_scaled, y_test))"
   ]
  },
  {
   "cell_type": "code",
   "execution_count": 22,
   "id": "58540b7f-80aa-42e1-a2dd-b2984287d639",
   "metadata": {
    "tags": []
   },
   "outputs": [
    {
     "name": "stdout",
     "output_type": "stream",
     "text": [
      "학습용: 0.8151260504201681\n",
      "시험용: 0.8\n"
     ]
    }
   ],
   "source": [
    "# 점진적 학습(=온라인 학습)\n",
    "# partial_fit(new_x, new_y) 원래는 새로 들어온 데이터를 학습시킴\n",
    "# -> 실습에서는 새로 들어온 데이터가 없는 상황이라 기존 데이터를 활용했음!\n",
    "# 1 Epoch만큼 학습을 함!\n",
    "\n",
    "sc.partial_fit(x_train_scaled, y_train) # 이 부분만 계속 새로고침 하면서 학습시키면\n",
    "# 1 Epoch만큼 튜닝하면서 스코어값이 조금씩 상승함\n",
    "\n",
    "print(\"학습용:\", sc.score(x_train_scaled, y_train))\n",
    "print(\"시험용:\", sc.score(x_test_scaled, y_test))"
   ]
  },
  {
   "cell_type": "markdown",
   "id": "b220ce2d-5f98-4d32-a31a-5709322d1568",
   "metadata": {},
   "source": [
    "***Chapter 03. 에포크와 과대/과소적합***"
   ]
  },
  {
   "cell_type": "code",
   "execution_count": 23,
   "id": "2a47ec86-88e5-4d0a-a5a5-9bd28391f9cd",
   "metadata": {
    "tags": []
   },
   "outputs": [
    {
     "name": "stdout",
     "output_type": "stream",
     "text": [
      "['Bream' 'Parkki' 'Perch' 'Pike' 'Roach' 'Smelt' 'Whitefish']\n"
     ]
    }
   ],
   "source": [
    "import numpy as np\n",
    "\n",
    "print(np.unique(y_train))"
   ]
  },
  {
   "cell_type": "code",
   "execution_count": 24,
   "id": "b341c2e8-589c-4487-902a-a61e6688732e",
   "metadata": {
    "tags": []
   },
   "outputs": [],
   "source": [
    "sc = SGDClassifier(loss=\"log_loss\",\n",
    "                   #max_iter=10, # max_iter 없애야 함!\n",
    "                   random_state=42)\n",
    "\n",
    "train_score = []\n",
    "test_score = []\n",
    "\n",
    "for i in range(300):\n",
    "    sc.partial_fit(x_train_scaled, y_train, # 1 Epoch만큼 동작\n",
    "                   classes=np.unique(y_train))\n",
    "    \n",
    "    # 학습용 그래프랑 시험용 데이터 저장!\n",
    "    train_score.append(sc.score(x_train_scaled, y_train)) # 학습용 그래프!\n",
    "    test_score.append(sc.score(x_test_scaled, y_test)) # 시험용 그래프!"
   ]
  },
  {
   "cell_type": "code",
   "execution_count": 25,
   "id": "324daa20-8df5-4c3f-aa63-a717652b6c38",
   "metadata": {
    "tags": []
   },
   "outputs": [
    {
     "data": {
      "image/png": "[encoded data removed]",
      "text/plain": [
       "<Figure size 640x480 with 1 Axes>"
      ]
     },
     "metadata": {},
     "output_type": "display_data"
    }
   ],
   "source": [
    "import matplotlib.pyplot as plt\n",
    "\n",
    "plt.figure()\n",
    "# 선을 2개 그릴 거라서 plt.plot()을 2번 호출\n",
    "plt.plot(train_score, label=\"train\", color=\"blue\")\n",
    "plt.plot(test_score, label=\"test\", color=\"red\")\n",
    "plt.legend()\n",
    "plt.grid()\n",
    "plt.xlabel(\"Epoch\")\n",
    "plt.ylabel(\"Accuracy\")\n",
    "plt.show()"
   ]
  },
  {
   "cell_type": "code",
   "execution_count": 26,
   "id": "3d8f3f71-d437-41f2-aca3-9d4dba954cd7",
   "metadata": {
    "tags": []
   },
   "outputs": [
    {
     "name": "stdout",
     "output_type": "stream",
     "text": [
      "학습용: 0.957983193277311\n",
      "시험용: 0.925\n"
     ]
    }
   ],
   "source": [
    "sc = SGDClassifier(loss=\"log_loss\",\n",
    "                   max_iter=100, # max_iter 기본값=1000\n",
    "                   tol=None, # 기본값 = 1e-3 = 0.001 (학습을 종료시키기 위한 매개변수)\n",
    "                             # None --> 무시하고 max_iter까지 강제적으로 계속 학습해라\n",
    "                   random_state=42)\n",
    "\n",
    "# 현재 epoch, 직전 epoch -> |score현 - score직| < 0.001 (=tol) : 더 이상 학습시킬 필요 없음\n",
    "# --> Early Stopping으로 컴퓨터가 스스로 최적의 Epoch값 찾을 수 있음\n",
    "\n",
    "sc.fit(x_train_scaled, y_train)\n",
    "\n",
    "print(\"학습용:\", sc.score(x_train_scaled, y_train))\n",
    "print(\"시험용:\", sc.score(x_test_scaled, y_test))"
   ]
  },
  {
   "cell_type": "code",
   "execution_count": 27,
   "id": "f5f1bc86-6ebf-48d3-86c4-8ab6731086c2",
   "metadata": {
    "tags": []
   },
   "outputs": [
    {
     "name": "stdout",
     "output_type": "stream",
     "text": [
      "학습용: 0.9495798319327731\n",
      "시험용: 0.925\n"
     ]
    }
   ],
   "source": [
    "# hinge 사용하면 Support Vector Machine (SVM)\n",
    "sc = SGDClassifier(loss=\"hinge\",\n",
    "                   max_iter=100, # max_iter 기본값=1000\n",
    "                   tol=None, # 1e-3 = 0.001 (학습을 종료시키기 위한 매개변수)\n",
    "                   random_state=42)\n",
    "\n",
    "# 현재 epoch, 직전 epoch -> |score현 - score직| < 0.001 (=tol) : 더 이상 학습시킬 필요 없음\n",
    "\n",
    "sc.fit(x_train_scaled, y_train)\n",
    "\n",
    "print(\"학습용:\", sc.score(x_train_scaled, y_train))\n",
    "print(\"시험용:\", sc.score(x_test_scaled, y_test))\n",
    "\n",
    "# 일반적으로 로지스틱 회귀보다 SVM의 성능이 더 좋다"
   ]
  }
 ],
 "metadata": {
  "kernelspec": {
   "display_name": "Python 3 (ipykernel)",
   "language": "python",
   "name": "python3"
  },
  "language_info": {
   "codemirror_mode": {
    "name": "ipython",
    "version": 3
   },
   "file_extension": ".py",
   "mimetype": "text/x-python",
   "name": "python",
   "nbconvert_exporter": "python",
   "pygments_lexer": "ipython3",
   "version": "3.11.4"
  }
 },
 "nbformat": 4,
 "nbformat_minor": 5
}
