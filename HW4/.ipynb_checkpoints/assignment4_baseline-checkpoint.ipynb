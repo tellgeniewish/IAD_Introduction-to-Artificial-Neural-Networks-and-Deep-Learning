{
 "cells": [
  {
   "cell_type": "code",
   "execution_count": null,
   "id": "Xsp9npRKQZiC",
   "metadata": {
    "executionInfo": {
     "elapsed": 287,
     "status": "ok",
     "timestamp": 1711711321032,
     "user": {
      "displayName": "Beom Kwon",
      "userId": "03241551760080679008"
     },
     "user_tz": -540
    },
    "id": "Xsp9npRKQZiC"
   },
   "outputs": [],
   "source": [
    "from sklearn.model_selection import train_test_split\n",
    "import matplotlib.pyplot as plt\n",
    "import pandas as pd\n",
    "import numpy as np"
   ]
  },
  {
   "cell_type": "code",
   "execution_count": null,
   "id": "63443b97",
   "metadata": {
    "colab": {
     "base_uri": "https://localhost:8080/"
    },
    "executionInfo": {
     "elapsed": 2,
     "status": "ok",
     "timestamp": 1711711326635,
     "user": {
      "displayName": "Beom Kwon",
      "userId": "03241551760080679008"
     },
     "user_tz": -540
    },
    "id": "63443b97",
    "outputId": "f3ae28f4-8ff5-4b11-8d8d-7219d698b0a0",
    "papermill": {
     "duration": 0.005817,
     "end_time": "2024-03-16T20:31:42.022603",
     "exception": false,
     "start_time": "2024-03-16T20:31:42.016786",
     "status": "completed"
    },
    "tags": []
   },
   "outputs": [],
   "source": [
    "data_train = pd.read_csv(\"./train.csv\")\n",
    "x = data_train[data_train.columns[0:14]]\n",
    "y = data_train[data_train.columns[14]]\n",
    "\n",
    "x_train, x_val, y_train, y_val = train_test_split(x, y, test_size=0.25, stratify=y, random_state=42)\n",
    "\n",
    "x_train = x_train.to_numpy().reshape(-1, 14)\n",
    "x_val = x_val.to_numpy().reshape(-1, 14)\n",
    "x_test = pd.read_csv(\"./test.csv\").to_numpy().reshape(-1, 14)\n",
    "\n",
    "print(x_train.shape, x_val.shape, x_test.shape)\n",
    "print(y_train.shape, y_val.shape)"
   ]
  },
  {
   "cell_type": "code",
   "execution_count": null,
   "id": "bd66f4ae-c9d5-4d20-861b-6feb0ee95d54",
   "metadata": {},
   "outputs": [],
   "source": [
    "from sklearn.linear_model import LogisticRegression, SGDClassifier\n",
    "from sklearn.model_selection import GridSearchCV\n",
    "from sklearn.preprocessing import StandardScaler\n",
    "\n",
    "ss = StandardScaler()\n",
    "ss.fit(x_train)\n",
    "x_train_scaled = ss.transform(x_train)\n",
    "x_val_scaled = ss.transform(x_val)\n",
    "x_test_scaled = ss.transform(x_test)"
   ]
  },
  {
   "cell_type": "code",
   "execution_count": null,
   "id": "6626f1b2-9809-4a0e-8111-97a8e128aff7",
   "metadata": {
    "tags": []
   },
   "outputs": [],
   "source": [
    "params_lr = {'C': [1e-3, 1e-2, 1e-1, 1e0, 1e1, 1e2, 1e3],\n",
    "             \"penalty\": [\"l1\", \"l2\"],\n",
    "             \"solver\": [\"liblinear\", \"saga\"]}\n",
    "\n",
    "gs_lr = GridSearchCV(estimator=LogisticRegression(), param_grid=params_lr, n_jobs=-1)\n",
    "\n",
    "gs_lr.fit(x_train_scaled, y_train)\n",
    "\n",
    "best_lr = gs_lr.best_estimator_\n",
    "\n",
    "print(\"학습용:\", best_lr.score(x_train_scaled, y_train))\n",
    "print(\"검증용:\", best_lr.score(x_val_scaled, y_val))\n",
    "\n",
    "print(gs_lr.best_params_)"
   ]
  },
  {
   "cell_type": "code",
   "execution_count": null,
   "id": "mVkhaxfolwmN",
   "metadata": {
    "colab": {
     "base_uri": "https://localhost:8080/"
    },
    "executionInfo": {
     "elapsed": 15,
     "status": "ok",
     "timestamp": 1711711329226,
     "user": {
      "displayName": "Beom Kwon",
      "userId": "03241551760080679008"
     },
     "user_tz": -540
    },
    "id": "mVkhaxfolwmN",
    "outputId": "a2a8e4c3-8430-4fcc-f4fb-7c7230f3d5af"
   },
   "outputs": [],
   "source": [
    "params_sgd = {\"alpha\": [1e-3, 1e-2, 1e-1, 1e0, 1e1, 1e2, 1e3],\n",
    "              \"loss\": [\"log_loss\", \"hinge\"],\n",
    "              \"penalty\": [\"l1\", \"l2\"],\n",
    "              \"max_iter\": [10, 100, 1000],\n",
    "              \"tol\":[1e-3, 1e-2, 1e-1]}\n",
    "    \n",
    "gs_sgd = GridSearchCV(estimator=SGDClassifier(random_state=42), param_grid=params_sgd, n_jobs=-1)\n",
    "\n",
    "gs_sgd.fit(x_train_scaled, y_train)\n",
    "\n",
    "best_sgd = gs_sgd.best_estimator_\n",
    "\n",
    "print(\"학습용:\", best_sgd.score(x_train_scaled, y_train))\n",
    "print(\"검증용:\", best_sgd.score(x_val_scaled, y_val))\n",
    "\n",
    "print(gs_sgd.best_params_)"
   ]
  }
 ],
 "metadata": {
  "colab": {
   "provenance": []
  },
  "kaggle": {
   "accelerator": "none",
   "dataSources": [
    {
     "datasetId": 3462333,
     "sourceId": 6051848,
     "sourceType": "datasetVersion"
    }
   ],
   "dockerImageVersionId": 30664,
   "isGpuEnabled": false,
   "isInternetEnabled": true,
   "language": "python",
   "sourceType": "notebook"
  },
  "kernelspec": {
   "display_name": "Python 3 (ipykernel)",
   "language": "python",
   "name": "python3"
  },
  "language_info": {
   "codemirror_mode": {
    "name": "ipython",
    "version": 3
   },
   "file_extension": ".py",
   "mimetype": "text/x-python",
   "name": "python",
   "nbconvert_exporter": "python",
   "pygments_lexer": "ipython3",
   "version": "3.11.9"
  },
  "papermill": {
   "default_parameters": {},
   "duration": 9.614772,
   "end_time": "2024-03-16T20:31:42.751419",
   "environment_variables": {},
   "exception": null,
   "input_path": "__notebook__.ipynb",
   "output_path": "__notebook__.ipynb",
   "parameters": {},
   "start_time": "2024-03-16T20:31:33.136647",
   "version": "2.5.0"
  }
 },
 "nbformat": 4,
 "nbformat_minor": 5
}
