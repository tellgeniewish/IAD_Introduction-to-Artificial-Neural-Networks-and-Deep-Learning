{
 "cells": [
  {
   "cell_type": "markdown",
   "id": "5a9c5b93-1893-4548-a4fb-c17d55c533da",
   "metadata": {},
   "source": [
    "### **Chapter 01. 다중 회귀**"
   ]
  },
  {
   "cell_type": "code",
   "execution_count": 4,
   "id": "61adc67f-7942-4534-9ce2-f05ebe450ffc",
   "metadata": {
    "tags": []
   },
   "outputs": [
    {
     "name": "stdout",
     "output_type": "stream",
     "text": [
      "<class 'pandas.core.frame.DataFrame'>\n"
     ]
    }
   ],
   "source": [
    "import pandas as pd\n",
    "\n",
    "# 1) Series -> 1-D vector\n",
    "# 2) DataFrame -> 2-D array\n",
    "\n",
    "df = pd.read_csv(\"Fish.csv\") # DataFrame\n",
    "print(type(df))"
   ]
  },
  {
   "cell_type": "code",
   "execution_count": 5,
   "id": "7106b7ea-67db-4aba-aab4-b094d38c4815",
   "metadata": {
    "tags": []
   },
   "outputs": [
    {
     "name": "stdout",
     "output_type": "stream",
     "text": [
      "(159, 7)\n"
     ]
    }
   ],
   "source": [
    "print(df.shape)"
   ]
  },
  {
   "cell_type": "code",
   "execution_count": 6,
   "id": "094e0e80-7526-4541-86c7-63adb9c24de0",
   "metadata": {
    "tags": []
   },
   "outputs": [],
   "source": [
    "# 부울린 인덱싱(Boolean Indexing), 불 인덱싱 -> True, False\n",
    "df = df[df[\"Species\"] == \"Perch\"]"
   ]
  },
  {
   "cell_type": "code",
   "execution_count": 7,
   "id": "4400c096-4426-41a6-a458-6e624d7959f9",
   "metadata": {
    "tags": []
   },
   "outputs": [
    {
     "data": {
      "text/html": [
       "<div>\n",
       "<style scoped>\n",
       "    .dataframe tbody tr th:only-of-type {\n",
       "        vertical-align: middle;\n",
       "    }\n",
       "\n",
       "    .dataframe tbody tr th {\n",
       "        vertical-align: top;\n",
       "    }\n",
       "\n",
       "    .dataframe thead th {\n",
       "        text-align: right;\n",
       "    }\n",
       "</style>\n",
       "<table border=\"1\" class=\"dataframe\">\n",
       "  <thead>\n",
       "    <tr style=\"text-align: right;\">\n",
       "      <th></th>\n",
       "      <th>Species</th>\n",
       "      <th>Weight</th>\n",
       "      <th>Length1</th>\n",
       "      <th>Length2</th>\n",
       "      <th>Length3</th>\n",
       "      <th>Height</th>\n",
       "      <th>Width</th>\n",
       "    </tr>\n",
       "  </thead>\n",
       "  <tbody>\n",
       "    <tr>\n",
       "      <th>72</th>\n",
       "      <td>Perch</td>\n",
       "      <td>5.9</td>\n",
       "      <td>7.5</td>\n",
       "      <td>8.4</td>\n",
       "      <td>8.8</td>\n",
       "      <td>2.112</td>\n",
       "      <td>1.4080</td>\n",
       "    </tr>\n",
       "    <tr>\n",
       "      <th>73</th>\n",
       "      <td>Perch</td>\n",
       "      <td>32.0</td>\n",
       "      <td>12.5</td>\n",
       "      <td>13.7</td>\n",
       "      <td>14.7</td>\n",
       "      <td>3.528</td>\n",
       "      <td>1.9992</td>\n",
       "    </tr>\n",
       "  </tbody>\n",
       "</table>\n",
       "</div>"
      ],
      "text/plain": [
       "   Species  Weight  Length1  Length2  Length3  Height   Width\n",
       "72   Perch     5.9      7.5      8.4      8.8   2.112  1.4080\n",
       "73   Perch    32.0     12.5     13.7     14.7   3.528  1.9992"
      ]
     },
     "execution_count": 7,
     "metadata": {},
     "output_type": "execute_result"
    }
   ],
   "source": [
    "df.head(2)"
   ]
  },
  {
   "cell_type": "code",
   "execution_count": 8,
   "id": "11890956-7aa7-4837-a267-09fca6503f6e",
   "metadata": {
    "tags": []
   },
   "outputs": [
    {
     "data": {
      "text/html": [
       "<div>\n",
       "<style scoped>\n",
       "    .dataframe tbody tr th:only-of-type {\n",
       "        vertical-align: middle;\n",
       "    }\n",
       "\n",
       "    .dataframe tbody tr th {\n",
       "        vertical-align: top;\n",
       "    }\n",
       "\n",
       "    .dataframe thead th {\n",
       "        text-align: right;\n",
       "    }\n",
       "</style>\n",
       "<table border=\"1\" class=\"dataframe\">\n",
       "  <thead>\n",
       "    <tr style=\"text-align: right;\">\n",
       "      <th></th>\n",
       "      <th>Length2</th>\n",
       "      <th>Height</th>\n",
       "      <th>Width</th>\n",
       "    </tr>\n",
       "  </thead>\n",
       "  <tbody>\n",
       "    <tr>\n",
       "      <th>72</th>\n",
       "      <td>8.4</td>\n",
       "      <td>2.112</td>\n",
       "      <td>1.408</td>\n",
       "    </tr>\n",
       "  </tbody>\n",
       "</table>\n",
       "</div>"
      ],
      "text/plain": [
       "    Length2  Height  Width\n",
       "72      8.4   2.112  1.408"
      ]
     },
     "execution_count": 8,
     "metadata": {},
     "output_type": "execute_result"
    }
   ],
   "source": [
    "# 원하는 열(Columns)을 추출하기!\n",
    "x = df[[\"Length2\", \"Height\", \"Width\"]] # 특성값 3가지\n",
    "\n",
    "x.head(1)"
   ]
  },
  {
   "cell_type": "code",
   "execution_count": 9,
   "id": "af3952fa-57ba-409c-a891-11418d574e75",
   "metadata": {
    "tags": []
   },
   "outputs": [
    {
     "data": {
      "text/html": [
       "<div>\n",
       "<style scoped>\n",
       "    .dataframe tbody tr th:only-of-type {\n",
       "        vertical-align: middle;\n",
       "    }\n",
       "\n",
       "    .dataframe tbody tr th {\n",
       "        vertical-align: top;\n",
       "    }\n",
       "\n",
       "    .dataframe thead th {\n",
       "        text-align: right;\n",
       "    }\n",
       "</style>\n",
       "<table border=\"1\" class=\"dataframe\">\n",
       "  <thead>\n",
       "    <tr style=\"text-align: right;\">\n",
       "      <th></th>\n",
       "      <th>Weight</th>\n",
       "    </tr>\n",
       "  </thead>\n",
       "  <tbody>\n",
       "    <tr>\n",
       "      <th>72</th>\n",
       "      <td>5.9</td>\n",
       "    </tr>\n",
       "  </tbody>\n",
       "</table>\n",
       "</div>"
      ],
      "text/plain": [
       "    Weight\n",
       "72     5.9"
      ]
     },
     "execution_count": 9,
     "metadata": {},
     "output_type": "execute_result"
    }
   ],
   "source": [
    "y = df[[\"Weight\"]] # 레이블(label) -> y\n",
    "\n",
    "y.head(1)"
   ]
  },
  {
   "cell_type": "code",
   "execution_count": 10,
   "id": "e7abe2e6-49be-4970-8a2f-25a2440482e6",
   "metadata": {
    "tags": []
   },
   "outputs": [
    {
     "name": "stdout",
     "output_type": "stream",
     "text": [
      "<class 'pandas.core.frame.DataFrame'>\n",
      "<class 'pandas.core.frame.DataFrame'>\n"
     ]
    }
   ],
   "source": [
    "print(type(x))\n",
    "print(type(y))"
   ]
  },
  {
   "cell_type": "code",
   "execution_count": 11,
   "id": "919ec9ae-2683-42c1-80cf-bd80a71a8c63",
   "metadata": {
    "tags": []
   },
   "outputs": [
    {
     "name": "stdout",
     "output_type": "stream",
     "text": [
      "<class 'numpy.ndarray'>\n",
      "[[ 8.4     2.112   1.408 ]\n",
      " [13.7     3.528   1.9992]\n",
      " [15.      3.824   2.432 ]\n",
      " [16.2     4.5924  2.6316]\n",
      " [17.4     4.588   2.9415]\n",
      " [18.      5.2224  3.3216]\n",
      " [18.7     5.1992  3.1234]\n",
      " [19.      5.6358  3.0502]\n",
      " [19.6     5.1376  3.0368]\n",
      " [20.      5.082   2.772 ]\n",
      " [21.      5.6925  3.555 ]\n",
      " [21.      5.9175  3.3075]\n",
      " [21.      5.6925  3.6675]\n",
      " [21.3     6.384   3.534 ]\n",
      " [22.      6.11    3.4075]\n",
      " [22.      5.64    3.525 ]\n",
      " [22.      6.11    3.525 ]\n",
      " [22.      5.875   3.525 ]\n",
      " [22.      5.5225  3.995 ]\n",
      " [22.5     5.856   3.624 ]\n",
      " [22.5     6.792   3.624 ]\n",
      " [22.7     5.9532  3.63  ]\n",
      " [23.      5.2185  3.626 ]\n",
      " [23.5     6.275   3.725 ]\n",
      " [24.      7.293   3.723 ]\n",
      " [24.      6.375   3.825 ]\n",
      " [24.6     6.7334  4.1658]\n",
      " [25.      6.4395  3.6835]\n",
      " [25.6     6.561   4.239 ]\n",
      " [26.5     7.168   4.144 ]\n",
      " [27.3     8.323   5.1373]\n",
      " [27.5     7.1672  4.335 ]\n",
      " [27.5     7.0516  4.335 ]\n",
      " [27.5     7.2828  4.5662]\n",
      " [28.      7.8204  4.2042]\n",
      " [28.7     7.5852  4.6354]\n",
      " [30.      7.6156  4.7716]\n",
      " [32.8    10.03    6.018 ]\n",
      " [34.5    10.2565  6.3875]\n",
      " [35.     11.4884  7.7957]\n",
      " [36.5    10.881   6.864 ]\n",
      " [36.     10.6091  6.7408]\n",
      " [37.     10.835   6.2646]\n",
      " [37.     10.5717  6.3666]\n",
      " [39.     11.1366  7.4934]\n",
      " [39.     11.1366  6.003 ]\n",
      " [39.     12.4313  7.3514]\n",
      " [40.     11.9286  7.1064]\n",
      " [40.     11.73    7.225 ]\n",
      " [40.     12.3808  7.4624]\n",
      " [40.     11.135   6.63  ]\n",
      " [42.     12.8002  6.8684]\n",
      " [43.     11.9328  7.2772]\n",
      " [43.     12.5125  7.4165]\n",
      " [43.5    12.604   8.142 ]\n",
      " [44.     12.4888  7.5958]]\n"
     ]
    }
   ],
   "source": [
    "x = x.to_numpy()\n",
    "print(type(x))\n",
    "print(x)"
   ]
  },
  {
   "cell_type": "code",
   "execution_count": 12,
   "id": "81fe027e-4b42-4a0d-b8f6-6d4f94f1a140",
   "metadata": {},
   "outputs": [
    {
     "name": "stdout",
     "output_type": "stream",
     "text": [
      "(56, 3)\n"
     ]
    }
   ],
   "source": [
    "print(x.shape)"
   ]
  },
  {
   "cell_type": "code",
   "execution_count": 13,
   "id": "249e35b6-e405-47fb-9b85-ce06c24e171a",
   "metadata": {},
   "outputs": [
    {
     "name": "stdout",
     "output_type": "stream",
     "text": [
      "<class 'numpy.ndarray'>\n",
      "[[   5.9]\n",
      " [  32. ]\n",
      " [  40. ]\n",
      " [  51.5]\n",
      " [  70. ]\n",
      " [ 100. ]\n",
      " [  78. ]\n",
      " [  80. ]\n",
      " [  85. ]\n",
      " [  85. ]\n",
      " [ 110. ]\n",
      " [ 115. ]\n",
      " [ 125. ]\n",
      " [ 130. ]\n",
      " [ 120. ]\n",
      " [ 120. ]\n",
      " [ 130. ]\n",
      " [ 135. ]\n",
      " [ 110. ]\n",
      " [ 130. ]\n",
      " [ 150. ]\n",
      " [ 145. ]\n",
      " [ 150. ]\n",
      " [ 170. ]\n",
      " [ 225. ]\n",
      " [ 145. ]\n",
      " [ 188. ]\n",
      " [ 180. ]\n",
      " [ 197. ]\n",
      " [ 218. ]\n",
      " [ 300. ]\n",
      " [ 260. ]\n",
      " [ 265. ]\n",
      " [ 250. ]\n",
      " [ 250. ]\n",
      " [ 300. ]\n",
      " [ 320. ]\n",
      " [ 514. ]\n",
      " [ 556. ]\n",
      " [ 840. ]\n",
      " [ 685. ]\n",
      " [ 700. ]\n",
      " [ 700. ]\n",
      " [ 690. ]\n",
      " [ 900. ]\n",
      " [ 650. ]\n",
      " [ 820. ]\n",
      " [ 850. ]\n",
      " [ 900. ]\n",
      " [1015. ]\n",
      " [ 820. ]\n",
      " [1100. ]\n",
      " [1000. ]\n",
      " [1100. ]\n",
      " [1000. ]\n",
      " [1000. ]]\n"
     ]
    }
   ],
   "source": [
    "y = y.to_numpy()\n",
    "print(type(y))\n",
    "print(y)"
   ]
  },
  {
   "cell_type": "code",
   "execution_count": 14,
   "id": "6843c41f-29d5-4626-a51a-b493e7f54cad",
   "metadata": {
    "tags": []
   },
   "outputs": [
    {
     "name": "stdout",
     "output_type": "stream",
     "text": [
      "(56, 1)\n"
     ]
    }
   ],
   "source": [
    "print(y.shape)"
   ]
  },
  {
   "cell_type": "code",
   "execution_count": 15,
   "id": "51f8a6a9-1d00-4142-af46-25c42869aa51",
   "metadata": {
    "tags": []
   },
   "outputs": [],
   "source": [
    "from sklearn.model_selection import train_test_split\n",
    "\n",
    "x_train, x_test, y_train, y_test = train_test_split(x, y, random_state=42)"
   ]
  },
  {
   "cell_type": "code",
   "execution_count": 16,
   "id": "a8ac7a5e-94c6-4c01-9ac6-f64cf9694a87",
   "metadata": {
    "tags": []
   },
   "outputs": [
    {
     "name": "stdout",
     "output_type": "stream",
     "text": [
      "(42, 3) (42, 1)\n",
      "(14, 3) (14, 1)\n"
     ]
    }
   ],
   "source": [
    "print(x_train.shape, y_train.shape)\n",
    "print(x_test.shape, y_test.shape)"
   ]
  },
  {
   "cell_type": "markdown",
   "id": "1b0853d0-b7d1-44e3-a790-d6c3619641c7",
   "metadata": {},
   "source": [
    "### **Chapter 02. 사이킷런의 변환기**"
   ]
  },
  {
   "cell_type": "code",
   "execution_count": 17,
   "id": "8db31da3-79e1-433c-9f66-56becd4bb9fa",
   "metadata": {
    "tags": []
   },
   "outputs": [],
   "source": [
    "from sklearn.preprocessing import PolynomialFeatures"
   ]
  },
  {
   "cell_type": "code",
   "execution_count": 18,
   "id": "4ac38865-6c3d-4d37-9848-8eff40edfe65",
   "metadata": {},
   "outputs": [
    {
     "name": "stdout",
     "output_type": "stream",
     "text": [
      "[[ 1.  3.  5.  9. 15. 25.]]\n"
     ]
    }
   ],
   "source": [
    "poly = PolynomialFeatures(include_bias=True) # bias = y 절편\n",
    "poly.fit([[4, 2]]) # --> x1, x2, x1^2, x2^2, x1*x2\n",
    "print(poly.transform([[3,5]]))"
   ]
  },
  {
   "cell_type": "code",
   "execution_count": 19,
   "id": "367023b9-3464-4fbb-b07d-6e7ea3b57e6d",
   "metadata": {},
   "outputs": [],
   "source": [
    "poly = PolynomialFeatures(include_bias=False) # 변환기 클래스\n",
    "\n",
    "poly.fit(x_train) # (x1, x2, x3) --> (x1^2, x2^2, x3^2, x1*x2, x1*x3, x2*x3)\n",
    "x_train_poly = poly.transform(x_train)"
   ]
  },
  {
   "cell_type": "code",
   "execution_count": 20,
   "id": "0bf9aa04-cd3d-44e6-afd8-1a17e4235eb5",
   "metadata": {
    "tags": []
   },
   "outputs": [
    {
     "name": "stdout",
     "output_type": "stream",
     "text": [
      "(42, 9)\n"
     ]
    }
   ],
   "source": [
    "print(x_train_poly.shape) # 특성이 9개가 나올줄 알았는데 10개가 나왔음\n",
    "#print(x_train_poly)"
   ]
  },
  {
   "cell_type": "code",
   "execution_count": 21,
   "id": "02e21468-1b1c-4c07-a391-9d75d19e7ddf",
   "metadata": {},
   "outputs": [
    {
     "name": "stdout",
     "output_type": "stream",
     "text": [
      "(14, 9)\n"
     ]
    }
   ],
   "source": [
    "x_test_poly = poly.transform(x_test)\n",
    "print(x_test_poly.shape)"
   ]
  },
  {
   "cell_type": "code",
   "execution_count": 22,
   "id": "4afab72d-5b65-42b8-9774-e13df7cabee4",
   "metadata": {},
   "outputs": [
    {
     "data": {
      "text/plain": [
       "array(['x0', 'x1', 'x2', 'x0^2', 'x0 x1', 'x0 x2', 'x1^2', 'x1 x2',\n",
       "       'x2^2'], dtype=object)"
      ]
     },
     "execution_count": 22,
     "metadata": {},
     "output_type": "execute_result"
    }
   ],
   "source": [
    "poly.get_feature_names_out()"
   ]
  },
  {
   "cell_type": "markdown",
   "id": "6c0a4416-c093-4d01-9c79-7b10a94276ee",
   "metadata": {},
   "source": [
    "### **Chapter 03. 다중 회귀 모델 훈련하기**"
   ]
  },
  {
   "cell_type": "code",
   "execution_count": 23,
   "id": "ae984904-96ea-44eb-bdb9-71fe3b404232",
   "metadata": {
    "tags": []
   },
   "outputs": [
    {
     "name": "stdout",
     "output_type": "stream",
     "text": [
      "학습용: 0.9903557670312703\n",
      "시험용: 0.9712376207461859\n"
     ]
    }
   ],
   "source": [
    "from sklearn.linear_model import LinearRegression\n",
    "\n",
    "lr = LinearRegression()\n",
    "lr.fit(x_train_poly, y_train) # 계수, 절편 값을 찾아라!\n",
    "\n",
    "print(\"학습용:\", lr.score(x_train_poly, y_train))\n",
    "print(\"시험용:\", lr.score(x_test_poly, y_test))"
   ]
  },
  {
   "cell_type": "code",
   "execution_count": 24,
   "id": "f585f1a5-f36a-44ad-9202-9f722c54e0df",
   "metadata": {
    "tags": []
   },
   "outputs": [
    {
     "data": {
      "text/plain": [
       "2"
      ]
     },
     "execution_count": 24,
     "metadata": {},
     "output_type": "execute_result"
    }
   ],
   "source": [
    "poly.degree # 최고 차항의 차수 "
   ]
  },
  {
   "cell_type": "code",
   "execution_count": 25,
   "id": "9fb02996-4079-4c25-b28a-970fb0404914",
   "metadata": {},
   "outputs": [
    {
     "name": "stdout",
     "output_type": "stream",
     "text": [
      "(42, 55)\n",
      "(14, 55)\n"
     ]
    }
   ],
   "source": [
    "poly = PolynomialFeatures(include_bias=False, degree=5) # x1^5\n",
    "\n",
    "poly.fit(x_train) # (x1, x2, x3) --> (x1^2, x2^2, x3^2, x1*x2, x1*x3, x2*x3)\n",
    "x_train_poly = poly.transform(x_train)\n",
    "x_test_poly = poly.transform(x_test)\n",
    "\n",
    "print(x_train_poly.shape)\n",
    "print(x_test_poly.shape)"
   ]
  },
  {
   "cell_type": "code",
   "execution_count": 26,
   "id": "9d937b95-74d9-473b-826c-845b1a94c174",
   "metadata": {},
   "outputs": [
    {
     "data": {
      "text/plain": [
       "array(['x0', 'x1', 'x2', 'x0^2', 'x0 x1', 'x0 x2', 'x1^2', 'x1 x2',\n",
       "       'x2^2', 'x0^3', 'x0^2 x1', 'x0^2 x2', 'x0 x1^2', 'x0 x1 x2',\n",
       "       'x0 x2^2', 'x1^3', 'x1^2 x2', 'x1 x2^2', 'x2^3', 'x0^4', 'x0^3 x1',\n",
       "       'x0^3 x2', 'x0^2 x1^2', 'x0^2 x1 x2', 'x0^2 x2^2', 'x0 x1^3',\n",
       "       'x0 x1^2 x2', 'x0 x1 x2^2', 'x0 x2^3', 'x1^4', 'x1^3 x2',\n",
       "       'x1^2 x2^2', 'x1 x2^3', 'x2^4', 'x0^5', 'x0^4 x1', 'x0^4 x2',\n",
       "       'x0^3 x1^2', 'x0^3 x1 x2', 'x0^3 x2^2', 'x0^2 x1^3',\n",
       "       'x0^2 x1^2 x2', 'x0^2 x1 x2^2', 'x0^2 x2^3', 'x0 x1^4',\n",
       "       'x0 x1^3 x2', 'x0 x1^2 x2^2', 'x0 x1 x2^3', 'x0 x2^4', 'x1^5',\n",
       "       'x1^4 x2', 'x1^3 x2^2', 'x1^2 x2^3', 'x1 x2^4', 'x2^5'],\n",
       "      dtype=object)"
      ]
     },
     "execution_count": 26,
     "metadata": {},
     "output_type": "execute_result"
    }
   ],
   "source": [
    "poly.get_feature_names_out()"
   ]
  },
  {
   "cell_type": "code",
   "execution_count": 27,
   "id": "d755003d-d5c2-46ce-9133-20d9ea2307c5",
   "metadata": {},
   "outputs": [
    {
     "name": "stdout",
     "output_type": "stream",
     "text": [
      "학습용: 0.9999999999991127\n",
      "시험용: -129.88010840656509\n"
     ]
    }
   ],
   "source": [
    "lr = LinearRegression()\n",
    "lr.fit(x_train_poly, y_train) # 계수, 절편 값을 찾아라!\n",
    "\n",
    "# 과대적합 -> 수능 망함\n",
    "print(\"학습용:\", lr.score(x_train_poly, y_train))\n",
    "print(\"시험용:\", lr.score(x_test_poly, y_test))"
   ]
  },
  {
   "cell_type": "code",
   "execution_count": 28,
   "id": "5303d8b1-3b71-48fa-869c-c8cc690162a1",
   "metadata": {},
   "outputs": [
    {
     "name": "stdout",
     "output_type": "stream",
     "text": [
      "[2.84452381e+01 8.04177619e+00 4.82055476e+00 8.85315000e+02\n",
      " 2.53470948e+02 1.51956220e+02 7.29276742e+01 4.36967156e+01\n",
      " 2.62853281e+01 2.97326070e+04 8.59774772e+03 5.15176747e+03\n",
      " 2.49656208e+03 1.49553817e+03 8.99087988e+02 7.27845314e+02\n",
      " 4.35963245e+02 2.62077075e+02 1.58112864e+02 1.05917983e+06\n",
      " 3.08417994e+05 1.84632019e+05 9.01174973e+04 5.39424625e+04\n",
      " 3.23950805e+04 2.64197426e+04 1.58147036e+04 9.49827765e+03\n",
      " 5.72355360e+03 7.77060032e+03 4.65212847e+03 2.79466584e+03\n",
      " 1.68451523e+03 1.01877250e+03 3.93876111e+07 1.15189511e+07\n",
      " 6.88783177e+06 3.37848356e+06 2.02012802e+06 1.21163040e+06\n",
      " 9.93702300e+05 5.94216722e+05 3.56448011e+05 2.14482543e+05\n",
      " 2.93083339e+05 1.75288678e+05 1.05174815e+05 6.33063832e+04\n",
      " 3.82250476e+04 8.66772369e+04 5.18541727e+04 3.11238569e+04\n",
      " 1.87420990e+04 1.13226020e+04 6.86230209e+03]\n",
      "[8.72831196e+00 2.87358833e+00 1.74573191e+00 5.24782988e+02\n",
      " 1.60841461e+02 9.64592547e+01 4.95192352e+01 2.97533677e+01\n",
      " 1.81067398e+01 2.50155373e+04 7.49296931e+03 4.47073959e+03\n",
      " 2.25444992e+03 1.34665908e+03 8.11717916e+02 6.81310084e+02\n",
      " 4.07599636e+02 2.46192571e+02 1.50089750e+02 1.10854579e+06\n",
      " 3.28258160e+05 1.95306597e+05 9.76209490e+04 5.80986077e+04\n",
      " 3.48353554e+04 2.91614164e+04 1.73658328e+04 1.04243126e+04\n",
      " 6.30611717e+03 8.75142767e+03 5.21660529e+03 3.13624408e+03\n",
      " 1.90140305e+03 1.16234405e+03 4.77814865e+07 1.40488185e+07\n",
      " 8.34532048e+06 4.14763816e+06 2.46276493e+06 1.47184197e+06\n",
      " 1.22982188e+06 7.30120392e+05 4.36490352e+05 2.62699146e+05\n",
      " 3.66313648e+05 2.17504713e+05 1.30118702e+05 7.84110886e+04\n",
      " 4.75913605e+04 1.09624605e+05 6.51238868e+04 3.90004977e+04\n",
      " 2.35420948e+04 1.43231941e+04 8.78330527e+03]\n"
     ]
    }
   ],
   "source": [
    "from sklearn.preprocessing import StandardScaler\n",
    "\n",
    "ss = StandardScaler()\n",
    "ss.fit(x_train_poly) # mean, std 계산해줌\n",
    "\n",
    "print(ss.mean_)\n",
    "print(ss.scale_)"
   ]
  },
  {
   "cell_type": "code",
   "execution_count": 29,
   "id": "7d63ea74-5ed6-4d6f-a571-61e0416ff298",
   "metadata": {
    "tags": []
   },
   "outputs": [],
   "source": [
    "# 표준 점수화 되어 z score가 됨\n",
    "x_train_scaled = ss.transform(x_train_poly)\n",
    "x_test_scaled = ss.transform(x_test_poly)"
   ]
  },
  {
   "cell_type": "code",
   "execution_count": 44,
   "id": "2890d46e-3652-49cb-ac09-21b84a2e2ebe",
   "metadata": {
    "tags": []
   },
   "outputs": [
    {
     "name": "stdout",
     "output_type": "stream",
     "text": [
      "(42, 55)\n",
      "학습용: 0.9896217956447124\n",
      "시험용: 0.9788853860988004\n"
     ]
    }
   ],
   "source": [
    "# Ridge(릿지) -> 과대적합, 차원축소 회피 가능\n",
    "\n",
    "from sklearn.linear_model import Ridge\n",
    "\n",
    "ridge = Ridge()\n",
    "\n",
    "ridge.fit(x_train_scaled, y_train)\n",
    "\n",
    "print(x_train_scaled.shape)\n",
    "print(\"학습용:\", ridge.score(x_train_scaled, y_train))\n",
    "print(\"시험용:\", ridge.score(x_test_scaled, y_test))"
   ]
  },
  {
   "cell_type": "code",
   "execution_count": 45,
   "id": "049f1edf-869f-4c5c-b448-f2ed2c151c90",
   "metadata": {
    "tags": []
   },
   "outputs": [
    {
     "name": "stdout",
     "output_type": "stream",
     "text": [
      "[0.9930679875694637, 0.9918120087949348, 0.9904048455941404, 0.9896217956447124, 0.9887366307205133, 0.9841994538470815]\n",
      "[0.9560293715495922, 0.9796497117193657, 0.9826465162736637, 0.9788853860988004, 0.9722857046398284, 0.9624191421271446]\n"
     ]
    }
   ],
   "source": [
    "alpha = [0.001, 0.01, 0.1, 1, 10, 100]\n",
    "\n",
    "train_score = []\n",
    "test_score = []\n",
    "\n",
    "for a in alpha:\n",
    "    ridge = Ridge(alpha=a)\n",
    "\n",
    "    ridge.fit(x_train_scaled, y_train)\n",
    "\n",
    "    train_score.append(ridge.score(x_train_scaled, y_train))\n",
    "    test_score.append(ridge.score(x_test_scaled, y_test))\n",
    "    \n",
    "print(train_score)\n",
    "print(test_score)"
   ]
  },
  {
   "cell_type": "code",
   "execution_count": 47,
   "id": "851237f2-ebaa-43ca-8c90-16faed92b18f",
   "metadata": {
    "tags": []
   },
   "outputs": [
    {
     "data": {
      "image/png": "[encoded data removed]",
      "text/plain": [
       "<Figure size 640x480 with 1 Axes>"
      ]
     },
     "metadata": {},
     "output_type": "display_data"
    }
   ],
   "source": [
    "import matplotlib.pyplot as plt\n",
    "\n",
    "#  x축에 log10()을 적용해서 그래프를 그림!\n",
    "# 0.001 -> log10(10e-3) -> -3\n",
    "# 0.01 -> log10(10e-2) -> -2\n",
    "# 0.1 -> log10(10e-1) -> -1\n",
    "# 1 -> log10(10e-0) -> -0\n",
    "\n",
    "import numpy as np\n",
    "x_axis = np.log10(alpha)\n",
    "\n",
    "plt.figure()\n",
    "plt.plot(x_axis, train_score, label=\"train\", marker='d', color=\"red\")\n",
    "plt.plot(x_axis, test_score, label=\"test\", marker='^', color=\"blue\")\n",
    "plt.xlabel(\"log10(alpha)\")\n",
    "plt.ylabel(\"R^2\")\n",
    "plt.grid()\n",
    "plt.legend()\n",
    "plt.show()\n",
    "# train 과소적합 발생\n",
    "# test 특정 계수에 몰빵"
   ]
  },
  {
   "cell_type": "code",
   "execution_count": 33,
   "id": "83e3f1c2-05dd-406d-adbe-023e6a920705",
   "metadata": {
    "tags": []
   },
   "outputs": [
    {
     "name": "stdout",
     "output_type": "stream",
     "text": [
      "(42, 55)\n",
      "학습용: 0.9904048455941404\n",
      "시험용: 0.9826465162736637\n"
     ]
    }
   ],
   "source": [
    "ridge = Ridge(alpha=0.1)\n",
    "\n",
    "ridge.fit(x_train_scaled, y_train)\n",
    "\n",
    "print(x_train_scaled.shape)\n",
    "print(\"학습용:\", ridge.score(x_train_scaled, y_train))\n",
    "print(\"시험용:\", ridge.score(x_test_scaled, y_test))"
   ]
  },
  {
   "cell_type": "code",
   "execution_count": 34,
   "id": "cb91a797-11c1-4aec-ad34-c9b8ead258cf",
   "metadata": {},
   "outputs": [
    {
     "name": "stdout",
     "output_type": "stream",
     "text": [
      "학습용: 0.9898014198970121\n",
      "시험용: 0.9798798667260246\n"
     ]
    }
   ],
   "source": [
    "# Lasso (라쏘)\n",
    "from sklearn.linear_model import Lasso\n",
    "\n",
    "lasso = Lasso() # 추정기 클래스 -> fit(), score(), predict()\n",
    "lasso.fit(x_train_scaled, y_train)\n",
    "\n",
    "print(\"학습용:\", lasso.score(x_train_scaled, y_train))\n",
    "print(\"시험용:\", lasso.score(x_test_scaled, y_test))"
   ]
  },
  {
   "cell_type": "code",
   "execution_count": 35,
   "id": "767cf4b8-e809-4880-9206-5690e6977af3",
   "metadata": {},
   "outputs": [
    {
     "name": "stdout",
     "output_type": "stream",
     "text": [
      "1.0\n"
     ]
    }
   ],
   "source": [
    "# 규제 강도 alpha의 기본값\n",
    "print(lasso.alpha) # alpha -> 하이퍼 파라미터임!!! -> 즉, 인간이 직접 최적의 값을 찾아야 함"
   ]
  },
  {
   "cell_type": "code",
   "execution_count": 36,
   "id": "e4d9e5e2-143a-4220-a120-88a5581e555a",
   "metadata": {
    "tags": []
   },
   "outputs": [
    {
     "name": "stdout",
     "output_type": "stream",
     "text": [
      "[0.990885793140726, 0.9908215419660339, 0.990158410124092, 0.9898014198970121, 0.9888208857886491, 0.9078705774151945]\n",
      "[0.9835337219178569, 0.9835218690835712, 0.9818250769195748, 0.9798798667260246, 0.9823020708550176, 0.9088212580432731]\n"
     ]
    },
    {
     "name": "stderr",
     "output_type": "stream",
     "text": [
      "C:\\Users\\user\\anaconda3\\Lib\\site-packages\\sklearn\\linear_model\\_coordinate_descent.py:628: ConvergenceWarning: Objective did not converge. You might want to increase the number of iterations, check the scale of the features or consider increasing regularisation. Duality gap: 2.329e+04, tolerance: 5.183e+02\n",
      "  model = cd_fast.enet_coordinate_descent(\n",
      "C:\\Users\\user\\anaconda3\\Lib\\site-packages\\sklearn\\linear_model\\_coordinate_descent.py:628: ConvergenceWarning: Objective did not converge. You might want to increase the number of iterations, check the scale of the features or consider increasing regularisation. Duality gap: 2.020e+04, tolerance: 5.183e+02\n",
      "  model = cd_fast.enet_coordinate_descent(\n",
      "C:\\Users\\user\\anaconda3\\Lib\\site-packages\\sklearn\\linear_model\\_coordinate_descent.py:628: ConvergenceWarning: Objective did not converge. You might want to increase the number of iterations, check the scale of the features or consider increasing regularisation. Duality gap: 8.790e+02, tolerance: 5.183e+02\n",
      "  model = cd_fast.enet_coordinate_descent(\n"
     ]
    }
   ],
   "source": [
    "alpha_list = [0.001, 0.01, 0.1, 1, 10, 100]\n",
    "\n",
    "train_score = []\n",
    "test_score = []\n",
    "\n",
    "for alpha in alpha_list:\n",
    "    #print(alpha)\n",
    "    lasso = Lasso(alpha = alpha) # 추정기 클래스 -> fit(), score(), predict()\n",
    "    lasso.fit(x_train_scaled, y_train)\n",
    "\n",
    "    train_score.append(lasso.score(x_train_scaled, y_train))\n",
    "    test_score.append(lasso.score(x_test_scaled, y_test))\n",
    "    \n",
    "print(train_score)\n",
    "print(test_score)"
   ]
  },
  {
   "cell_type": "code",
   "execution_count": 37,
   "id": "b76849e6-c027-403b-a69e-4596e129d203",
   "metadata": {},
   "outputs": [
    {
     "data": {
      "image/png": "[encoded data removed]",
      "text/plain": [
       "<Figure size 640x480 with 1 Axes>"
      ]
     },
     "metadata": {},
     "output_type": "display_data"
    }
   ],
   "source": [
    "plt.figure()\n",
    "plt.plot(np.log10(alpha_list), train_score, label=\"train\", marker='s', color=\"red\")\n",
    "plt.plot(np.log10(alpha_list), test_score, label=\"test\", marker='o', color=\"blue\")\n",
    "plt.xlabel(\"log10(alpha)\")\n",
    "plt.ylabel(\"R^2\")\n",
    "plt.grid()\n",
    "plt.legend()\n",
    "plt.show()\n",
    "\n",
    "# alpha값 10을 기준으로 과소적합"
   ]
  },
  {
   "cell_type": "code",
   "execution_count": 38,
   "id": "45ae78ac-59de-4ce6-b783-5686bf156c56",
   "metadata": {},
   "outputs": [
    {
     "name": "stdout",
     "output_type": "stream",
     "text": [
      "학습용: 0.9888208857886491\n",
      "시험용: 0.9823020708550176\n"
     ]
    }
   ],
   "source": [
    "lasso = Lasso(alpha=10)\n",
    "lasso.fit(x_train_scaled, y_train)\n",
    "\n",
    "print(\"학습용:\", lasso.score(x_train_scaled, y_train))\n",
    "print(\"시험용:\", lasso.score(x_test_scaled, y_test))"
   ]
  },
  {
   "cell_type": "code",
   "execution_count": 39,
   "id": "30113a7c-750a-419f-85c8-b4d93e083de6",
   "metadata": {},
   "outputs": [],
   "source": [
    "# 릿지(Ridge) -> 계수 제곱의 합을 규제함!!\n",
    "# 라쏘(Lasso) -> 계수 합을 규제함!!\n",
    "\n",
    "# 계수가 가질 수 있는 값\n",
    "# 릿지 -> 0으로 만들 순 없음!!!\n",
    "# 라쏘 -> 0으로 만들 수 있임!!!"
   ]
  },
  {
   "cell_type": "code",
   "execution_count": 40,
   "id": "0a16a82a-46a3-49a5-99f2-f37efa1b620e",
   "metadata": {
    "tags": []
   },
   "outputs": [
    {
     "name": "stdout",
     "output_type": "stream",
     "text": [
      "[[ 2.76892628e+01 -1.83584948e+00 -1.95533898e+01  3.01443623e+01\n",
      "   1.71123377e+01  1.77338905e+01  4.58691290e+00  3.78634741e+00\n",
      "   2.29633132e+01  1.95546393e+01  1.79106518e+01  1.42889189e+01\n",
      "   1.35488405e+01  7.40803906e+00  1.90664802e+01  5.31335570e+00\n",
      "  -2.20221783e+00  1.04655501e+01  4.18531586e+01  5.91176135e+00\n",
      "   1.50914960e+01 -7.36368453e-01  2.00950871e+01  1.09208858e+00\n",
      "  -1.30290300e+00  1.99185516e+01 -1.31058193e+00 -3.82067084e+00\n",
      "   1.18902263e+01  1.38180301e+01 -8.62947643e+00 -1.02607468e+01\n",
      "   8.32664340e+00  4.58293381e+01 -6.18066720e+00  1.36045427e+01\n",
      "  -1.78391661e+01  2.85760395e+01 -6.63342097e+00 -2.60989590e+01\n",
      "   3.77201142e+01 -4.34689550e-01 -2.09765252e+01 -2.38355405e+01\n",
      "   4.02104486e+01  1.28473247e-03 -2.06941773e+01 -2.18012378e+01\n",
      "  -3.82797476e+00  3.54389670e+01 -5.86274121e+00 -2.57262656e+01\n",
      "  -2.41156940e+01 -1.70583491e+00  4.01646977e+01]]\n"
     ]
    }
   ],
   "source": [
    "print(ridge.coef_)"
   ]
  },
  {
   "cell_type": "code",
   "execution_count": 41,
   "id": "0024e672-6fe0-470a-8d3e-96c05d6bd7da",
   "metadata": {},
   "outputs": [
    {
     "name": "stdout",
     "output_type": "stream",
     "text": [
      "40\n"
     ]
    }
   ],
   "source": [
    "# 계수 -> coefficient -> coef_\n",
    "print(np.sum(lasso.coef_ == 0.0))\n",
    "# 55개 특성 -> 40개를 사용하지 않음! -> 15개 특성만으로 예측!\n",
    "# Feature Selection -> PCA, Lasso(규제)"
   ]
  }
 ],
 "metadata": {
  "kernelspec": {
   "display_name": "Python 3 (ipykernel)",
   "language": "python",
   "name": "python3"
  },
  "language_info": {
   "codemirror_mode": {
    "name": "ipython",
    "version": 3
   },
   "file_extension": ".py",
   "mimetype": "text/x-python",
   "name": "python",
   "nbconvert_exporter": "python",
   "pygments_lexer": "ipython3",
   "version": "3.11.4"
  }
 },
 "nbformat": 4,
 "nbformat_minor": 5
}
