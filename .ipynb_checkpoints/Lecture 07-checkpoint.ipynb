{
 "cells": [
  {
   "cell_type": "code",
   "execution_count": 1,
   "id": "36390d4b-5230-4f5d-b4d0-ca0c105851c2",
   "metadata": {
    "tags": []
   },
   "outputs": [
    {
     "name": "stdout",
     "output_type": "stream",
     "text": [
      "['癤풱pecies', 'Weight', 'Length1', 'Length2', 'Length3', 'Height', 'Width']\n",
      "[5.9, 32.0, 40.0, 51.5, 70.0, 100.0, 78.0, 80.0, 85.0, 85.0, 110.0, 115.0, 125.0, 130.0, 120.0, 120.0, 130.0, 135.0, 110.0, 130.0, 150.0, 145.0, 150.0, 170.0, 225.0, 145.0, 188.0, 180.0, 197.0, 218.0, 300.0, 260.0, 265.0, 250.0, 250.0, 300.0, 320.0, 514.0, 556.0, 840.0, 685.0, 700.0, 700.0, 690.0, 900.0, 650.0, 820.0, 850.0, 900.0, 1015.0, 820.0, 1100.0, 1000.0, 1100.0, 1000.0, 1000.0]\n",
      "[8.4, 13.7, 15.0, 16.2, 17.4, 18.0, 18.7, 19.0, 19.6, 20.0, 21.0, 21.0, 21.0, 21.3, 22.0, 22.0, 22.0, 22.0, 22.0, 22.5, 22.5, 22.7, 23.0, 23.5, 24.0, 24.0, 24.6, 25.0, 25.6, 26.5, 27.3, 27.5, 27.5, 27.5, 28.0, 28.7, 30.0, 32.8, 34.5, 35.0, 36.5, 36.0, 37.0, 37.0, 39.0, 39.0, 39.0, 40.0, 40.0, 40.0, 40.0, 42.0, 43.0, 43.0, 43.5, 44.0]\n"
     ]
    }
   ],
   "source": [
    "# Stream (스트림) -> 고속도로라고 생각하면 됨\n",
    "# read -> 'r'\n",
    "# write -> 'w'\n",
    "# append -> 'a'\n",
    "\n",
    "# OS (운영체제) -> Windows 11/10, macOS, Linux\n",
    "# 예를 들어, 사과 --> 기계어로 변환 (이진수)\n",
    "\n",
    "# csv -> comma-separated values\n",
    "import csv\n",
    "\n",
    "f = open(\"Fish.csv\", \"r\", encoding=\"cp949\") # 윈도우 기반에서 만들어진 csv 파일\n",
    "\n",
    "data = csv.reader(f)\n",
    "#print(data)\n",
    "\n",
    "h = next(data) # header\n",
    "print(h)\n",
    "\n",
    "perch_weight = []\n",
    "perch_length = []\n",
    "\n",
    "for row in data:\n",
    "    #print(row)\n",
    "    #print(row[1]) # weight --> x\n",
    "    #print(row[3]) # Length2 --> y\n",
    "    if (row[0] == \"Perch\"):\n",
    "        perch_weight.append(float(row[1])) # float()하기 전에는 문자열\n",
    "        perch_length.append(float(row[3]))\n",
    "\n",
    "f.close()\n",
    "\n",
    "print(perch_weight)\n",
    "print(perch_length)"
   ]
  },
  {
   "cell_type": "code",
   "execution_count": 2,
   "id": "97e4b9ec-5eff-46ac-8a7b-275783425ea9",
   "metadata": {
    "tags": []
   },
   "outputs": [
    {
     "name": "stdout",
     "output_type": "stream",
     "text": [
      "4220\n"
     ]
    }
   ],
   "source": [
    "print('42' + '20') # 문자열 결합"
   ]
  },
  {
   "cell_type": "code",
   "execution_count": 3,
   "id": "bbd7b4fb-75cd-4d02-8126-998545708cba",
   "metadata": {},
   "outputs": [
    {
     "data": {
      "image/png": "[encoded data removed]",
      "text/plain": [
       "<Figure size 640x480 with 1 Axes>"
      ]
     },
     "metadata": {},
     "output_type": "display_data"
    }
   ],
   "source": [
    "import matplotlib.pyplot as plt\n",
    "\n",
    "# perch_weight --> y\n",
    "# perch_length --> x\n",
    "\n",
    "# 산점도 (Scatter Plot)\n",
    "# 산 -> 산포되어 있다\n",
    "# 점 -> point\n",
    "# 도 -> 그림\n",
    "\n",
    "plt.figure() # 도화지 한 장 준비!\n",
    "plt.scatter(perch_length, perch_weight) # (x좌푯값, y좌푯값)\n",
    "plt.xlabel(\"Length [cm]\")\n",
    "plt.ylabel(\"Weight [g]\")\n",
    "plt.grid() # 격자\n",
    "plt.show()\n"
   ]
  },
  {
   "cell_type": "markdown",
   "id": "8a2a690f-30d6-454e-9931-300a6a3564bd",
   "metadata": {
    "tags": []
   },
   "source": [
    "### **Chapter 02. 데이터 전처리**"
   ]
  },
  {
   "cell_type": "code",
   "execution_count": 4,
   "id": "d93b9837-793a-460f-8f64-4e89411fa85a",
   "metadata": {
    "tags": []
   },
   "outputs": [
    {
     "name": "stdout",
     "output_type": "stream",
     "text": [
      "<class 'list'>\n",
      "<class 'list'>\n"
     ]
    }
   ],
   "source": [
    "print(type(perch_length)) # x (길이)\n",
    "print(type(perch_weight)) # y (무게)"
   ]
  },
  {
   "cell_type": "code",
   "execution_count": 5,
   "id": "40bab039-93da-4aac-84da-8c61259874bc",
   "metadata": {
    "tags": []
   },
   "outputs": [
    {
     "name": "stdout",
     "output_type": "stream",
     "text": [
      "<class 'numpy.ndarray'> <class 'numpy.ndarray'>\n",
      "(56,)\n",
      "(56,)\n"
     ]
    }
   ],
   "source": [
    "import numpy as np\n",
    "\n",
    "x = np.array(perch_length)\n",
    "y = np.array(perch_weight)\n",
    "\n",
    "# ndarray -> n-dimensional array\n",
    "print(type(x), type(y))\n",
    "print(x.shape) # 배열의 모양을 출력해 줌!\n",
    "print(y.shape) #\n"
   ]
  },
  {
   "cell_type": "code",
   "execution_count": 6,
   "id": "8652a95b-aa90-4b2d-b52e-3223658c2df1",
   "metadata": {
    "tags": []
   },
   "outputs": [
    {
     "name": "stdout",
     "output_type": "stream",
     "text": [
      "(42,) (14,)\n",
      "(42,) (14,)\n"
     ]
    }
   ],
   "source": [
    "# 데이터 분할!!!\n",
    "# 1) 학습용 데이터 세트\n",
    "# 2) 시험용 데이터 세트\n",
    "\n",
    "# scikit-learn -> sklearn\n",
    "from sklearn.model_selection import train_test_split\n",
    "\n",
    "# 데이터를 랜덤하게 섞음 -> 데이터 분할\n",
    "# random_state?\n",
    "# 난수 -> 시간 -> 시드(Seed) -> 난수 생성!!!\n",
    "x_train, x_test, y_train, y_test = train_test_split(x, y, random_state=42)\n",
    "\n",
    "print(x_train.shape, x_test.shape)\n",
    "print(y_train.shape, y_test.shape)"
   ]
  },
  {
   "cell_type": "code",
   "execution_count": 7,
   "id": "6ebbc776-549a-4674-b207-4c429b584bbc",
   "metadata": {
    "tags": []
   },
   "outputs": [
    {
     "name": "stdout",
     "output_type": "stream",
     "text": [
      "[1 2 3 4 5 6]\n",
      "(6,)\n",
      "\n",
      "[[1 2 3]\n",
      " [4 5 6]]\n",
      "(2, 3)\n"
     ]
    }
   ],
   "source": [
    "# 데이터 전처리!!\n",
    "# (42, ), (14, ) --> 1-D 배열\n",
    "# 사이킷런은 2-D 배열이 입력될 것으로 기대하고 있음\n",
    "# 1-D ---> 2-D 배열? 어떻게?\n",
    "# reshpe() # re(다시), shape(모양)\n",
    "\n",
    "tmp_arr = np.array([1, 2, 3, 4, 5, 6])\n",
    "print(tmp_arr)\n",
    "print(tmp_arr.shape)\n",
    "\n",
    "print()\n",
    "\n",
    "tmp_arr = tmp_arr.reshape(2, 3) # 가로, 세로\n",
    "print(tmp_arr)\n",
    "print(tmp_arr.shape)"
   ]
  },
  {
   "cell_type": "code",
   "execution_count": 8,
   "id": "d5abb389-b94b-4153-85bb-fefe6cba3219",
   "metadata": {
    "tags": []
   },
   "outputs": [
    {
     "name": "stdout",
     "output_type": "stream",
     "text": [
      "(42, 1)\n",
      "(14, 1)\n"
     ]
    }
   ],
   "source": [
    "x_train = x_train.reshape(42, 1)\n",
    "x_test = x_test.reshape(14, 1)\n",
    "\n",
    "print(x_train.shape)\n",
    "print(x_test.shape)"
   ]
  },
  {
   "cell_type": "markdown",
   "id": "f35c4403-8fca-46f7-b537-57edada2e59b",
   "metadata": {
    "tags": []
   },
   "source": [
    "### **Chapter 03. 선형 회귀**"
   ]
  },
  {
   "cell_type": "code",
   "execution_count": 9,
   "id": "04c005d8-54af-42c7-8c49-ff9b39abbd74",
   "metadata": {
    "tags": []
   },
   "outputs": [
    {
     "name": "stdout",
     "output_type": "stream",
     "text": [
      "[500.51284892 305.4271241 ]\n"
     ]
    }
   ],
   "source": [
    "# 모델 생성\n",
    "from sklearn.linear_model import LinearRegression\n",
    "\n",
    "# 클래스 -> 붕어빵을 찍어내는 기계\n",
    "lr = LinearRegression() # 모델(붕어빵)을 생성해서, lr로 부르겠음!\n",
    "\n",
    "# y = a * x + b\n",
    "# a = ?, b = ?\n",
    "\n",
    "lr.fit(x_train, y_train) # 학습용 데이터 세트를 이용해서, lr을 모델을 학습시킴!\n",
    "\n",
    "print(lr.predict([[31] # 첫 번째 물고기, 길이가 31cm\n",
    "        , [26]])) # 두 번째 물고기, 길이가 26cm"
   ]
  },
  {
   "cell_type": "code",
   "execution_count": 10,
   "id": "1308d63c-b3b4-4efe-925b-6aeb8439aca9",
   "metadata": {
    "tags": []
   },
   "outputs": [
    {
     "name": "stdout",
     "output_type": "stream",
     "text": [
      "[39.01714496]\n",
      "-709.0186449535477\n"
     ]
    }
   ],
   "source": [
    "# y = ax + b\n",
    "# a = 기울기 --> 계수(Coeffient)\n",
    "# b = y절편(y-intercept)\n",
    "\n",
    "print(lr.coef_)\n",
    "print(lr.intercept_)"
   ]
  },
  {
   "cell_type": "code",
   "execution_count": 11,
   "id": "eb640232-5d4b-4956-abd1-e45379f8d5c6",
   "metadata": {
    "tags": []
   },
   "outputs": [
    {
     "data": {
      "image/png": "[encoded data removed]",
      "text/plain": [
       "<Figure size 640x480 with 1 Axes>"
      ]
     },
     "metadata": {},
     "output_type": "display_data"
    }
   ],
   "source": [
    "import matplotlib.pyplot as plt\n",
    "\n",
    "# y = ax + b\n",
    "a = lr.coef_\n",
    "b = lr.intercept_\n",
    "\n",
    "plt.figure()\n",
    "plt.scatter(x_train, y_train, color=\"green\") # (x좌푯값, y좌푯값)\n",
    "\n",
    "plt.scatter([31, 26], [500.51284892, 305.4271241], color=\"skyblue\")\n",
    "\n",
    "plt.plot([15, 50], [a * 15 + b, a * 50 + b], color=\"pink\")\n",
    "\n",
    "plt.xlabel(\"Length [cm]\")\n",
    "plt.ylabel(\"Weight [g]\")\n",
    "plt.grid()\n",
    "plt.show()"
   ]
  },
  {
   "cell_type": "code",
   "execution_count": 12,
   "id": "c060183c-3320-4b30-bc0a-f80abc172835",
   "metadata": {
    "tags": []
   },
   "outputs": [
    {
     "name": "stdout",
     "output_type": "stream",
     "text": [
      "0.8247503123313558\n"
     ]
    }
   ],
   "source": [
    "print(lr.score(x_test, y_test)) # 결정계수 값을 계산해서 반환해줌!"
   ]
  },
  {
   "cell_type": "code",
   "execution_count": 13,
   "id": "cb2ce745-0d17-4627-9f27-340ddc0e7e3d",
   "metadata": {
    "tags": []
   },
   "outputs": [
    {
     "name": "stdout",
     "output_type": "stream",
     "text": [
      "94.46122937985581\n"
     ]
    }
   ],
   "source": [
    "from sklearn.metrics import mean_absolute_error # MAE(평균 절대 오차)\n",
    "\n",
    "y_pred = lr.predict(x_test) # 예측값 얻어냄!\n",
    "\n",
    "mae = mean_absolute_error(y_test, y_pred) # sum(|정답 - 예측값|) / N\n",
    "\n",
    "print(mae) # 0에 가까운 값일수록 학습이 잘 된 모델임!\n",
    "# 예측값에는 평균적으로 약 94g 정도의 오차를 가질  수 있다!"
   ]
  },
  {
   "cell_type": "code",
   "execution_count": 14,
   "id": "0267fb14-de05-49c5-833d-959c5c71ab71",
   "metadata": {
    "tags": []
   },
   "outputs": [
    {
     "name": "stdout",
     "output_type": "stream",
     "text": [
      "0.939846333997604\n",
      "0.8247503123313558\n"
     ]
    }
   ],
   "source": [
    "# 과대적합과 과소적합\n",
    "print(lr.score(x_train, y_train)) # 학습용 데이터에 대한 R^2 값\n",
    "print(lr.score(x_test, y_test)) # 시험용 데이터에 대한 R^2 값\n",
    "\n",
    "# 과소적합!"
   ]
  },
  {
   "cell_type": "markdown",
   "id": "50cb89d3-1925-424a-b22f-a94f3293230c",
   "metadata": {},
   "source": [
    "### **Chapter 04. 다항 회귀**"
   ]
  },
  {
   "cell_type": "code",
   "execution_count": 15,
   "id": "cf836721-a1c2-4449-a684-6887f0b2d4c7",
   "metadata": {
    "tags": []
   },
   "outputs": [
    {
     "name": "stdout",
     "output_type": "stream",
     "text": [
      "(42, 2)\n",
      "(14, 2)\n"
     ]
    }
   ],
   "source": [
    "x_train_poly = np.column_stack((x_train ** 2, x_train))\n",
    "x_test_poly = np.column_stack((x_test ** 2, x_test))\n",
    "\n",
    "print(x_train_poly.shape) # (42, 2)\n",
    "print(x_test_poly.shape) # (14, 2)"
   ]
  },
  {
   "cell_type": "code",
   "execution_count": 16,
   "id": "762c3016-4475-43e1-a822-5585f7a828b7",
   "metadata": {
    "tags": []
   },
   "outputs": [
    {
     "data": {
      "text/html": [
       "<style>#sk-container-id-1 {color: black;}#sk-container-id-1 pre{padding: 0;}#sk-container-id-1 div.sk-toggleable {background-color: white;}#sk-container-id-1 label.sk-toggleable__label {cursor: pointer;display: block;width: 100%;margin-bottom: 0;padding: 0.3em;box-sizing: border-box;text-align: center;}#sk-container-id-1 label.sk-toggleable__label-arrow:before {content: \"▸\";float: left;margin-right: 0.25em;color: #696969;}#sk-container-id-1 label.sk-toggleable__label-arrow:hover:before {color: black;}#sk-container-id-1 div.sk-estimator:hover label.sk-toggleable__label-arrow:before {color: black;}#sk-container-id-1 div.sk-toggleable__content {max-height: 0;max-width: 0;overflow: hidden;text-align: left;background-color: #f0f8ff;}#sk-container-id-1 div.sk-toggleable__content pre {margin: 0.2em;color: black;border-radius: 0.25em;background-color: #f0f8ff;}#sk-container-id-1 input.sk-toggleable__control:checked~div.sk-toggleable__content {max-height: 200px;max-width: 100%;overflow: auto;}#sk-container-id-1 input.sk-toggleable__control:checked~label.sk-toggleable__label-arrow:before {content: \"▾\";}#sk-container-id-1 div.sk-estimator input.sk-toggleable__control:checked~label.sk-toggleable__label {background-color: #d4ebff;}#sk-container-id-1 div.sk-label input.sk-toggleable__control:checked~label.sk-toggleable__label {background-color: #d4ebff;}#sk-container-id-1 input.sk-hidden--visually {border: 0;clip: rect(1px 1px 1px 1px);clip: rect(1px, 1px, 1px, 1px);height: 1px;margin: -1px;overflow: hidden;padding: 0;position: absolute;width: 1px;}#sk-container-id-1 div.sk-estimator {font-family: monospace;background-color: #f0f8ff;border: 1px dotted black;border-radius: 0.25em;box-sizing: border-box;margin-bottom: 0.5em;}#sk-container-id-1 div.sk-estimator:hover {background-color: #d4ebff;}#sk-container-id-1 div.sk-parallel-item::after {content: \"\";width: 100%;border-bottom: 1px solid gray;flex-grow: 1;}#sk-container-id-1 div.sk-label:hover label.sk-toggleable__label {background-color: #d4ebff;}#sk-container-id-1 div.sk-serial::before {content: \"\";position: absolute;border-left: 1px solid gray;box-sizing: border-box;top: 0;bottom: 0;left: 50%;z-index: 0;}#sk-container-id-1 div.sk-serial {display: flex;flex-direction: column;align-items: center;background-color: white;padding-right: 0.2em;padding-left: 0.2em;position: relative;}#sk-container-id-1 div.sk-item {position: relative;z-index: 1;}#sk-container-id-1 div.sk-parallel {display: flex;align-items: stretch;justify-content: center;background-color: white;position: relative;}#sk-container-id-1 div.sk-item::before, #sk-container-id-1 div.sk-parallel-item::before {content: \"\";position: absolute;border-left: 1px solid gray;box-sizing: border-box;top: 0;bottom: 0;left: 50%;z-index: -1;}#sk-container-id-1 div.sk-parallel-item {display: flex;flex-direction: column;z-index: 1;position: relative;background-color: white;}#sk-container-id-1 div.sk-parallel-item:first-child::after {align-self: flex-end;width: 50%;}#sk-container-id-1 div.sk-parallel-item:last-child::after {align-self: flex-start;width: 50%;}#sk-container-id-1 div.sk-parallel-item:only-child::after {width: 0;}#sk-container-id-1 div.sk-dashed-wrapped {border: 1px dashed gray;margin: 0 0.4em 0.5em 0.4em;box-sizing: border-box;padding-bottom: 0.4em;background-color: white;}#sk-container-id-1 div.sk-label label {font-family: monospace;font-weight: bold;display: inline-block;line-height: 1.2em;}#sk-container-id-1 div.sk-label-container {text-align: center;}#sk-container-id-1 div.sk-container {/* jupyter's `normalize.less` sets `[hidden] { display: none; }` but bootstrap.min.css set `[hidden] { display: none !important; }` so we also need the `!important` here to be able to override the default hidden behavior on the sphinx rendered scikit-learn.org. See: https://github.com/scikit-learn/scikit-learn/issues/21755 */display: inline-block !important;position: relative;}#sk-container-id-1 div.sk-text-repr-fallback {display: none;}</style><div id=\"sk-container-id-1\" class=\"sk-top-container\"><div class=\"sk-text-repr-fallback\"><pre>LinearRegression()</pre><b>In a Jupyter environment, please rerun this cell to show the HTML representation or trust the notebook. <br />On GitHub, the HTML representation is unable to render, please try loading this page with nbviewer.org.</b></div><div class=\"sk-container\" hidden><div class=\"sk-item\"><div class=\"sk-estimator sk-toggleable\"><input class=\"sk-toggleable__control sk-hidden--visually\" id=\"sk-estimator-id-1\" type=\"checkbox\" checked><label for=\"sk-estimator-id-1\" class=\"sk-toggleable__label sk-toggleable__label-arrow\">LinearRegression</label><div class=\"sk-toggleable__content\"><pre>LinearRegression()</pre></div></div></div></div></div>"
      ],
      "text/plain": [
       "LinearRegression()"
      ]
     },
     "execution_count": 16,
     "metadata": {},
     "output_type": "execute_result"
    }
   ],
   "source": [
    "lr = LinearRegression() # 붕어빵 생성!!!\n",
    "# y = ax^2 + bx + c\n",
    "\n",
    "lr.fit(x_train_poly, y_train)"
   ]
  },
  {
   "cell_type": "code",
   "execution_count": 17,
   "id": "5dac6846-18d0-4555-b5bc-9326c7e3f726",
   "metadata": {
    "tags": []
   },
   "outputs": [
    {
     "name": "stdout",
     "output_type": "stream",
     "text": [
      "[  1.01433211 -21.55792498]\n",
      "116.05021078278259\n"
     ]
    }
   ],
   "source": [
    "print(lr.coef_)\n",
    "print(lr.intercept_)"
   ]
  },
  {
   "cell_type": "code",
   "execution_count": 18,
   "id": "18de0a4b-969d-4dfb-a40c-e8c8c70f8750",
   "metadata": {
    "tags": []
   },
   "outputs": [
    {
     "data": {
      "image/png": "[encoded data removed]",
      "text/plain": [
       "<Figure size 640x480 with 1 Axes>"
      ]
     },
     "metadata": {},
     "output_type": "display_data"
    }
   ],
   "source": [
    "a = lr.coef_[0]\n",
    "b = lr.coef_[1]\n",
    "c = lr.intercept_\n",
    "\n",
    "# y = ax^2 + bx + c\n",
    "x_pos = np.arange(15, 50, 1) # 시작, 끝, 증감 (15, 16, 17, ..., 49)\n",
    "y_pos = a * (x_pos**2) + b * x_pos + c\n",
    "\n",
    "plt.figure()\n",
    "plt.scatter(x_train, y_train, color=\"green\") # 학습용 데이터 세트\n",
    "\n",
    "# 곡선은 어떻게 그리지?\n",
    "plt.plot(x_pos, y_pos, marker='d', color=\"yellow\", lw=0.5)\n",
    "\n",
    "plt.xlabel(\"Length [cm]\")\n",
    "plt.ylabel(\"Weight [g]\")\n",
    "plt.grid()\n",
    "plt.show()"
   ]
  },
  {
   "cell_type": "code",
   "execution_count": 19,
   "id": "b054b270-5022-4203-a1d9-d7832817c038",
   "metadata": {
    "tags": []
   },
   "outputs": [
    {
     "name": "stdout",
     "output_type": "stream",
     "text": [
      "0.9706807451768623\n",
      "0.9775935108325121\n"
     ]
    }
   ],
   "source": [
    "print(lr.score(x_train_poly, y_train)) # 학습용 데이터에 대한 R^2 값\n",
    "print(lr.score(x_test_poly, y_test)) # 시험용 데이터에 대한 R^2 값\n",
    "\n",
    "# 과소적합 문제가 발생했다!"
   ]
  },
  {
   "cell_type": "code",
   "execution_count": 20,
   "id": "6052c4ec-4373-4860-902f-7d65135f87b2",
   "metadata": {},
   "outputs": [],
   "source": [
    "# 규제(Reguralization) <-- Lecture 08 주제\n",
    "# 1) 라쏘(Lasso)\n",
    "# 2) 릿지(Ridge)\n",
    "# 3) 엘라스틱 넷(Elastic Net) = 라쏘 + 릿지"
   ]
  }
 ],
 "metadata": {
  "kernelspec": {
   "display_name": "Python 3 (ipykernel)",
   "language": "python",
   "name": "python3"
  },
  "language_info": {
   "codemirror_mode": {
    "name": "ipython",
    "version": 3
   },
   "file_extension": ".py",
   "mimetype": "text/x-python",
   "name": "python",
   "nbconvert_exporter": "python",
   "pygments_lexer": "ipython3",
   "version": "3.11.4"
  }
 },
 "nbformat": 4,
 "nbformat_minor": 5
}
